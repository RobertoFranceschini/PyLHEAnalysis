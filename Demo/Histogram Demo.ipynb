{
 "cells": [
  {
   "cell_type": "code",
   "execution_count": 40,
   "metadata": {
    "ExecuteTime": {
     "end_time": "2019-06-02T23:16:30.800181Z",
     "start_time": "2019-06-02T23:16:30.796763Z"
    },
    "init_cell": true
   },
   "outputs": [],
   "source": [
    "#import Histogram as hst\n",
    "import NumpyClasses as npc\n",
    "import numpy as np\n",
    "import matplotlib.pyplot as plt\n",
    "import utils as u"
   ]
  },
  {
   "cell_type": "code",
   "execution_count": 41,
   "metadata": {
    "ExecuteTime": {
     "end_time": "2019-06-02T23:16:30.806423Z",
     "start_time": "2019-06-02T23:16:30.802455Z"
    },
    "init_cell": true
   },
   "outputs": [],
   "source": [
    "import importlib"
   ]
  },
  {
   "cell_type": "code",
   "execution_count": 42,
   "metadata": {
    "ExecuteTime": {
     "end_time": "2019-06-02T23:16:30.819227Z",
     "start_time": "2019-06-02T23:16:30.809154Z"
    },
    "init_cell": true,
    "scrolled": true
   },
   "outputs": [
    {
     "data": {
      "text/plain": [
       "<module 'NumpyClasses' from '/Users/roberto/humanroot/utils/PyLHEanalysis/NumpyClasses.py'>"
      ]
     },
     "execution_count": 42,
     "metadata": {},
     "output_type": "execute_result"
    }
   ],
   "source": [
    "importlib.reload(npc)"
   ]
  },
  {
   "cell_type": "code",
   "execution_count": 43,
   "metadata": {
    "ExecuteTime": {
     "end_time": "2019-06-02T23:16:30.830683Z",
     "start_time": "2019-06-02T23:16:30.821331Z"
    },
    "init_cell": true,
    "scrolled": true
   },
   "outputs": [
    {
     "data": {
      "text/plain": [
       "<module 'matplotlib.pyplot' from '/usr/local/Cellar/python/3.7.0/Frameworks/Python.framework/Versions/3.7/lib/python3.7/site-packages/matplotlib/pyplot.py'>"
      ]
     },
     "execution_count": 43,
     "metadata": {},
     "output_type": "execute_result"
    }
   ],
   "source": [
    "importlib.reload(plt)"
   ]
  },
  {
   "cell_type": "code",
   "execution_count": 13,
   "metadata": {
    "ExecuteTime": {
     "end_time": "2019-06-02T21:33:33.307279Z",
     "start_time": "2019-06-02T21:33:33.303151Z"
    }
   },
   "outputs": [
    {
     "data": {
      "text/plain": [
       "'3.1.0'"
      ]
     },
     "execution_count": 13,
     "metadata": {},
     "output_type": "execute_result"
    }
   ],
   "source": [
    "import matplotlib\n",
    "matplotlib.__version__"
   ]
  },
  {
   "cell_type": "code",
   "execution_count": 44,
   "metadata": {
    "ExecuteTime": {
     "end_time": "2019-06-02T23:16:31.238393Z",
     "start_time": "2019-06-02T23:16:30.833620Z"
    },
    "init_cell": true,
    "scrolled": true
   },
   "outputs": [
    {
     "data": {
      "text/plain": [
       "<module 'utils' from '/Users/roberto/scriptbelt/utils.py'>"
      ]
     },
     "execution_count": 44,
     "metadata": {},
     "output_type": "execute_result"
    },
    {
     "data": {
      "image/png": "[encoded data removed]",
      "text/plain": [
       "<Figure size 432x288 with 2 Axes>"
      ]
     },
     "metadata": {},
     "output_type": "display_data"
    }
   ],
   "source": [
    "importlib.reload(u)"
   ]
  },
  {
   "cell_type": "markdown",
   "metadata": {
    "heading_collapsed": true
   },
   "source": [
    "### 1D constructors from Histograms"
   ]
  },
  {
   "cell_type": "code",
   "execution_count": 52,
   "metadata": {
    "ExecuteTime": {
     "end_time": "2019-03-13T11:11:22.553353Z",
     "start_time": "2019-03-13T11:11:22.550671Z"
    },
    "hidden": true
   },
   "outputs": [],
   "source": [
    "hAtInit = hst.Histogram(counts=[11,12,13])"
   ]
  },
  {
   "cell_type": "code",
   "execution_count": 53,
   "metadata": {
    "ExecuteTime": {
     "end_time": "2019-03-13T11:11:24.250461Z",
     "start_time": "2019-03-13T11:11:24.246350Z"
    },
    "hidden": true
   },
   "outputs": [
    {
     "data": {
      "text/plain": [
       "array([11, 12, 13])"
      ]
     },
     "execution_count": 53,
     "metadata": {},
     "output_type": "execute_result"
    }
   ],
   "source": [
    "hAtInit.counts"
   ]
  },
  {
   "cell_type": "code",
   "execution_count": 54,
   "metadata": {
    "ExecuteTime": {
     "end_time": "2019-03-13T11:11:28.907413Z",
     "start_time": "2019-03-13T11:11:28.903168Z"
    },
    "hidden": true
   },
   "outputs": [
    {
     "data": {
      "text/plain": [
       "array([], dtype=float64)"
      ]
     },
     "execution_count": 54,
     "metadata": {},
     "output_type": "execute_result"
    }
   ],
   "source": [
    "hAtInit.uncertainties"
   ]
  },
  {
   "cell_type": "code",
   "execution_count": 21,
   "metadata": {
    "ExecuteTime": {
     "end_time": "2019-03-13T09:55:33.108430Z",
     "start_time": "2019-03-13T09:55:33.106031Z"
    },
    "hidden": true
   },
   "outputs": [],
   "source": [
    "h1 = hst.Histogram()"
   ]
  },
  {
   "cell_type": "code",
   "execution_count": 28,
   "metadata": {
    "ExecuteTime": {
     "end_time": "2019-03-13T09:56:22.892101Z",
     "start_time": "2019-03-13T09:56:22.889980Z"
    },
    "hidden": true
   },
   "outputs": [],
   "source": [
    "h1.values=np.array([100,16,9])"
   ]
  },
  {
   "cell_type": "code",
   "execution_count": 23,
   "metadata": {
    "ExecuteTime": {
     "end_time": "2019-03-13T09:55:38.300677Z",
     "start_time": "2019-03-13T09:55:38.298364Z"
    },
    "hidden": true
   },
   "outputs": [],
   "source": [
    "h2 = hst.Histogram()"
   ]
  },
  {
   "cell_type": "code",
   "execution_count": 43,
   "metadata": {
    "ExecuteTime": {
     "end_time": "2019-03-13T09:59:52.986671Z",
     "start_time": "2019-03-13T09:59:52.982731Z"
    },
    "hidden": true
   },
   "outputs": [],
   "source": [
    "h2.values=4*np.array([100,16,9])"
   ]
  },
  {
   "cell_type": "code",
   "execution_count": 44,
   "metadata": {
    "ExecuteTime": {
     "end_time": "2019-03-13T09:59:53.452756Z",
     "start_time": "2019-03-13T09:59:53.449853Z"
    },
    "hidden": true
   },
   "outputs": [],
   "source": [
    "h12=h1.ratio(h2,uncertainties=\"Gauss\")"
   ]
  },
  {
   "cell_type": "code",
   "execution_count": 45,
   "metadata": {
    "ExecuteTime": {
     "end_time": "2019-03-13T09:59:54.694965Z",
     "start_time": "2019-03-13T09:59:54.691095Z"
    },
    "hidden": true
   },
   "outputs": [
    {
     "data": {
      "text/plain": [
       "array([0.25, 0.25, 0.25])"
      ]
     },
     "execution_count": 45,
     "metadata": {},
     "output_type": "execute_result"
    }
   ],
   "source": [
    "h12.values"
   ]
  },
  {
   "cell_type": "code",
   "execution_count": 46,
   "metadata": {
    "ExecuteTime": {
     "end_time": "2019-03-13T09:59:56.519599Z",
     "start_time": "2019-03-13T09:59:56.515045Z"
    },
    "hidden": true
   },
   "outputs": [
    {
     "data": {
      "text/plain": [
       "array([0.02795085, 0.06987712, 0.0931695 ])"
      ]
     },
     "execution_count": 46,
     "metadata": {},
     "output_type": "execute_result"
    }
   ],
   "source": [
    "h12.uncertainties"
   ]
  },
  {
   "cell_type": "code",
   "execution_count": 48,
   "metadata": {
    "ExecuteTime": {
     "end_time": "2019-03-13T10:00:15.010391Z",
     "start_time": "2019-03-13T10:00:15.005180Z"
    },
    "hidden": true
   },
   "outputs": [
    {
     "data": {
      "text/plain": [
       "0.02795084971874737"
      ]
     },
     "execution_count": 48,
     "metadata": {},
     "output_type": "execute_result"
    }
   ],
   "source": [
    "0.25*np.sqrt(1/100+1/400)"
   ]
  },
  {
   "cell_type": "markdown",
   "metadata": {
    "heading_collapsed": true
   },
   "source": [
    "### 1D constructors from NumpyClasses"
   ]
  },
  {
   "cell_type": "code",
   "execution_count": 78,
   "metadata": {
    "ExecuteTime": {
     "end_time": "2019-03-14T09:31:22.571389Z",
     "start_time": "2019-03-14T09:31:22.240556Z"
    },
    "hidden": true
   },
   "outputs": [
    {
     "data": {
      "image/png": "[encoded data removed]",
      "text/plain": [
       "<Figure size 432x288 with 1 Axes>"
      ]
     },
     "metadata": {},
     "output_type": "display_data"
    }
   ],
   "source": [
    "data = np.random.rand(322)\n",
    "# make the histogram with NumPy\n",
    "nph = np.histogram( data ) \n",
    "# then create a 1DHistogramData holder from the tuple output of np.histogram\n",
    "h1d = NumpyClasses.Numpy1DHistogramData(tup = nph )\n",
    "# make the same histogram from Matplotlib\n",
    "mplh= plt.hist( data )\n",
    "# create the 1DHistogramData from the tuple output (which now has the \"patches\" output as well)\n",
    "h1dmpl = NumpyClasses.Numpy1DHistogramData(tup = mplh )\n",
    "# the same creation of Histogram objects can be carried out on the derived class Histogram, which inherits from 1DHistogramData \n",
    "nph = np.histogram( data ) \n",
    "hsimplenp = hst.Histogram(tup = nph )\n",
    "\n",
    "mplh= plt.hist( data )\n",
    "h1dmplsimple = hst.Histogram(tup = mplh )"
   ]
  },
  {
   "cell_type": "markdown",
   "metadata": {
    "hidden": true
   },
   "source": [
    "###### Can check the histograms contain the same things"
   ]
  },
  {
   "cell_type": "code",
   "execution_count": 72,
   "metadata": {
    "ExecuteTime": {
     "end_time": "2019-03-13T11:17:23.318935Z",
     "start_time": "2019-03-13T11:17:23.314440Z"
    },
    "hidden": true
   },
   "outputs": [
    {
     "data": {
      "text/plain": [
       "array([0.00247947, 0.10177423, 0.20106898, 0.30036373, 0.39965848,\n",
       "       0.49895324, 0.59824799, 0.69754274, 0.79683749, 0.89613225,\n",
       "       0.995427  ])"
      ]
     },
     "execution_count": 72,
     "metadata": {},
     "output_type": "execute_result"
    }
   ],
   "source": [
    "h1d.bins"
   ]
  },
  {
   "cell_type": "code",
   "execution_count": 73,
   "metadata": {
    "ExecuteTime": {
     "end_time": "2019-03-13T11:17:24.775830Z",
     "start_time": "2019-03-13T11:17:24.771137Z"
    },
    "hidden": true
   },
   "outputs": [
    {
     "data": {
      "text/plain": [
       "array([0.00247947, 0.10177423, 0.20106898, 0.30036373, 0.39965848,\n",
       "       0.49895324, 0.59824799, 0.69754274, 0.79683749, 0.89613225,\n",
       "       0.995427  ])"
      ]
     },
     "execution_count": 73,
     "metadata": {},
     "output_type": "execute_result"
    }
   ],
   "source": [
    "h1dmpl.bins"
   ]
  },
  {
   "cell_type": "code",
   "execution_count": 74,
   "metadata": {
    "ExecuteTime": {
     "end_time": "2019-03-13T11:17:25.711100Z",
     "start_time": "2019-03-13T11:17:25.707011Z"
    },
    "hidden": true
   },
   "outputs": [
    {
     "data": {
      "text/plain": [
       "array([0.00247947, 0.10177423, 0.20106898, 0.30036373, 0.39965848,\n",
       "       0.49895324, 0.59824799, 0.69754274, 0.79683749, 0.89613225,\n",
       "       0.995427  ])"
      ]
     },
     "execution_count": 74,
     "metadata": {},
     "output_type": "execute_result"
    }
   ],
   "source": [
    "hsimplenp.bins"
   ]
  },
  {
   "cell_type": "code",
   "execution_count": 75,
   "metadata": {
    "ExecuteTime": {
     "end_time": "2019-03-13T11:17:26.519730Z",
     "start_time": "2019-03-13T11:17:26.515106Z"
    },
    "hidden": true
   },
   "outputs": [
    {
     "data": {
      "text/plain": [
       "array([0.00247947, 0.10177423, 0.20106898, 0.30036373, 0.39965848,\n",
       "       0.49895324, 0.59824799, 0.69754274, 0.79683749, 0.89613225,\n",
       "       0.995427  ])"
      ]
     },
     "execution_count": 75,
     "metadata": {},
     "output_type": "execute_result"
    }
   ],
   "source": [
    "h1dmplsimple.bins"
   ]
  },
  {
   "cell_type": "code",
   "execution_count": 76,
   "metadata": {
    "ExecuteTime": {
     "end_time": "2019-03-13T11:17:37.119650Z",
     "start_time": "2019-03-13T11:17:37.116044Z"
    },
    "hidden": true
   },
   "outputs": [
    {
     "data": {
      "text/plain": [
       "array([37, 30, 39, 39, 30, 32, 28, 32, 33, 22])"
      ]
     },
     "execution_count": 76,
     "metadata": {},
     "output_type": "execute_result"
    }
   ],
   "source": [
    "h1d.counts"
   ]
  },
  {
   "cell_type": "code",
   "execution_count": 77,
   "metadata": {
    "ExecuteTime": {
     "end_time": "2019-03-13T11:17:48.513802Z",
     "start_time": "2019-03-13T11:17:48.510103Z"
    },
    "hidden": true
   },
   "outputs": [
    {
     "data": {
      "text/plain": [
       "array([37., 30., 39., 39., 30., 32., 28., 32., 33., 22.])"
      ]
     },
     "execution_count": 77,
     "metadata": {},
     "output_type": "execute_result"
    }
   ],
   "source": [
    "h1dmplsimple.counts"
   ]
  },
  {
   "cell_type": "markdown",
   "metadata": {},
   "source": [
    "### 1D constructors from NumpyClasses (standardized)"
   ]
  },
  {
   "cell_type": "code",
   "execution_count": 448,
   "metadata": {
    "ExecuteTime": {
     "end_time": "2019-06-01T19:14:47.325068Z",
     "start_time": "2019-06-01T19:14:47.162133Z"
    }
   },
   "outputs": [
    {
     "data": {
      "image/png": "[encoded data removed]",
      "text/plain": [
       "<Figure size 432x288 with 1 Axes>"
      ]
     },
     "metadata": {},
     "output_type": "display_data"
    }
   ],
   "source": [
    "data = np.random.rand(322)\n",
    "# make the histogram with NumPy\n",
    "nph = np.histogram( data ) \n",
    "# then create a 1DHistogramData holder from the tuple output of np.histogram\n",
    "h1d = npc.NumpyHistogramData(tup = nph )\n",
    "# make the same histogram from Matplotlib\n",
    "mplh= plt.hist( data )\n",
    "# create the 1DHistogramData from the tuple output (which now has the \"patches\" output as well)\n",
    "h1dmpl = npc.NumpyHistogramData(tup = mplh )\n",
    "# the same creation of Histogram objects can be carried out on the derived class Histogram, which inherits from 1DHistogramData \n",
    "nph = np.histogram( data ) \n",
    "mplh= plt.hist( data )\n"
   ]
  },
  {
   "cell_type": "markdown",
   "metadata": {},
   "source": [
    "###### Can check the histograms contain the same things"
   ]
  },
  {
   "cell_type": "code",
   "execution_count": 449,
   "metadata": {
    "ExecuteTime": {
     "end_time": "2019-06-01T19:14:51.373046Z",
     "start_time": "2019-06-01T19:14:51.368363Z"
    }
   },
   "outputs": [
    {
     "data": {
      "text/plain": [
       "array([0.0053419 , 0.10477464, 0.20420737, 0.3036401 , 0.40307284,\n",
       "       0.50250557, 0.6019383 , 0.70137103, 0.80080377, 0.9002365 ,\n",
       "       0.99966923])"
      ]
     },
     "execution_count": 449,
     "metadata": {},
     "output_type": "execute_result"
    }
   ],
   "source": [
    "h1d.bins"
   ]
  },
  {
   "cell_type": "code",
   "execution_count": 450,
   "metadata": {
    "ExecuteTime": {
     "end_time": "2019-06-01T19:14:52.251704Z",
     "start_time": "2019-06-01T19:14:52.247666Z"
    }
   },
   "outputs": [
    {
     "data": {
      "text/plain": [
       "array([0.0053419 , 0.10477464, 0.20420737, 0.3036401 , 0.40307284,\n",
       "       0.50250557, 0.6019383 , 0.70137103, 0.80080377, 0.9002365 ,\n",
       "       0.99966923])"
      ]
     },
     "execution_count": 450,
     "metadata": {},
     "output_type": "execute_result"
    }
   ],
   "source": [
    "h1dmpl.bins"
   ]
  },
  {
   "cell_type": "code",
   "execution_count": 451,
   "metadata": {
    "ExecuteTime": {
     "end_time": "2019-06-01T19:14:53.343154Z",
     "start_time": "2019-06-01T19:14:53.338967Z"
    }
   },
   "outputs": [
    {
     "data": {
      "text/plain": [
       "array([0.0053419 , 0.10477464, 0.20420737, 0.3036401 , 0.40307284,\n",
       "       0.50250557, 0.6019383 , 0.70137103, 0.80080377, 0.9002365 ,\n",
       "       0.99966923])"
      ]
     },
     "execution_count": 451,
     "metadata": {},
     "output_type": "execute_result"
    }
   ],
   "source": [
    "h1d.edges"
   ]
  },
  {
   "cell_type": "code",
   "execution_count": 452,
   "metadata": {
    "ExecuteTime": {
     "end_time": "2019-06-01T19:14:54.320232Z",
     "start_time": "2019-06-01T19:14:54.316108Z"
    }
   },
   "outputs": [
    {
     "data": {
      "text/plain": [
       "array([30., 42., 33., 25., 36., 23., 34., 34., 29., 36.])"
      ]
     },
     "execution_count": 452,
     "metadata": {},
     "output_type": "execute_result"
    }
   ],
   "source": [
    "h1dmpl.counts"
   ]
  },
  {
   "cell_type": "code",
   "execution_count": 453,
   "metadata": {
    "ExecuteTime": {
     "end_time": "2019-06-01T19:14:55.394102Z",
     "start_time": "2019-06-01T19:14:55.390646Z"
    }
   },
   "outputs": [
    {
     "data": {
      "text/plain": [
       "array([30, 42, 33, 25, 36, 23, 34, 34, 29, 36])"
      ]
     },
     "execution_count": 453,
     "metadata": {},
     "output_type": "execute_result"
    }
   ],
   "source": [
    "h1d.counts"
   ]
  },
  {
   "cell_type": "markdown",
   "metadata": {},
   "source": [
    "### Multiple Histograms"
   ]
  },
  {
   "cell_type": "code",
   "execution_count": 565,
   "metadata": {
    "ExecuteTime": {
     "end_time": "2019-06-01T19:55:06.880405Z",
     "start_time": "2019-06-01T19:55:06.874470Z"
    }
   },
   "outputs": [],
   "source": [
    "data2 =[ np.random.power(i,10000) for i in [2,4,8] ] # 3 data samples of which I can make a histogram"
   ]
  },
  {
   "cell_type": "markdown",
   "metadata": {},
   "source": [
    "#### Plot the data with npc_hist"
   ]
  },
  {
   "cell_type": "code",
   "execution_count": 566,
   "metadata": {
    "ExecuteTime": {
     "end_time": "2019-06-01T19:55:06.957275Z",
     "start_time": "2019-06-01T19:55:06.951710Z"
    }
   },
   "outputs": [],
   "source": [
    "# Work in progress for a better plot function that returns directly the standardized tuple\n",
    "# will become npc.hist to replace plt.hist\n",
    "def npc_hist(data,bins,label=None,histtype='step',**kwargs):\n",
    "    \n",
    "    ##############################################\n",
    "    def make_label(labels,h):\n",
    "        ##############################################\n",
    "        try:\n",
    "            return labels[h]\n",
    "        except IndexError:\n",
    "            return \"\"\n",
    "        except TypeError:\n",
    "            return \"\"\n",
    "        \n",
    "    mplHistoMulpliple_Tuple = plt.hist( data ,histtype=histtype, bins=bins,label=label,**kwargs)\n",
    "    histos = npc.NumpyVectorHistogramData(tup = mplHistoMulpliple_Tuple)\n",
    "\n",
    "    if label != None:\n",
    "        plt.legend(bbox_to_anchor=[1,1])\n",
    "        for h in range(len(histos.histograms) ):\n",
    "            histos.histograms[h].label = make_label(label,h)\n",
    "    return histos"
   ]
  },
  {
   "cell_type": "code",
   "execution_count": 567,
   "metadata": {
    "ExecuteTime": {
     "end_time": "2019-06-01T19:55:07.137365Z",
     "start_time": "2019-06-01T19:55:06.959705Z"
    }
   },
   "outputs": [
    {
     "data": {
      "image/png": "[encoded data removed]",
      "text/plain": [
       "<Figure size 432x288 with 1 Axes>"
      ]
     },
     "metadata": {},
     "output_type": "display_data"
    }
   ],
   "source": [
    "npc_histos = npc_hist(data2,u.arange(0,1,0.1),label=['1','2','3'],histtype='step')\n",
    "plt.title(\"pp\");"
   ]
  },
  {
   "cell_type": "markdown",
   "metadata": {},
   "source": [
    "- check the label"
   ]
  },
  {
   "cell_type": "code",
   "execution_count": 568,
   "metadata": {
    "ExecuteTime": {
     "end_time": "2019-06-01T19:55:07.143352Z",
     "start_time": "2019-06-01T19:55:07.139557Z"
    }
   },
   "outputs": [
    {
     "data": {
      "text/plain": [
       "'3'"
      ]
     },
     "execution_count": 568,
     "metadata": {},
     "output_type": "execute_result"
    }
   ],
   "source": [
    "npc_histos.histograms[2].label"
   ]
  },
  {
   "cell_type": "markdown",
   "metadata": {},
   "source": [
    "##### Re-make the plot using the info in the _NumpyClasses.NumpyVectorHistogramData_"
   ]
  },
  {
   "cell_type": "code",
   "execution_count": 569,
   "metadata": {
    "ExecuteTime": {
     "end_time": "2019-06-01T19:55:07.317403Z",
     "start_time": "2019-06-01T19:55:07.145456Z"
    },
    "scrolled": true
   },
   "outputs": [
    {
     "data": {
      "text/plain": [
       "<matplotlib.axes._subplots.AxesSubplot at 0x121a944a8>"
      ]
     },
     "execution_count": 569,
     "metadata": {},
     "output_type": "execute_result"
    },
    {
     "data": {
      "image/png": "[encoded data removed]",
      "text/plain": [
       "<Figure size 432x288 with 1 Axes>"
      ]
     },
     "metadata": {},
     "output_type": "display_data"
    }
   ],
   "source": [
    "npc.histoPlot(npc_histos.histograms[0])"
   ]
  },
  {
   "cell_type": "code",
   "execution_count": 570,
   "metadata": {
    "ExecuteTime": {
     "end_time": "2019-06-01T19:55:07.506953Z",
     "start_time": "2019-06-01T19:55:07.319258Z"
    },
    "scrolled": true
   },
   "outputs": [
    {
     "data": {
      "text/plain": [
       "<matplotlib.axes._subplots.AxesSubplot at 0x121af3588>"
      ]
     },
     "execution_count": 570,
     "metadata": {},
     "output_type": "execute_result"
    },
    {
     "data": {
      "image/png": "[encoded data removed]",
      "text/plain": [
       "<Figure size 432x288 with 1 Axes>"
      ]
     },
     "metadata": {},
     "output_type": "display_data"
    }
   ],
   "source": [
    "npc.histoPlots(npc_histos)"
   ]
  },
  {
   "cell_type": "code",
   "execution_count": 571,
   "metadata": {
    "ExecuteTime": {
     "end_time": "2019-06-01T19:55:07.688119Z",
     "start_time": "2019-06-01T19:55:07.508977Z"
    },
    "scrolled": true
   },
   "outputs": [
    {
     "data": {
      "text/plain": [
       "<matplotlib.axes._subplots.AxesSubplot at 0x121b888d0>"
      ]
     },
     "execution_count": 571,
     "metadata": {},
     "output_type": "execute_result"
    },
    {
     "data": {
      "image/png": "[encoded data removed]",
      "text/plain": [
       "<Figure size 432x288 with 1 Axes>"
      ]
     },
     "metadata": {},
     "output_type": "display_data"
    }
   ],
   "source": [
    "npc.histoPlots(npc_histos,labels=['1','2','3'])"
   ]
  },
  {
   "cell_type": "markdown",
   "metadata": {},
   "source": [
    "- replot only a subset of the histograms"
   ]
  },
  {
   "cell_type": "code",
   "execution_count": 572,
   "metadata": {
    "ExecuteTime": {
     "end_time": "2019-06-01T19:55:07.868271Z",
     "start_time": "2019-06-01T19:55:07.690049Z"
    },
    "scrolled": true
   },
   "outputs": [
    {
     "data": {
      "text/plain": [
       "<matplotlib.axes._subplots.AxesSubplot at 0x121c03eb8>"
      ]
     },
     "execution_count": 572,
     "metadata": {},
     "output_type": "execute_result"
    },
    {
     "data": {
      "image/png": "[encoded data removed]",
      "text/plain": [
       "<Figure size 432x288 with 1 Axes>"
      ]
     },
     "metadata": {},
     "output_type": "display_data"
    }
   ],
   "source": [
    "npc.histoPlots(npc_histos,subset=[0,1,2])"
   ]
  },
  {
   "cell_type": "markdown",
   "metadata": {},
   "source": [
    "#### Plot with Matplotlib "
   ]
  },
  {
   "cell_type": "code",
   "execution_count": 573,
   "metadata": {
    "ExecuteTime": {
     "end_time": "2019-06-01T19:55:08.056620Z",
     "start_time": "2019-06-01T19:55:07.870410Z"
    }
   },
   "outputs": [
    {
     "data": {
      "text/plain": [
       "<matplotlib.legend.Legend at 0x121c03b38>"
      ]
     },
     "execution_count": 573,
     "metadata": {},
     "output_type": "execute_result"
    },
    {
     "data": {
      "image/png": "[encoded data removed]",
      "text/plain": [
       "<Figure size 432x288 with 1 Axes>"
      ]
     },
     "metadata": {},
     "output_type": "display_data"
    }
   ],
   "source": [
    "mplHistoMulplipleTuple = plt.hist( data2 , histtype='step', bins=u.arange(0,1,0.1),label=[\"a\",\"b\",\"c\"])\n",
    "plt.legend(bbox_to_anchor=[1,1])"
   ]
  },
  {
   "cell_type": "markdown",
   "metadata": {},
   "source": [
    "save the plot as histograms in a NumpyClasses object"
   ]
  },
  {
   "cell_type": "code",
   "execution_count": 574,
   "metadata": {
    "ExecuteTime": {
     "end_time": "2019-06-01T19:55:08.061742Z",
     "start_time": "2019-06-01T19:55:08.058784Z"
    }
   },
   "outputs": [],
   "source": [
    "histos = npc.NumpyVectorHistogramData(tup = mplHistoMulplipleTuple)"
   ]
  },
  {
   "cell_type": "code",
   "execution_count": 575,
   "metadata": {
    "ExecuteTime": {
     "end_time": "2019-06-01T19:55:08.070375Z",
     "start_time": "2019-06-01T19:55:08.063676Z"
    }
   },
   "outputs": [
    {
     "data": {
      "text/plain": [
       "array([ True,  True,  True,  True,  True,  True,  True,  True,  True,\n",
       "        True,  True])"
      ]
     },
     "execution_count": 575,
     "metadata": {},
     "output_type": "execute_result"
    }
   ],
   "source": [
    "histos.histograms[0].bins==histos.histograms[0].bins"
   ]
  },
  {
   "cell_type": "markdown",
   "metadata": {},
   "source": [
    "plot again only a subset of the histograms"
   ]
  },
  {
   "cell_type": "code",
   "execution_count": 576,
   "metadata": {
    "ExecuteTime": {
     "end_time": "2019-06-01T19:55:08.253760Z",
     "start_time": "2019-06-01T19:55:08.072443Z"
    }
   },
   "outputs": [
    {
     "data": {
      "text/plain": [
       "<matplotlib.legend.Legend at 0x121e0dc88>"
      ]
     },
     "execution_count": 576,
     "metadata": {},
     "output_type": "execute_result"
    },
    {
     "data": {
      "image/png": "[encoded data removed]",
      "text/plain": [
       "<Figure size 432x288 with 1 Axes>"
      ]
     },
     "metadata": {},
     "output_type": "display_data"
    }
   ],
   "source": [
    "ax = npc.histoPlot(histos.histograms[0],label='a')\n",
    "npc.histoPlot(histos.histograms[1],linewidth=3, ax=ax,label='b')\n",
    "ax.legend(bbox_to_anchor=[1,1])"
   ]
  },
  {
   "cell_type": "markdown",
   "metadata": {},
   "source": [
    "plot them all with a specific function"
   ]
  },
  {
   "cell_type": "code",
   "execution_count": 577,
   "metadata": {
    "ExecuteTime": {
     "end_time": "2019-06-01T19:55:08.467098Z",
     "start_time": "2019-06-01T19:55:08.255907Z"
    }
   },
   "outputs": [
    {
     "data": {
      "text/plain": [
       "<matplotlib.axes._subplots.AxesSubplot at 0x121e51b00>"
      ]
     },
     "execution_count": 577,
     "metadata": {},
     "output_type": "execute_result"
    },
    {
     "data": {
      "image/png": "[encoded data removed]",
      "text/plain": [
       "<Figure size 432x288 with 1 Axes>"
      ]
     },
     "metadata": {},
     "output_type": "display_data"
    }
   ],
   "source": [
    "npc.histoPlots(histos,labels=['A','B'],subset=[0,1])#,fmt='o')"
   ]
  },
  {
   "cell_type": "markdown",
   "metadata": {},
   "source": [
    "plot a subset with a function"
   ]
  },
  {
   "cell_type": "code",
   "execution_count": 578,
   "metadata": {
    "ExecuteTime": {
     "end_time": "2019-06-01T19:55:08.661400Z",
     "start_time": "2019-06-01T19:55:08.469375Z"
    }
   },
   "outputs": [
    {
     "data": {
      "text/plain": [
       "<matplotlib.axes._subplots.AxesSubplot at 0x121e2dcf8>"
      ]
     },
     "execution_count": 578,
     "metadata": {},
     "output_type": "execute_result"
    },
    {
     "data": {
      "image/png": "[encoded data removed]",
      "text/plain": [
       "<Figure size 432x288 with 1 Axes>"
      ]
     },
     "metadata": {},
     "output_type": "display_data"
    }
   ],
   "source": [
    "npc.histoPlots(histos,labels=['A','B'],subset=[0])#,fmt='o')"
   ]
  },
  {
   "cell_type": "markdown",
   "metadata": {},
   "source": [
    "####  Ratios and uncertainties"
   ]
  },
  {
   "cell_type": "markdown",
   "metadata": {},
   "source": [
    "compute the ratio of the histograms and compute uncertainties assuming the total number of points in each histogram is $10^4$"
   ]
  },
  {
   "cell_type": "code",
   "execution_count": 579,
   "metadata": {
    "ExecuteTime": {
     "end_time": "2019-06-01T19:55:08.667199Z",
     "start_time": "2019-06-01T19:55:08.663722Z"
    }
   },
   "outputs": [
    {
     "name": "stderr",
     "output_type": "stream",
     "text": [
      "/Users/roberto/humanroot/utils/PyLHEanalysis/NumpyClasses.py:249: RuntimeWarning: invalid value encountered in true_divide\n",
      "  result.uncertainties = self.counts/h2.counts * u.sumQuadrature( [  np.sqrt(h2.counts)/h2.counts/np.sqrt(_rescaling2) ,  np.sqrt(self.counts)/self.counts /np.sqrt(_rescaling1) ]  )\n"
     ]
    }
   ],
   "source": [
    "histosRatios=npc.ratioList(npc_histos,wrt=0,uncertainties=1000)"
   ]
  },
  {
   "cell_type": "markdown",
   "metadata": {
    "ExecuteTime": {
     "end_time": "2019-03-15T18:08:26.904805Z",
     "start_time": "2019-03-15T18:08:26.900833Z"
    }
   },
   "source": [
    "plot the histograms again one by one by hand"
   ]
  },
  {
   "cell_type": "code",
   "execution_count": 580,
   "metadata": {
    "ExecuteTime": {
     "end_time": "2019-06-01T19:55:08.894755Z",
     "start_time": "2019-06-01T19:55:08.669485Z"
    }
   },
   "outputs": [
    {
     "data": {
      "text/plain": [
       "<matplotlib.legend.Legend at 0x1220c0cf8>"
      ]
     },
     "execution_count": 580,
     "metadata": {},
     "output_type": "execute_result"
    },
    {
     "data": {
      "image/png": "[encoded data removed]",
      "text/plain": [
       "<Figure size 432x288 with 1 Axes>"
      ]
     },
     "metadata": {},
     "output_type": "display_data"
    }
   ],
   "source": [
    "ax = npc.histoPlot(histosRatios.histograms[0],fmt='s',label='1',mfc='none')\n",
    "npc.histoPlot(histosRatios.histograms[1],lighter_error=1,fmt='.',ax=ax,label='2')\n",
    "plt.legend(bbox_to_anchor=[1,1])"
   ]
  },
  {
   "cell_type": "markdown",
   "metadata": {},
   "source": [
    "plot all of them with a function"
   ]
  },
  {
   "cell_type": "code",
   "execution_count": 581,
   "metadata": {
    "ExecuteTime": {
     "end_time": "2019-06-01T19:55:09.106224Z",
     "start_time": "2019-06-01T19:55:08.897079Z"
    }
   },
   "outputs": [
    {
     "data": {
      "text/plain": [
       "<matplotlib.axes._subplots.AxesSubplot at 0x121c622e8>"
      ]
     },
     "execution_count": 581,
     "metadata": {},
     "output_type": "execute_result"
    },
    {
     "data": {
      "image/png": "[encoded data removed]",
      "text/plain": [
       "<Figure size 432x288 with 1 Axes>"
      ]
     },
     "metadata": {},
     "output_type": "display_data"
    }
   ],
   "source": [
    "npc.histoPlots(histosRatios)#,labels=['a','v'])#,fmt='o')"
   ]
  },
  {
   "cell_type": "markdown",
   "metadata": {},
   "source": [
    "labels can still be changed"
   ]
  },
  {
   "cell_type": "code",
   "execution_count": 582,
   "metadata": {
    "ExecuteTime": {
     "end_time": "2019-06-01T19:55:09.327344Z",
     "start_time": "2019-06-01T19:55:09.108370Z"
    }
   },
   "outputs": [
    {
     "data": {
      "text/plain": [
       "<matplotlib.axes._subplots.AxesSubplot at 0x122209ac8>"
      ]
     },
     "execution_count": 582,
     "metadata": {},
     "output_type": "execute_result"
    },
    {
     "data": {
      "image/png": "[encoded data removed]",
      "text/plain": [
       "<Figure size 432x288 with 1 Axes>"
      ]
     },
     "metadata": {},
     "output_type": "display_data"
    }
   ],
   "source": [
    "npc.histoPlots(histosRatios,labels=['$x^2$','$x^4$'])#,fmt='o')"
   ]
  },
  {
   "cell_type": "markdown",
   "metadata": {
    "ExecuteTime": {
     "end_time": "2019-06-01T18:08:59.666601Z",
     "start_time": "2019-06-01T18:08:59.662994Z"
    }
   },
   "source": [
    "central values markers can also be changed"
   ]
  },
  {
   "cell_type": "code",
   "execution_count": 583,
   "metadata": {
    "ExecuteTime": {
     "end_time": "2019-06-01T19:55:09.523872Z",
     "start_time": "2019-06-01T19:55:09.329709Z"
    }
   },
   "outputs": [
    {
     "data": {
      "text/plain": [
       "<matplotlib.axes._subplots.AxesSubplot at 0x122302eb8>"
      ]
     },
     "execution_count": 583,
     "metadata": {},
     "output_type": "execute_result"
    },
    {
     "data": {
      "image/png": "[encoded data removed]",
      "text/plain": [
       "<Figure size 432x288 with 1 Axes>"
      ]
     },
     "metadata": {},
     "output_type": "display_data"
    }
   ],
   "source": [
    "npc.histoPlots(histosRatios,subset=[0,1],labels=['a','v'],fmt=['o','s'],mfc='none')"
   ]
  },
  {
   "cell_type": "markdown",
   "metadata": {},
   "source": [
    "can also provide the central value marker equal for all"
   ]
  },
  {
   "cell_type": "code",
   "execution_count": 584,
   "metadata": {
    "ExecuteTime": {
     "end_time": "2019-06-01T19:55:09.727155Z",
     "start_time": "2019-06-01T19:55:09.525897Z"
    }
   },
   "outputs": [
    {
     "data": {
      "text/plain": [
       "<matplotlib.axes._subplots.AxesSubplot at 0x1224150b8>"
      ]
     },
     "execution_count": 584,
     "metadata": {},
     "output_type": "execute_result"
    },
    {
     "data": {
      "image/png": "[encoded data removed]",
      "text/plain": [
       "<Figure size 432x288 with 1 Axes>"
      ]
     },
     "metadata": {},
     "output_type": "display_data"
    }
   ],
   "source": [
    "npc.histoPlots(histosRatios,subset=[0,1],labels=['a','v'],fmt='s',mfc='none')"
   ]
  },
  {
   "cell_type": "code",
   "execution_count": 585,
   "metadata": {
    "ExecuteTime": {
     "end_time": "2019-06-01T19:55:09.926372Z",
     "start_time": "2019-06-01T19:55:09.729296Z"
    }
   },
   "outputs": [
    {
     "data": {
      "text/plain": [
       "<matplotlib.axes._subplots.AxesSubplot at 0x122506c18>"
      ]
     },
     "execution_count": 585,
     "metadata": {},
     "output_type": "execute_result"
    },
    {
     "data": {
      "image/png": "[encoded data removed]",
      "text/plain": [
       "<Figure size 432x288 with 1 Axes>"
      ]
     },
     "metadata": {},
     "output_type": "display_data"
    }
   ],
   "source": [
    "npc.histoPlots(histosRatios,subset=[0,1],labels=['a','v'],fmt=['s','o'])"
   ]
  },
  {
   "cell_type": "markdown",
   "metadata": {
    "heading_collapsed": true
   },
   "source": [
    "#### Check some uncertainties"
   ]
  },
  {
   "cell_type": "code",
   "execution_count": 586,
   "metadata": {
    "ExecuteTime": {
     "end_time": "2019-06-01T19:55:09.932474Z",
     "start_time": "2019-06-01T19:55:09.928435Z"
    },
    "hidden": true
   },
   "outputs": [
    {
     "data": {
      "text/plain": [
       "array([0.45407661, 0.24470439, 0.19764235, 0.17025131, 0.15384615,\n",
       "       0.13297919, 0.12608827, 0.11512519, 0.10875349, 0.10171829])"
      ]
     },
     "execution_count": 586,
     "metadata": {},
     "output_type": "execute_result"
    }
   ],
   "source": [
    "histosRatios.histograms[0].uncertainties"
   ]
  },
  {
   "cell_type": "code",
   "execution_count": 587,
   "metadata": {
    "ExecuteTime": {
     "end_time": "2019-06-01T19:55:09.941571Z",
     "start_time": "2019-06-01T19:55:09.934414Z"
    },
    "hidden": true
   },
   "outputs": [
    {
     "data": {
      "text/plain": [
       "array([       nan, 0.03876808, 0.04475172, 0.06996664, 0.08418049,\n",
       "       0.09495943, 0.11261939, 0.12758786, 0.1445212 , 0.15981793])"
      ]
     },
     "execution_count": 587,
     "metadata": {},
     "output_type": "execute_result"
    }
   ],
   "source": [
    "histosRatios.histograms[1].uncertainties"
   ]
  },
  {
   "cell_type": "code",
   "execution_count": 588,
   "metadata": {
    "ExecuteTime": {
     "end_time": "2019-06-01T19:55:09.949853Z",
     "start_time": "2019-06-01T19:55:09.944244Z"
    },
    "hidden": true
   },
   "outputs": [
    {
     "data": {
      "text/plain": [
       "array([   0.,   16.,   48.,  184.,  356.,  709., 1080., 1728., 2443.,\n",
       "       3436.])"
      ]
     },
     "execution_count": 588,
     "metadata": {},
     "output_type": "execute_result"
    }
   ],
   "source": [
    "histos.histograms[1].counts"
   ]
  },
  {
   "cell_type": "code",
   "execution_count": 589,
   "metadata": {
    "ExecuteTime": {
     "end_time": "2019-06-01T19:55:09.956434Z",
     "start_time": "2019-06-01T19:55:09.951846Z"
    },
    "hidden": true
   },
   "outputs": [
    {
     "data": {
      "text/plain": [
       "array([  97.,  334.,  512.,  690.,  845., 1131., 1258., 1509., 1691.,\n",
       "       1933.])"
      ]
     },
     "execution_count": 589,
     "metadata": {},
     "output_type": "execute_result"
    }
   ],
   "source": [
    "histos.histograms[0].counts"
   ]
  },
  {
   "cell_type": "code",
   "execution_count": 590,
   "metadata": {
    "ExecuteTime": {
     "end_time": "2019-06-01T19:55:09.964322Z",
     "start_time": "2019-06-01T19:55:09.959244Z"
    },
    "hidden": true
   },
   "outputs": [
    {
     "name": "stdout",
     "output_type": "stream",
     "text": [
      "0.04846583388481339\n"
     ]
    }
   ],
   "source": [
    "c1=1990\n",
    "c2=3421\n",
    "print(c2/c1 * np.sqrt(1/np.sqrt(c2)**2 + 1/np.sqrt(c1)**2))\n",
    "del c1, c2"
   ]
  },
  {
   "cell_type": "markdown",
   "metadata": {},
   "source": [
    "###  2D Histograms"
   ]
  },
  {
   "cell_type": "code",
   "execution_count": 27,
   "metadata": {
    "ExecuteTime": {
     "end_time": "2019-06-02T21:35:01.668069Z",
     "start_time": "2019-06-02T21:35:01.660240Z"
    }
   },
   "outputs": [],
   "source": [
    "data2D =1+np.transpose(np.append([np.random.power(1,10000),np.random.power(2,10000),np.random.power(3,10000)],[np.random.power(4,10000)],axis=0)) # 3 data samples of which I can make a histogram"
   ]
  },
  {
   "cell_type": "code",
   "execution_count": 28,
   "metadata": {
    "ExecuteTime": {
     "end_time": "2019-06-02T21:35:02.881303Z",
     "start_time": "2019-06-02T21:35:02.876807Z"
    }
   },
   "outputs": [
    {
     "data": {
      "text/plain": [
       "(10000, 4)"
      ]
     },
     "execution_count": 28,
     "metadata": {},
     "output_type": "execute_result"
    }
   ],
   "source": [
    "data2D.shape"
   ]
  },
  {
   "cell_type": "code",
   "execution_count": 29,
   "metadata": {
    "ExecuteTime": {
     "end_time": "2019-06-02T21:35:04.208578Z",
     "start_time": "2019-06-02T21:35:04.203812Z"
    }
   },
   "outputs": [
    {
     "data": {
      "text/plain": [
       "array([[1.85835417, 1.82739741, 1.81946667, 1.99617059],\n",
       "       [1.20903059, 1.59681738, 1.34237904, 1.90069067],\n",
       "       [1.36123174, 1.60035786, 1.57511845, 1.61344379],\n",
       "       ...,\n",
       "       [1.34665955, 1.85859487, 1.53164599, 1.97489463],\n",
       "       [1.67874834, 1.42564186, 1.58071297, 1.97550537],\n",
       "       [1.79196136, 1.81299182, 1.33905404, 1.63162532]])"
      ]
     },
     "execution_count": 29,
     "metadata": {},
     "output_type": "execute_result"
    }
   ],
   "source": [
    "data2D"
   ]
  },
  {
   "cell_type": "code",
   "execution_count": 30,
   "metadata": {
    "ExecuteTime": {
     "end_time": "2019-06-02T21:35:06.944799Z",
     "start_time": "2019-06-02T21:35:06.734852Z"
    }
   },
   "outputs": [
    {
     "data": {
      "image/png": "[encoded data removed]",
      "text/plain": [
       "<Figure size 432x288 with 1 Axes>"
      ]
     },
     "metadata": {},
     "output_type": "display_data"
    }
   ],
   "source": [
    "A_tuple_histo2d = plt.hist2d(2-1/data2D[:,2],data2D[:,3],cmap='Blues',bins=[u.linspace(1,2,0.2),u.linspace(1,2,0.2)])"
   ]
  },
  {
   "cell_type": "code",
   "execution_count": 31,
   "metadata": {
    "ExecuteTime": {
     "end_time": "2019-06-02T21:35:09.485547Z",
     "start_time": "2019-06-02T21:35:09.300381Z"
    },
    "scrolled": true
   },
   "outputs": [
    {
     "data": {
      "image/png": "[encoded data removed]",
      "text/plain": [
       "<Figure size 432x288 with 1 Axes>"
      ]
     },
     "metadata": {},
     "output_type": "display_data"
    }
   ],
   "source": [
    "B_tuple_histo2d = plt.hist2d(data2D[:,1],data2D[:,0],cmap='Blues',bins=[u.linspace(1,2,0.2),u.linspace(1,2,0.2)])"
   ]
  },
  {
   "cell_type": "code",
   "execution_count": 32,
   "metadata": {
    "ExecuteTime": {
     "end_time": "2019-06-02T21:35:11.745239Z",
     "start_time": "2019-06-02T21:35:11.740411Z"
    }
   },
   "outputs": [
    {
     "data": {
      "text/plain": [
       "matplotlib.collections.QuadMesh"
      ]
     },
     "execution_count": 32,
     "metadata": {},
     "output_type": "execute_result"
    }
   ],
   "source": [
    "type(B_tuple_histo2d[-1])"
   ]
  },
  {
   "cell_type": "code",
   "execution_count": 51,
   "metadata": {
    "ExecuteTime": {
     "end_time": "2019-06-02T23:17:54.802578Z",
     "start_time": "2019-06-02T23:17:54.798791Z"
    }
   },
   "outputs": [],
   "source": [
    "nc_histo2D_B = npc.NumpyHistogramData(tup=B_tuple_histo2d)\n",
    "nc_histo2D_B.snake = u.snake_flatten_matrix(nc_histo2D_B.counts)\n",
    "nc_histo2D_A = npc.NumpyHistogramData(tup=A_tuple_histo2d)\n",
    "nc_histo2D_A.snake = u.snake_flatten_matrix(nc_histo2D_A.counts)"
   ]
  },
  {
   "cell_type": "code",
   "execution_count": 46,
   "metadata": {
    "ExecuteTime": {
     "end_time": "2019-06-02T23:16:45.207686Z",
     "start_time": "2019-06-02T23:16:45.202988Z"
    }
   },
   "outputs": [
    {
     "name": "stdout",
     "output_type": "stream",
     "text": [
      "(array([1.  , 1.25, 1.5 , 1.75, 2.  ]), array([1.  , 1.25, 1.5 , 1.75, 2.  ]))\n",
      "(array([1.  , 1.25, 1.5 , 1.75, 2.  ]), array([1.  , 1.25, 1.5 , 1.75, 2.  ]))\n"
     ]
    }
   ],
   "source": [
    "print(nc_histo2D_A.bins)\n",
    "print(nc_histo2D_B.bins)"
   ]
  },
  {
   "cell_type": "code",
   "execution_count": 34,
   "metadata": {
    "ExecuteTime": {
     "end_time": "2019-06-02T21:35:18.597475Z",
     "start_time": "2019-06-02T21:35:18.592656Z"
    }
   },
   "outputs": [
    {
     "data": {
      "text/plain": [
       "True"
      ]
     },
     "execution_count": 34,
     "metadata": {},
     "output_type": "execute_result"
    }
   ],
   "source": [
    "np.array_equal(nc_histo2D_A.bins,nc_histo2D_B.bins)"
   ]
  },
  {
   "cell_type": "code",
   "execution_count": 54,
   "metadata": {
    "ExecuteTime": {
     "end_time": "2019-06-02T23:18:12.685821Z",
     "start_time": "2019-06-02T23:18:12.682922Z"
    }
   },
   "outputs": [],
   "source": [
    "_ratio=npc.ratioH1overH2(nc_histo2D_A,nc_histo2D_B,counts='snake')"
   ]
  },
  {
   "cell_type": "code",
   "execution_count": 56,
   "metadata": {
    "ExecuteTime": {
     "end_time": "2019-06-02T23:18:20.034307Z",
     "start_time": "2019-06-02T23:18:20.030544Z"
    }
   },
   "outputs": [
    {
     "data": {
      "text/plain": [
       "array([ 0.01818182,  0.12337662,  0.55214724,  1.82352941, 13.7442348 ,\n",
       "        5.13608247,  1.23991031,  0.07692308,  0.        ,  0.        ,\n",
       "        0.        ,  0.        ,  0.        ,  0.        ,  0.        ,\n",
       "        0.        ])"
      ]
     },
     "execution_count": 56,
     "metadata": {},
     "output_type": "execute_result"
    }
   ],
   "source": [
    "_ratio.snake"
   ]
  },
  {
   "cell_type": "code",
   "execution_count": 60,
   "metadata": {
    "ExecuteTime": {
     "end_time": "2019-06-02T23:18:31.061513Z",
     "start_time": "2019-06-02T23:18:31.058977Z"
    }
   },
   "outputs": [],
   "source": [
    "_ratio=npc.ratioH1overH2(nc_histo2D_A,nc_histo2D_B,counts='counts')"
   ]
  },
  {
   "cell_type": "code",
   "execution_count": 62,
   "metadata": {
    "ExecuteTime": {
     "end_time": "2019-06-02T23:18:35.576124Z",
     "start_time": "2019-06-02T23:18:35.571905Z"
    }
   },
   "outputs": [
    {
     "data": {
      "text/plain": [
       "array([[ 0.01818182,  0.12337662,  0.55214724,  1.82352941],\n",
       "       [ 0.07692308,  1.23991031,  5.13608247, 13.7442348 ],\n",
       "       [ 0.        ,  0.        ,  0.        ,  0.        ],\n",
       "       [ 0.        ,  0.        ,  0.        ,  0.        ]])"
      ]
     },
     "execution_count": 62,
     "metadata": {},
     "output_type": "execute_result"
    }
   ],
   "source": [
    "_ratio.counts"
   ]
  },
  {
   "cell_type": "code",
   "execution_count": 36,
   "metadata": {
    "ExecuteTime": {
     "end_time": "2019-06-02T21:35:20.857352Z",
     "start_time": "2019-06-02T21:35:20.852974Z"
    }
   },
   "outputs": [
    {
     "data": {
      "text/plain": [
       "(array([1.  , 1.25, 1.5 , 1.75, 2.  ]), array([1.  , 1.25, 1.5 , 1.75, 2.  ]))"
      ]
     },
     "execution_count": 36,
     "metadata": {},
     "output_type": "execute_result"
    }
   ],
   "source": [
    "_ratio.bins"
   ]
  },
  {
   "cell_type": "code",
   "execution_count": 37,
   "metadata": {
    "ExecuteTime": {
     "end_time": "2019-06-02T21:35:21.914680Z",
     "start_time": "2019-06-02T21:35:21.910345Z"
    }
   },
   "outputs": [
    {
     "data": {
      "text/plain": [
       "array([[ 0.01818182,  0.12337662,  0.55214724,  1.82352941],\n",
       "       [ 0.07692308,  1.23991031,  5.13608247, 13.7442348 ],\n",
       "       [ 0.        ,  0.        ,  0.        ,  0.        ],\n",
       "       [ 0.        ,  0.        ,  0.        ,  0.        ]])"
      ]
     },
     "execution_count": 37,
     "metadata": {},
     "output_type": "execute_result"
    }
   ],
   "source": [
    "_ratio.counts[:]"
   ]
  },
  {
   "cell_type": "code",
   "execution_count": 38,
   "metadata": {
    "ExecuteTime": {
     "end_time": "2019-06-02T21:35:25.241113Z",
     "start_time": "2019-06-02T21:35:24.959438Z"
    }
   },
   "outputs": [
    {
     "data": {
      "image/png": "[encoded data removed]",
      "text/plain": [
       "<Figure size 432x288 with 2 Axes>"
      ]
     },
     "metadata": {},
     "output_type": "display_data"
    }
   ],
   "source": [
    "ax = plt.gca()\n",
    "im, cbar = u.heatmap(_ratio.counts,\\\n",
    "          _ratio.bins[0],_ratio.bins[1],cmap='bwr',offsetx=0.5,offsety=0,transpose=True,reverse=True,minor=False)#,extent=(0.,_ratio.counts.shape[0],0,_ratio.counts.shape[1]))\n",
    "#ax.set_xticks(np.arange(-0.5,len(_ratio.bins[0])-1,1))\n",
    "#ax.set_yticks(np.arange(-0.5,len(_ratio.bins[1])-1,1))\n",
    "# ... and label them with the respective list entries.\n",
    "ax.set_xticklabels(_ratio.bins[0]);\n",
    "ax.set_yticklabels(_ratio.bins[1][::-1]);\n",
    "texts = u.annotate_heatmap(im, valfmt=\"{x:.2g}\",range_display=[-0.2,19.3])"
   ]
  },
  {
   "cell_type": "code",
   "execution_count": 39,
   "metadata": {
    "ExecuteTime": {
     "end_time": "2019-06-02T21:35:28.126342Z",
     "start_time": "2019-06-02T21:35:27.861378Z"
    }
   },
   "outputs": [
    {
     "data": {
      "image/png": "[encoded data removed]",
      "text/plain": [
       "<Figure size 432x288 with 2 Axes>"
      ]
     },
     "metadata": {},
     "output_type": "display_data"
    }
   ],
   "source": [
    "ax = plt.gca()\n",
    "im, cbar = u.histo2D(_ratio.counts,\\\n",
    "          _ratio.bins[0],_ratio.bins[1],cmap='Blues',cbarlabel='ratio')\n",
    "texts = u.annotate_heatmap(im, valfmt=\"{x:.2g}\",range_display=[0.,20])"
   ]
  },
  {
   "cell_type": "code",
   "execution_count": 855,
   "metadata": {
    "ExecuteTime": {
     "end_time": "2019-06-01T22:10:00.559181Z",
     "start_time": "2019-06-01T22:10:00.374807Z"
    }
   },
   "outputs": [
    {
     "data": {
      "text/plain": [
       "Text(0,0.5,'cbarlabel')"
      ]
     },
     "execution_count": 855,
     "metadata": {},
     "output_type": "execute_result"
    },
    {
     "data": {
      "image/png": "[encoded data removed]",
      "text/plain": [
       "<Figure size 432x288 with 2 Axes>"
      ]
     },
     "metadata": {},
     "output_type": "display_data"
    }
   ],
   "source": [
    "ax = plt.gca()\n",
    "im = ax.imshow(np.transpose(_ratio.counts)[::-1],extent=(0,_ratio.counts.shape[0],0,_ratio.counts.shape[1]))\n",
    "ax.set_xticks(u.arange(0,len(_ratio.bins[0])-1,1))\n",
    "ax.set_yticks(u.arange(0,len(_ratio.bins[1])-1,1))\n",
    "# ... and label them with the respective list entries.\n",
    "ax.set_xticklabels(_ratio.bins[0]);\n",
    "ax.set_yticklabels(_ratio.bins[1]);\n",
    "cbar = ax.figure.colorbar(im, ax=ax)#, **cbar_kw)\n",
    "cbar.ax.set_ylabel('cbarlabel', rotation=-90, va=\"bottom\")\n",
    "#ax.set_xticks(np.arange(8), minor=True)\n",
    "#texts = u.annotate_heatmap(im, valfmt=\"{x:.2g}\",range_display=[-0.2,1.93])"
   ]
  },
  {
   "cell_type": "code",
   "execution_count": null,
   "metadata": {},
   "outputs": [],
   "source": []
  }
 ],
 "metadata": {
  "celltoolbar": "Initialization Cell",
  "kernelspec": {
   "display_name": "Python 3",
   "language": "python",
   "name": "python3"
  },
  "language_info": {
   "codemirror_mode": {
    "name": "ipython",
    "version": 3
   },
   "file_extension": ".py",
   "mimetype": "text/x-python",
   "name": "python",
   "nbconvert_exporter": "python",
   "pygments_lexer": "ipython3",
   "version": "3.7.0"
  },
  "latex_envs": {
   "LaTeX_envs_menu_present": true,
   "autocomplete": true,
   "bibliofile": "biblio.bib",
   "cite_by": "apalike",
   "current_citInitial": 1,
   "eqLabelWithNumbers": true,
   "eqNumInitial": 1,
   "hotkeys": {
    "equation": "Ctrl-E",
    "itemize": "Ctrl-I"
   },
   "labels_anchors": false,
   "latex_user_defs": false,
   "report_style_numbering": false,
   "user_envs_cfg": false
  }
 },
 "nbformat": 4,
 "nbformat_minor": 2
}
