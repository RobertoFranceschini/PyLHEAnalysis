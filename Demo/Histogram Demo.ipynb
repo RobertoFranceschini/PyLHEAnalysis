{
 "cells": [
  {
   "cell_type": "code",
   "execution_count": 27,
   "metadata": {
    "ExecuteTime": {
     "end_time": "2019-03-13T09:56:21.564727Z",
     "start_time": "2019-03-13T09:56:21.562064Z"
    }
   },
   "outputs": [],
   "source": [
    "import Histogram as hst\n",
    "import numpy as np"
   ]
  },
  {
   "cell_type": "code",
   "execution_count": 18,
   "metadata": {
    "ExecuteTime": {
     "end_time": "2019-03-13T09:55:10.075058Z",
     "start_time": "2019-03-13T09:55:10.073007Z"
    }
   },
   "outputs": [],
   "source": [
    "import importlib"
   ]
  },
  {
   "cell_type": "code",
   "execution_count": 20,
   "metadata": {
    "ExecuteTime": {
     "end_time": "2019-03-13T09:55:26.118427Z",
     "start_time": "2019-03-13T09:55:26.097080Z"
    }
   },
   "outputs": [
    {
     "data": {
      "text/plain": [
       "<module 'Histogram' from '/Users/roberto/humanroot/utils/PyLHEanalysis/Histogram.py'>"
      ]
     },
     "execution_count": 20,
     "metadata": {},
     "output_type": "execute_result"
    }
   ],
   "source": [
    "importlib.reload(hst)"
   ]
  },
  {
   "cell_type": "code",
   "execution_count": 21,
   "metadata": {
    "ExecuteTime": {
     "end_time": "2019-03-13T09:55:33.108430Z",
     "start_time": "2019-03-13T09:55:33.106031Z"
    }
   },
   "outputs": [],
   "source": [
    "h1 = hst.Histogram()"
   ]
  },
  {
   "cell_type": "code",
   "execution_count": 28,
   "metadata": {
    "ExecuteTime": {
     "end_time": "2019-03-13T09:56:22.892101Z",
     "start_time": "2019-03-13T09:56:22.889980Z"
    }
   },
   "outputs": [],
   "source": [
    "h1.values=np.array([100,16,9])"
   ]
  },
  {
   "cell_type": "code",
   "execution_count": 23,
   "metadata": {
    "ExecuteTime": {
     "end_time": "2019-03-13T09:55:38.300677Z",
     "start_time": "2019-03-13T09:55:38.298364Z"
    }
   },
   "outputs": [],
   "source": [
    "h2 = hst.Histogram()"
   ]
  },
  {
   "cell_type": "code",
   "execution_count": 43,
   "metadata": {
    "ExecuteTime": {
     "end_time": "2019-03-13T09:59:52.986671Z",
     "start_time": "2019-03-13T09:59:52.982731Z"
    }
   },
   "outputs": [],
   "source": [
    "h2.values=4*np.array([100,16,9])"
   ]
  },
  {
   "cell_type": "code",
   "execution_count": 44,
   "metadata": {
    "ExecuteTime": {
     "end_time": "2019-03-13T09:59:53.452756Z",
     "start_time": "2019-03-13T09:59:53.449853Z"
    }
   },
   "outputs": [],
   "source": [
    "h12=h1.ratio(h2,uncertainties=\"Gauss\")"
   ]
  },
  {
   "cell_type": "code",
   "execution_count": 45,
   "metadata": {
    "ExecuteTime": {
     "end_time": "2019-03-13T09:59:54.694965Z",
     "start_time": "2019-03-13T09:59:54.691095Z"
    }
   },
   "outputs": [
    {
     "data": {
      "text/plain": [
       "array([0.25, 0.25, 0.25])"
      ]
     },
     "execution_count": 45,
     "metadata": {},
     "output_type": "execute_result"
    }
   ],
   "source": [
    "h12.values"
   ]
  },
  {
   "cell_type": "code",
   "execution_count": 46,
   "metadata": {
    "ExecuteTime": {
     "end_time": "2019-03-13T09:59:56.519599Z",
     "start_time": "2019-03-13T09:59:56.515045Z"
    }
   },
   "outputs": [
    {
     "data": {
      "text/plain": [
       "array([0.02795085, 0.06987712, 0.0931695 ])"
      ]
     },
     "execution_count": 46,
     "metadata": {},
     "output_type": "execute_result"
    }
   ],
   "source": [
    "h12.uncertainties"
   ]
  },
  {
   "cell_type": "code",
   "execution_count": 48,
   "metadata": {
    "ExecuteTime": {
     "end_time": "2019-03-13T10:00:15.010391Z",
     "start_time": "2019-03-13T10:00:15.005180Z"
    }
   },
   "outputs": [
    {
     "data": {
      "text/plain": [
       "0.02795084971874737"
      ]
     },
     "execution_count": 48,
     "metadata": {},
     "output_type": "execute_result"
    }
   ],
   "source": [
    "0.25*np.sqrt(1/100+1/400)"
   ]
  },
  {
   "cell_type": "code",
   "execution_count": null,
   "metadata": {},
   "outputs": [],
   "source": []
  }
 ],
 "metadata": {
  "kernelspec": {
   "display_name": "Python 3",
   "language": "python",
   "name": "python3"
  },
  "language_info": {
   "codemirror_mode": {
    "name": "ipython",
    "version": 3
   },
   "file_extension": ".py",
   "mimetype": "text/x-python",
   "name": "python",
   "nbconvert_exporter": "python",
   "pygments_lexer": "ipython3",
   "version": "3.7.0"
  },
  "latex_envs": {
   "LaTeX_envs_menu_present": true,
   "autocomplete": true,
   "bibliofile": "biblio.bib",
   "cite_by": "apalike",
   "current_citInitial": 1,
   "eqLabelWithNumbers": true,
   "eqNumInitial": 1,
   "hotkeys": {
    "equation": "Ctrl-E",
    "itemize": "Ctrl-I"
   },
   "labels_anchors": false,
   "latex_user_defs": false,
   "report_style_numbering": false,
   "user_envs_cfg": false
  }
 },
 "nbformat": 4,
 "nbformat_minor": 2
}
