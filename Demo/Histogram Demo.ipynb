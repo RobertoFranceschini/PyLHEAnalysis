{
 "cells": [
  {
   "cell_type": "code",
   "execution_count": 2,
   "metadata": {
    "ExecuteTime": {
     "end_time": "2019-03-15T17:50:35.501652Z",
     "start_time": "2019-03-15T17:50:35.494847Z"
    }
   },
   "outputs": [],
   "source": [
    "#import Histogram as hst\n",
    "import NumpyClasses as npc\n",
    "import numpy as np\n",
    "import matplotlib.pyplot as plt\n",
    "import utils as u\n",
    "import "
   ]
  },
  {
   "cell_type": "code",
   "execution_count": 3,
   "metadata": {
    "ExecuteTime": {
     "end_time": "2019-03-15T17:50:38.152490Z",
     "start_time": "2019-03-15T17:50:38.150034Z"
    }
   },
   "outputs": [],
   "source": [
    "import importlib"
   ]
  },
  {
   "cell_type": "code",
   "execution_count": 176,
   "metadata": {
    "ExecuteTime": {
     "end_time": "2019-03-15T21:22:13.796480Z",
     "start_time": "2019-03-15T21:22:13.787947Z"
    },
    "scrolled": true
   },
   "outputs": [
    {
     "data": {
      "text/plain": [
       "<module 'NumpyClasses' from '/Users/roberto/humanroot/utils/PyLHEanalysis/NumpyClasses.py'>"
      ]
     },
     "execution_count": 176,
     "metadata": {},
     "output_type": "execute_result"
    }
   ],
   "source": [
    "importlib.reload(npc)"
   ]
  },
  {
   "cell_type": "code",
   "execution_count": 94,
   "metadata": {
    "ExecuteTime": {
     "end_time": "2019-03-15T18:03:16.632756Z",
     "start_time": "2019-03-15T18:03:16.616450Z"
    },
    "scrolled": true
   },
   "outputs": [
    {
     "data": {
      "text/plain": [
       "<module 'utils' from '/Users/roberto/scriptbelt/utils.py'>"
      ]
     },
     "execution_count": 94,
     "metadata": {},
     "output_type": "execute_result"
    }
   ],
   "source": [
    "importlib.reload(u)"
   ]
  },
  {
   "cell_type": "markdown",
   "metadata": {
    "heading_collapsed": true
   },
   "source": [
    "### 1D constructors"
   ]
  },
  {
   "cell_type": "code",
   "execution_count": 52,
   "metadata": {
    "ExecuteTime": {
     "end_time": "2019-03-13T11:11:22.553353Z",
     "start_time": "2019-03-13T11:11:22.550671Z"
    },
    "hidden": true
   },
   "outputs": [],
   "source": [
    "hAtInit = hst.Histogram(counts=[11,12,13])"
   ]
  },
  {
   "cell_type": "code",
   "execution_count": 53,
   "metadata": {
    "ExecuteTime": {
     "end_time": "2019-03-13T11:11:24.250461Z",
     "start_time": "2019-03-13T11:11:24.246350Z"
    },
    "hidden": true
   },
   "outputs": [
    {
     "data": {
      "text/plain": [
       "array([11, 12, 13])"
      ]
     },
     "execution_count": 53,
     "metadata": {},
     "output_type": "execute_result"
    }
   ],
   "source": [
    "hAtInit.counts"
   ]
  },
  {
   "cell_type": "code",
   "execution_count": 54,
   "metadata": {
    "ExecuteTime": {
     "end_time": "2019-03-13T11:11:28.907413Z",
     "start_time": "2019-03-13T11:11:28.903168Z"
    },
    "hidden": true
   },
   "outputs": [
    {
     "data": {
      "text/plain": [
       "array([], dtype=float64)"
      ]
     },
     "execution_count": 54,
     "metadata": {},
     "output_type": "execute_result"
    }
   ],
   "source": [
    "hAtInit.uncertainties"
   ]
  },
  {
   "cell_type": "code",
   "execution_count": 21,
   "metadata": {
    "ExecuteTime": {
     "end_time": "2019-03-13T09:55:33.108430Z",
     "start_time": "2019-03-13T09:55:33.106031Z"
    },
    "hidden": true
   },
   "outputs": [],
   "source": [
    "h1 = hst.Histogram()"
   ]
  },
  {
   "cell_type": "code",
   "execution_count": 28,
   "metadata": {
    "ExecuteTime": {
     "end_time": "2019-03-13T09:56:22.892101Z",
     "start_time": "2019-03-13T09:56:22.889980Z"
    },
    "hidden": true
   },
   "outputs": [],
   "source": [
    "h1.values=np.array([100,16,9])"
   ]
  },
  {
   "cell_type": "code",
   "execution_count": 23,
   "metadata": {
    "ExecuteTime": {
     "end_time": "2019-03-13T09:55:38.300677Z",
     "start_time": "2019-03-13T09:55:38.298364Z"
    },
    "hidden": true
   },
   "outputs": [],
   "source": [
    "h2 = hst.Histogram()"
   ]
  },
  {
   "cell_type": "code",
   "execution_count": 43,
   "metadata": {
    "ExecuteTime": {
     "end_time": "2019-03-13T09:59:52.986671Z",
     "start_time": "2019-03-13T09:59:52.982731Z"
    },
    "hidden": true
   },
   "outputs": [],
   "source": [
    "h2.values=4*np.array([100,16,9])"
   ]
  },
  {
   "cell_type": "code",
   "execution_count": 44,
   "metadata": {
    "ExecuteTime": {
     "end_time": "2019-03-13T09:59:53.452756Z",
     "start_time": "2019-03-13T09:59:53.449853Z"
    },
    "hidden": true
   },
   "outputs": [],
   "source": [
    "h12=h1.ratio(h2,uncertainties=\"Gauss\")"
   ]
  },
  {
   "cell_type": "code",
   "execution_count": 45,
   "metadata": {
    "ExecuteTime": {
     "end_time": "2019-03-13T09:59:54.694965Z",
     "start_time": "2019-03-13T09:59:54.691095Z"
    },
    "hidden": true
   },
   "outputs": [
    {
     "data": {
      "text/plain": [
       "array([0.25, 0.25, 0.25])"
      ]
     },
     "execution_count": 45,
     "metadata": {},
     "output_type": "execute_result"
    }
   ],
   "source": [
    "h12.values"
   ]
  },
  {
   "cell_type": "code",
   "execution_count": 46,
   "metadata": {
    "ExecuteTime": {
     "end_time": "2019-03-13T09:59:56.519599Z",
     "start_time": "2019-03-13T09:59:56.515045Z"
    },
    "hidden": true
   },
   "outputs": [
    {
     "data": {
      "text/plain": [
       "array([0.02795085, 0.06987712, 0.0931695 ])"
      ]
     },
     "execution_count": 46,
     "metadata": {},
     "output_type": "execute_result"
    }
   ],
   "source": [
    "h12.uncertainties"
   ]
  },
  {
   "cell_type": "code",
   "execution_count": 48,
   "metadata": {
    "ExecuteTime": {
     "end_time": "2019-03-13T10:00:15.010391Z",
     "start_time": "2019-03-13T10:00:15.005180Z"
    },
    "hidden": true
   },
   "outputs": [
    {
     "data": {
      "text/plain": [
       "0.02795084971874737"
      ]
     },
     "execution_count": 48,
     "metadata": {},
     "output_type": "execute_result"
    }
   ],
   "source": [
    "0.25*np.sqrt(1/100+1/400)"
   ]
  },
  {
   "cell_type": "code",
   "execution_count": 34,
   "metadata": {
    "ExecuteTime": {
     "end_time": "2019-03-13T10:47:00.249696Z",
     "start_time": "2019-03-13T10:47:00.241383Z"
    },
    "hidden": true
   },
   "outputs": [],
   "source": [
    "??NumpyClasses.Numpy1DHistogramData"
   ]
  },
  {
   "cell_type": "code",
   "execution_count": 78,
   "metadata": {
    "ExecuteTime": {
     "end_time": "2019-03-14T09:31:22.571389Z",
     "start_time": "2019-03-14T09:31:22.240556Z"
    },
    "hidden": true
   },
   "outputs": [
    {
     "data": {
      "image/png": "[encoded data removed]",
      "text/plain": [
       "<Figure size 432x288 with 1 Axes>"
      ]
     },
     "metadata": {},
     "output_type": "display_data"
    }
   ],
   "source": [
    "data = np.random.rand(322)\n",
    "# make the histogram with NumPy\n",
    "nph = np.histogram( data ) \n",
    "# then create a 1DHistogramData holder from the tuple output of np.histogram\n",
    "h1d = NumpyClasses.Numpy1DHistogramData(tup = nph )\n",
    "# make the same histogram from Matplotlib\n",
    "mplh= plt.hist( data )\n",
    "# create the 1DHistogramData from the tuple output (which now has the \"patches\" output as well)\n",
    "h1dmpl = NumpyClasses.Numpy1DHistogramData(tup = mplh )\n",
    "# the same creation of Histogram objects can be carried out on the derived class Histogram, which inherits from 1DHistogramData \n",
    "nph = np.histogram( data ) \n",
    "hsimplenp = hst.Histogram(tup = nph )\n",
    "\n",
    "mplh= plt.hist( data )\n",
    "h1dmplsimple = hst.Histogram(tup = mplh )"
   ]
  },
  {
   "cell_type": "markdown",
   "metadata": {
    "hidden": true
   },
   "source": [
    "###### Can check the histograms contain the same things"
   ]
  },
  {
   "cell_type": "code",
   "execution_count": 72,
   "metadata": {
    "ExecuteTime": {
     "end_time": "2019-03-13T11:17:23.318935Z",
     "start_time": "2019-03-13T11:17:23.314440Z"
    },
    "hidden": true
   },
   "outputs": [
    {
     "data": {
      "text/plain": [
       "array([0.00247947, 0.10177423, 0.20106898, 0.30036373, 0.39965848,\n",
       "       0.49895324, 0.59824799, 0.69754274, 0.79683749, 0.89613225,\n",
       "       0.995427  ])"
      ]
     },
     "execution_count": 72,
     "metadata": {},
     "output_type": "execute_result"
    }
   ],
   "source": [
    "h1d.bins"
   ]
  },
  {
   "cell_type": "code",
   "execution_count": 73,
   "metadata": {
    "ExecuteTime": {
     "end_time": "2019-03-13T11:17:24.775830Z",
     "start_time": "2019-03-13T11:17:24.771137Z"
    },
    "hidden": true
   },
   "outputs": [
    {
     "data": {
      "text/plain": [
       "array([0.00247947, 0.10177423, 0.20106898, 0.30036373, 0.39965848,\n",
       "       0.49895324, 0.59824799, 0.69754274, 0.79683749, 0.89613225,\n",
       "       0.995427  ])"
      ]
     },
     "execution_count": 73,
     "metadata": {},
     "output_type": "execute_result"
    }
   ],
   "source": [
    "h1dmpl.bins"
   ]
  },
  {
   "cell_type": "code",
   "execution_count": 74,
   "metadata": {
    "ExecuteTime": {
     "end_time": "2019-03-13T11:17:25.711100Z",
     "start_time": "2019-03-13T11:17:25.707011Z"
    },
    "hidden": true
   },
   "outputs": [
    {
     "data": {
      "text/plain": [
       "array([0.00247947, 0.10177423, 0.20106898, 0.30036373, 0.39965848,\n",
       "       0.49895324, 0.59824799, 0.69754274, 0.79683749, 0.89613225,\n",
       "       0.995427  ])"
      ]
     },
     "execution_count": 74,
     "metadata": {},
     "output_type": "execute_result"
    }
   ],
   "source": [
    "hsimplenp.bins"
   ]
  },
  {
   "cell_type": "code",
   "execution_count": 75,
   "metadata": {
    "ExecuteTime": {
     "end_time": "2019-03-13T11:17:26.519730Z",
     "start_time": "2019-03-13T11:17:26.515106Z"
    },
    "hidden": true
   },
   "outputs": [
    {
     "data": {
      "text/plain": [
       "array([0.00247947, 0.10177423, 0.20106898, 0.30036373, 0.39965848,\n",
       "       0.49895324, 0.59824799, 0.69754274, 0.79683749, 0.89613225,\n",
       "       0.995427  ])"
      ]
     },
     "execution_count": 75,
     "metadata": {},
     "output_type": "execute_result"
    }
   ],
   "source": [
    "h1dmplsimple.bins"
   ]
  },
  {
   "cell_type": "code",
   "execution_count": 76,
   "metadata": {
    "ExecuteTime": {
     "end_time": "2019-03-13T11:17:37.119650Z",
     "start_time": "2019-03-13T11:17:37.116044Z"
    },
    "hidden": true
   },
   "outputs": [
    {
     "data": {
      "text/plain": [
       "array([37, 30, 39, 39, 30, 32, 28, 32, 33, 22])"
      ]
     },
     "execution_count": 76,
     "metadata": {},
     "output_type": "execute_result"
    }
   ],
   "source": [
    "h1d.counts"
   ]
  },
  {
   "cell_type": "code",
   "execution_count": 77,
   "metadata": {
    "ExecuteTime": {
     "end_time": "2019-03-13T11:17:48.513802Z",
     "start_time": "2019-03-13T11:17:48.510103Z"
    },
    "hidden": true
   },
   "outputs": [
    {
     "data": {
      "text/plain": [
       "array([37., 30., 39., 39., 30., 32., 28., 32., 33., 22.])"
      ]
     },
     "execution_count": 77,
     "metadata": {},
     "output_type": "execute_result"
    }
   ],
   "source": [
    "h1dmplsimple.counts"
   ]
  },
  {
   "cell_type": "markdown",
   "metadata": {},
   "source": [
    "### Multiple Histograms"
   ]
  },
  {
   "cell_type": "code",
   "execution_count": 166,
   "metadata": {
    "ExecuteTime": {
     "end_time": "2019-03-15T21:19:33.744962Z",
     "start_time": "2019-03-15T21:19:33.731853Z"
    }
   },
   "outputs": [],
   "source": [
    "data2 =[ np.random.power(i,10000) for i in [2,4,6] ] # 3 data samples of which I can make a histogram"
   ]
  },
  {
   "cell_type": "markdown",
   "metadata": {},
   "source": [
    "plot the data with Matplotlib as histogram"
   ]
  },
  {
   "cell_type": "code",
   "execution_count": 155,
   "metadata": {
    "ExecuteTime": {
     "end_time": "2019-03-15T21:11:55.742442Z",
     "start_time": "2019-03-15T21:11:55.737794Z"
    }
   },
   "outputs": [],
   "source": [
    "def _hist(data,bins,label=None,histtype='step',**kwargs):\n",
    "    \n",
    "    ##############################################\n",
    "    def make_label(labels,h):\n",
    "        ##############################################\n",
    "        try:\n",
    "            return labels[h]\n",
    "        except IndexError:\n",
    "            return \"\"\n",
    "        except TypeError:\n",
    "            return \"\"\n",
    "        \n",
    "    mplHistoMulplipleTuple = plt.hist( data ,histtype=histtype, bins=bins,label=label,**kwargs)\n",
    "    histos = npc.Numpy1DHistogramsData(tup = mplHistoMulplipleTuple)\n",
    "\n",
    "    if label != None:\n",
    "        plt.legend(bbox_to_anchor=[1,1])\n",
    "        for h in range(len(histos.histograms) ):\n",
    "            histos.histograms[h].label = make_label(label,h)\n",
    "    return histos"
   ]
  },
  {
   "cell_type": "code",
   "execution_count": 177,
   "metadata": {
    "ExecuteTime": {
     "end_time": "2019-03-15T21:22:17.932829Z",
     "start_time": "2019-03-15T21:22:17.771647Z"
    }
   },
   "outputs": [
    {
     "data": {
      "image/png": "[encoded data removed]",
      "text/plain": [
       "<Figure size 432x288 with 1 Axes>"
      ]
     },
     "metadata": {},
     "output_type": "display_data"
    }
   ],
   "source": [
    "_histos = _hist(data2,u.arange(0,1,0.1),label=['1','2','3'],histtype='step')\n",
    "plt.title(\"pp\");"
   ]
  },
  {
   "cell_type": "code",
   "execution_count": 178,
   "metadata": {
    "ExecuteTime": {
     "end_time": "2019-03-15T21:22:19.316169Z",
     "start_time": "2019-03-15T21:22:19.311708Z"
    }
   },
   "outputs": [
    {
     "data": {
      "text/plain": [
       "'3'"
      ]
     },
     "execution_count": 178,
     "metadata": {},
     "output_type": "execute_result"
    }
   ],
   "source": [
    "_histos.histograms[2].label"
   ]
  },
  {
   "cell_type": "code",
   "execution_count": 181,
   "metadata": {
    "ExecuteTime": {
     "end_time": "2019-03-15T21:22:41.699427Z",
     "start_time": "2019-03-15T21:22:41.542504Z"
    },
    "scrolled": true
   },
   "outputs": [
    {
     "data": {
      "text/plain": [
       "<matplotlib.axes._subplots.AxesSubplot at 0x10bcb2390>"
      ]
     },
     "execution_count": 181,
     "metadata": {},
     "output_type": "execute_result"
    },
    {
     "data": {
      "image/png": "[encoded data removed]",
      "text/plain": [
       "<Figure size 432x288 with 1 Axes>"
      ]
     },
     "metadata": {},
     "output_type": "display_data"
    }
   ],
   "source": [
    "npc.histoPlots(histos)#,fmt='o')"
   ]
  },
  {
   "cell_type": "code",
   "execution_count": 180,
   "metadata": {
    "ExecuteTime": {
     "end_time": "2019-03-15T21:22:26.456316Z",
     "start_time": "2019-03-15T21:22:26.286227Z"
    }
   },
   "outputs": [
    {
     "data": {
      "text/plain": [
       "<matplotlib.legend.Legend at 0x10b7c1e80>"
      ]
     },
     "execution_count": 180,
     "metadata": {},
     "output_type": "execute_result"
    },
    {
     "data": {
      "image/png": "[encoded data removed]",
      "text/plain": [
       "<Figure size 432x288 with 1 Axes>"
      ]
     },
     "metadata": {},
     "output_type": "display_data"
    }
   ],
   "source": [
    "mplHistoMulplipleTuple = plt.hist( data2 , histtype='step', bins=u.arange(0,1,0.1),label=[\"a\",\"b\"])\n",
    "plt.legend(bbox_to_anchor=[1,1])"
   ]
  },
  {
   "cell_type": "markdown",
   "metadata": {},
   "source": [
    "save the plot as histograms in a NumpyClasses object"
   ]
  },
  {
   "cell_type": "code",
   "execution_count": 173,
   "metadata": {
    "ExecuteTime": {
     "end_time": "2019-03-15T21:21:48.479302Z",
     "start_time": "2019-03-15T21:21:48.476592Z"
    }
   },
   "outputs": [],
   "source": [
    "histos = npc.Numpy1DHistogramsData(tup = mplHistoMulplipleTuple)"
   ]
  },
  {
   "cell_type": "markdown",
   "metadata": {},
   "source": [
    "plot again only a subset of the histograms"
   ]
  },
  {
   "cell_type": "code",
   "execution_count": 108,
   "metadata": {
    "ExecuteTime": {
     "end_time": "2019-03-15T18:06:22.912260Z",
     "start_time": "2019-03-15T18:06:22.729404Z"
    }
   },
   "outputs": [
    {
     "data": {
      "text/plain": [
       "<matplotlib.legend.Legend at 0x10aab0eb8>"
      ]
     },
     "execution_count": 108,
     "metadata": {},
     "output_type": "execute_result"
    },
    {
     "data": {
      "image/png": "[encoded data removed]",
      "text/plain": [
       "<Figure size 432x288 with 1 Axes>"
      ]
     },
     "metadata": {},
     "output_type": "display_data"
    }
   ],
   "source": [
    "ax = npc.histoPlot(histos.histograms[0],label='a')\n",
    "npc.histoPlot(histos.histograms[1],linewidth=3, ax=ax,label='b')\n",
    "ax.legend(bbox_to_anchor=[1,1])"
   ]
  },
  {
   "cell_type": "markdown",
   "metadata": {},
   "source": [
    "plot them all with a specific function"
   ]
  },
  {
   "cell_type": "code",
   "execution_count": 109,
   "metadata": {
    "ExecuteTime": {
     "end_time": "2019-03-15T18:06:26.053542Z",
     "start_time": "2019-03-15T18:06:25.879933Z"
    }
   },
   "outputs": [
    {
     "data": {
      "text/plain": [
       "<matplotlib.axes._subplots.AxesSubplot at 0x10a98ac50>"
      ]
     },
     "execution_count": 109,
     "metadata": {},
     "output_type": "execute_result"
    },
    {
     "data": {
      "image/png": "[encoded data removed]",
      "text/plain": [
       "<Figure size 432x288 with 1 Axes>"
      ]
     },
     "metadata": {},
     "output_type": "display_data"
    }
   ],
   "source": [
    "npc.histoPlots(histos,labels=['a','v'])#,fmt='o')"
   ]
  },
  {
   "cell_type": "markdown",
   "metadata": {},
   "source": [
    "plot a subset with a function"
   ]
  },
  {
   "cell_type": "markdown",
   "metadata": {},
   "source": [
    "compute the ratio of the histograms and compute uncertainties assuming the total number of points in each histogram is $10^4$"
   ]
  },
  {
   "cell_type": "code",
   "execution_count": 110,
   "metadata": {
    "ExecuteTime": {
     "end_time": "2019-03-15T18:08:01.581870Z",
     "start_time": "2019-03-15T18:08:01.578729Z"
    }
   },
   "outputs": [
    {
     "name": "stderr",
     "output_type": "stream",
     "text": [
      "/Users/roberto/humanroot/utils/PyLHEanalysis/NumpyClasses.py:141: RuntimeWarning: invalid value encountered in true_divide\n",
      "  self.counts=tup[0]\n"
     ]
    }
   ],
   "source": [
    "histosRatios=histos.ratio(wrt=0,uncertainties=10000)"
   ]
  },
  {
   "cell_type": "markdown",
   "metadata": {
    "ExecuteTime": {
     "end_time": "2019-03-15T18:08:26.904805Z",
     "start_time": "2019-03-15T18:08:26.900833Z"
    }
   },
   "source": [
    "plot the histograms again one by one by hand"
   ]
  },
  {
   "cell_type": "code",
   "execution_count": 113,
   "metadata": {
    "ExecuteTime": {
     "end_time": "2019-03-15T18:08:30.424667Z",
     "start_time": "2019-03-15T18:08:30.233654Z"
    }
   },
   "outputs": [
    {
     "data": {
      "text/plain": [
       "<matplotlib.legend.Legend at 0x10aba32b0>"
      ]
     },
     "execution_count": 113,
     "metadata": {},
     "output_type": "execute_result"
    },
    {
     "data": {
      "image/png": "[encoded data removed]",
      "text/plain": [
       "<Figure size 432x288 with 1 Axes>"
      ]
     },
     "metadata": {},
     "output_type": "display_data"
    }
   ],
   "source": [
    "ax = npc.histoPlot(histosRatios.histograms[0],fmt=',',label='1')\n",
    "npc.histoPlot(histosRatios.histograms[1],lighter_error=1,fmt='.',ax=ax,label='2')\n",
    "plt.legend(bbox_to_anchor=[1,1])"
   ]
  },
  {
   "cell_type": "markdown",
   "metadata": {},
   "source": [
    "plot all of them with a function"
   ]
  },
  {
   "cell_type": "code",
   "execution_count": 120,
   "metadata": {
    "ExecuteTime": {
     "end_time": "2019-03-15T18:11:06.858861Z",
     "start_time": "2019-03-15T18:11:06.677947Z"
    }
   },
   "outputs": [
    {
     "data": {
      "text/plain": [
       "<matplotlib.axes._subplots.AxesSubplot at 0x10b51b5c0>"
      ]
     },
     "execution_count": 120,
     "metadata": {},
     "output_type": "execute_result"
    },
    {
     "data": {
      "image/png": "[encoded data removed]",
      "text/plain": [
       "<Figure size 432x288 with 1 Axes>"
      ]
     },
     "metadata": {},
     "output_type": "display_data"
    }
   ],
   "source": [
    "npc.histoPlots(histosRatios,labels=['a','v'])#,fmt='o')"
   ]
  },
  {
   "cell_type": "code",
   "execution_count": 121,
   "metadata": {
    "ExecuteTime": {
     "end_time": "2019-03-15T18:11:19.920517Z",
     "start_time": "2019-03-15T18:11:19.740885Z"
    }
   },
   "outputs": [
    {
     "data": {
      "text/plain": [
       "<matplotlib.axes._subplots.AxesSubplot at 0x10b5f4358>"
      ]
     },
     "execution_count": 121,
     "metadata": {},
     "output_type": "execute_result"
    },
    {
     "data": {
      "image/png": "[encoded data removed]",
      "text/plain": [
       "<Figure size 432x288 with 1 Axes>"
      ]
     },
     "metadata": {},
     "output_type": "display_data"
    }
   ],
   "source": [
    "npc.histoPlots(histosRatios,subset=[0,1],labels=['a','v'])#,fmt='o')"
   ]
  },
  {
   "cell_type": "markdown",
   "metadata": {
    "heading_collapsed": true
   },
   "source": [
    "#### Check some uncertainties"
   ]
  },
  {
   "cell_type": "code",
   "execution_count": 278,
   "metadata": {
    "ExecuteTime": {
     "end_time": "2019-03-15T14:33:44.080988Z",
     "start_time": "2019-03-15T14:33:44.076199Z"
    },
    "hidden": true
   },
   "outputs": [
    {
     "data": {
      "text/plain": [
       "array([0.15249857, 0.08377078, 0.06213698, 0.05333807, 0.04819627,\n",
       "       0.04269841, 0.03891021, 0.03702434, 0.03450328, 0.03170213])"
      ]
     },
     "execution_count": 278,
     "metadata": {},
     "output_type": "execute_result"
    }
   ],
   "source": [
    "histosRatios.histograms[0].uncertainties"
   ]
  },
  {
   "cell_type": "code",
   "execution_count": 279,
   "metadata": {
    "ExecuteTime": {
     "end_time": "2019-03-15T14:33:47.944814Z",
     "start_time": "2019-03-15T14:33:47.940536Z"
    },
    "hidden": true
   },
   "outputs": [
    {
     "data": {
      "text/plain": [
       "array([       nan, 0.01534936, 0.01579592, 0.02074057, 0.02628963,\n",
       "       0.02973056, 0.03551237, 0.04216586, 0.04554875, 0.04846583])"
      ]
     },
     "execution_count": 279,
     "metadata": {},
     "output_type": "execute_result"
    }
   ],
   "source": [
    "histosRatios.histograms[1].uncertainties"
   ]
  },
  {
   "cell_type": "code",
   "execution_count": 280,
   "metadata": {
    "ExecuteTime": {
     "end_time": "2019-03-15T14:33:54.730740Z",
     "start_time": "2019-03-15T14:33:54.726258Z"
    },
    "hidden": true
   },
   "outputs": [
    {
     "data": {
      "text/plain": [
       "array([   0.,   18.,   60.,  171.,  361.,  663., 1168., 1731., 2407.,\n",
       "       3421.])"
      ]
     },
     "execution_count": 280,
     "metadata": {},
     "output_type": "execute_result"
    }
   ],
   "source": [
    "histos.histograms[1].counts"
   ]
  },
  {
   "cell_type": "code",
   "execution_count": 281,
   "metadata": {
    "ExecuteTime": {
     "end_time": "2019-03-15T14:34:05.028134Z",
     "start_time": "2019-03-15T14:34:05.023672Z"
    },
    "hidden": true
   },
   "outputs": [
    {
     "data": {
      "text/plain": [
       "array([  86.,  285.,  518.,  703.,  861., 1097., 1321., 1459., 1680.,\n",
       "       1990.])"
      ]
     },
     "execution_count": 281,
     "metadata": {},
     "output_type": "execute_result"
    }
   ],
   "source": [
    "histos.histograms[0].counts"
   ]
  },
  {
   "cell_type": "code",
   "execution_count": 284,
   "metadata": {
    "ExecuteTime": {
     "end_time": "2019-03-15T14:34:50.770045Z",
     "start_time": "2019-03-15T14:34:50.765996Z"
    },
    "hidden": true
   },
   "outputs": [
    {
     "name": "stdout",
     "output_type": "stream",
     "text": [
      "0.04846583388481339\n"
     ]
    }
   ],
   "source": [
    "c1=1990\n",
    "c2=3421\n",
    "print(c2/c1 * np.sqrt(1/np.sqrt(c2)**2 + 1/np.sqrt(c1)**2))\n",
    "del c1, c2"
   ]
  },
  {
   "cell_type": "markdown",
   "metadata": {
    "heading_collapsed": true
   },
   "source": [
    "### Demo of the Class inheritance, deprecated"
   ]
  },
  {
   "cell_type": "code",
   "execution_count": 102,
   "metadata": {
    "ExecuteTime": {
     "end_time": "2019-03-14T10:01:10.935996Z",
     "start_time": "2019-03-14T10:01:10.933194Z"
    },
    "hidden": true
   },
   "outputs": [],
   "source": [
    "_r=hst.Histogram(super=histos.histograms[0]).ratio(hst.Histogram(super=histos.histograms[1]))"
   ]
  },
  {
   "cell_type": "code",
   "execution_count": 103,
   "metadata": {
    "ExecuteTime": {
     "end_time": "2019-03-14T10:01:11.812930Z",
     "start_time": "2019-03-14T10:01:11.808210Z"
    },
    "hidden": true
   },
   "outputs": [
    {
     "data": {
      "text/plain": [
       "array([1.2       , 0.84210526, 1.06896552, 1.02941176, 0.6       ,\n",
       "       1.40740741, 1.32142857, 1.25      , 0.69444444, 0.85714286])"
      ]
     },
     "execution_count": 103,
     "metadata": {},
     "output_type": "execute_result"
    }
   ],
   "source": [
    "_r.counts"
   ]
  }
 ],
 "metadata": {
  "kernelspec": {
   "display_name": "Python 3",
   "language": "python",
   "name": "python3"
  },
  "language_info": {
   "codemirror_mode": {
    "name": "ipython",
    "version": 3
   },
   "file_extension": ".py",
   "mimetype": "text/x-python",
   "name": "python",
   "nbconvert_exporter": "python",
   "pygments_lexer": "ipython3",
   "version": "3.7.0"
  },
  "latex_envs": {
   "LaTeX_envs_menu_present": true,
   "autocomplete": true,
   "bibliofile": "biblio.bib",
   "cite_by": "apalike",
   "current_citInitial": 1,
   "eqLabelWithNumbers": true,
   "eqNumInitial": 1,
   "hotkeys": {
    "equation": "Ctrl-E",
    "itemize": "Ctrl-I"
   },
   "labels_anchors": false,
   "latex_user_defs": false,
   "report_style_numbering": false,
   "user_envs_cfg": false
  }
 },
 "nbformat": 4,
 "nbformat_minor": 2
}
