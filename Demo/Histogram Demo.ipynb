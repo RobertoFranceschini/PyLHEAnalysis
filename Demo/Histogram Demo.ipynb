{
 "cells": [
  {
   "cell_type": "code",
   "execution_count": 76,
   "metadata": {
    "ExecuteTime": {
     "end_time": "2019-05-31T12:31:39.794091Z",
     "start_time": "2019-05-31T12:31:39.790793Z"
    },
    "init_cell": true
   },
   "outputs": [],
   "source": [
    "#import Histogram as hst\n",
    "import NumpyClasses as npc\n",
    "import numpy as np\n",
    "import matplotlib.pyplot as plt\n",
    "import utils as u"
   ]
  },
  {
   "cell_type": "code",
   "execution_count": 77,
   "metadata": {
    "ExecuteTime": {
     "end_time": "2019-05-31T12:31:39.802031Z",
     "start_time": "2019-05-31T12:31:39.796737Z"
    },
    "init_cell": true
   },
   "outputs": [],
   "source": [
    "import importlib"
   ]
  },
  {
   "cell_type": "code",
   "execution_count": 78,
   "metadata": {
    "ExecuteTime": {
     "end_time": "2019-05-31T12:31:39.813183Z",
     "start_time": "2019-05-31T12:31:39.804458Z"
    },
    "init_cell": true,
    "scrolled": true
   },
   "outputs": [
    {
     "data": {
      "text/plain": [
       "<module 'NumpyClasses' from '/Users/roberto/humanroot/utils/PyLHEanalysis/NumpyClasses.py'>"
      ]
     },
     "execution_count": 78,
     "metadata": {},
     "output_type": "execute_result"
    }
   ],
   "source": [
    "importlib.reload(npc)"
   ]
  },
  {
   "cell_type": "code",
   "execution_count": 79,
   "metadata": {
    "ExecuteTime": {
     "end_time": "2019-05-31T12:31:39.821057Z",
     "start_time": "2019-05-31T12:31:39.815343Z"
    },
    "init_cell": true,
    "scrolled": true
   },
   "outputs": [
    {
     "data": {
      "text/plain": [
       "<module 'utils' from '/Users/roberto/scriptbelt/utils.py'>"
      ]
     },
     "execution_count": 79,
     "metadata": {},
     "output_type": "execute_result"
    }
   ],
   "source": [
    "importlib.reload(u)"
   ]
  },
  {
   "cell_type": "markdown",
   "metadata": {},
   "source": [
    "### 1D constructors"
   ]
  },
  {
   "cell_type": "code",
   "execution_count": 52,
   "metadata": {
    "ExecuteTime": {
     "end_time": "2019-03-13T11:11:22.553353Z",
     "start_time": "2019-03-13T11:11:22.550671Z"
    }
   },
   "outputs": [],
   "source": [
    "hAtInit = hst.Histogram(counts=[11,12,13])"
   ]
  },
  {
   "cell_type": "code",
   "execution_count": 53,
   "metadata": {
    "ExecuteTime": {
     "end_time": "2019-03-13T11:11:24.250461Z",
     "start_time": "2019-03-13T11:11:24.246350Z"
    }
   },
   "outputs": [
    {
     "data": {
      "text/plain": [
       "array([11, 12, 13])"
      ]
     },
     "execution_count": 53,
     "metadata": {},
     "output_type": "execute_result"
    }
   ],
   "source": [
    "hAtInit.counts"
   ]
  },
  {
   "cell_type": "code",
   "execution_count": 54,
   "metadata": {
    "ExecuteTime": {
     "end_time": "2019-03-13T11:11:28.907413Z",
     "start_time": "2019-03-13T11:11:28.903168Z"
    }
   },
   "outputs": [
    {
     "data": {
      "text/plain": [
       "array([], dtype=float64)"
      ]
     },
     "execution_count": 54,
     "metadata": {},
     "output_type": "execute_result"
    }
   ],
   "source": [
    "hAtInit.uncertainties"
   ]
  },
  {
   "cell_type": "code",
   "execution_count": 21,
   "metadata": {
    "ExecuteTime": {
     "end_time": "2019-03-13T09:55:33.108430Z",
     "start_time": "2019-03-13T09:55:33.106031Z"
    }
   },
   "outputs": [],
   "source": [
    "h1 = hst.Histogram()"
   ]
  },
  {
   "cell_type": "code",
   "execution_count": 28,
   "metadata": {
    "ExecuteTime": {
     "end_time": "2019-03-13T09:56:22.892101Z",
     "start_time": "2019-03-13T09:56:22.889980Z"
    }
   },
   "outputs": [],
   "source": [
    "h1.values=np.array([100,16,9])"
   ]
  },
  {
   "cell_type": "code",
   "execution_count": 23,
   "metadata": {
    "ExecuteTime": {
     "end_time": "2019-03-13T09:55:38.300677Z",
     "start_time": "2019-03-13T09:55:38.298364Z"
    }
   },
   "outputs": [],
   "source": [
    "h2 = hst.Histogram()"
   ]
  },
  {
   "cell_type": "code",
   "execution_count": 43,
   "metadata": {
    "ExecuteTime": {
     "end_time": "2019-03-13T09:59:52.986671Z",
     "start_time": "2019-03-13T09:59:52.982731Z"
    }
   },
   "outputs": [],
   "source": [
    "h2.values=4*np.array([100,16,9])"
   ]
  },
  {
   "cell_type": "code",
   "execution_count": 44,
   "metadata": {
    "ExecuteTime": {
     "end_time": "2019-03-13T09:59:53.452756Z",
     "start_time": "2019-03-13T09:59:53.449853Z"
    }
   },
   "outputs": [],
   "source": [
    "h12=h1.ratio(h2,uncertainties=\"Gauss\")"
   ]
  },
  {
   "cell_type": "code",
   "execution_count": 45,
   "metadata": {
    "ExecuteTime": {
     "end_time": "2019-03-13T09:59:54.694965Z",
     "start_time": "2019-03-13T09:59:54.691095Z"
    }
   },
   "outputs": [
    {
     "data": {
      "text/plain": [
       "array([0.25, 0.25, 0.25])"
      ]
     },
     "execution_count": 45,
     "metadata": {},
     "output_type": "execute_result"
    }
   ],
   "source": [
    "h12.values"
   ]
  },
  {
   "cell_type": "code",
   "execution_count": 46,
   "metadata": {
    "ExecuteTime": {
     "end_time": "2019-03-13T09:59:56.519599Z",
     "start_time": "2019-03-13T09:59:56.515045Z"
    }
   },
   "outputs": [
    {
     "data": {
      "text/plain": [
       "array([0.02795085, 0.06987712, 0.0931695 ])"
      ]
     },
     "execution_count": 46,
     "metadata": {},
     "output_type": "execute_result"
    }
   ],
   "source": [
    "h12.uncertainties"
   ]
  },
  {
   "cell_type": "code",
   "execution_count": 48,
   "metadata": {
    "ExecuteTime": {
     "end_time": "2019-03-13T10:00:15.010391Z",
     "start_time": "2019-03-13T10:00:15.005180Z"
    }
   },
   "outputs": [
    {
     "data": {
      "text/plain": [
       "0.02795084971874737"
      ]
     },
     "execution_count": 48,
     "metadata": {},
     "output_type": "execute_result"
    }
   ],
   "source": [
    "0.25*np.sqrt(1/100+1/400)"
   ]
  },
  {
   "cell_type": "code",
   "execution_count": 34,
   "metadata": {
    "ExecuteTime": {
     "end_time": "2019-03-13T10:47:00.249696Z",
     "start_time": "2019-03-13T10:47:00.241383Z"
    }
   },
   "outputs": [],
   "source": [
    "??NumpyClasses.Numpy1DHistogramData"
   ]
  },
  {
   "cell_type": "code",
   "execution_count": 78,
   "metadata": {
    "ExecuteTime": {
     "end_time": "2019-03-14T09:31:22.571389Z",
     "start_time": "2019-03-14T09:31:22.240556Z"
    }
   },
   "outputs": [
    {
     "data": {
      "image/png": "[encoded data removed]",
      "text/plain": [
       "<Figure size 432x288 with 1 Axes>"
      ]
     },
     "metadata": {},
     "output_type": "display_data"
    }
   ],
   "source": [
    "data = np.random.rand(322)\n",
    "# make the histogram with NumPy\n",
    "nph = np.histogram( data ) \n",
    "# then create a 1DHistogramData holder from the tuple output of np.histogram\n",
    "h1d = NumpyClasses.Numpy1DHistogramData(tup = nph )\n",
    "# make the same histogram from Matplotlib\n",
    "mplh= plt.hist( data )\n",
    "# create the 1DHistogramData from the tuple output (which now has the \"patches\" output as well)\n",
    "h1dmpl = NumpyClasses.Numpy1DHistogramData(tup = mplh )\n",
    "# the same creation of Histogram objects can be carried out on the derived class Histogram, which inherits from 1DHistogramData \n",
    "nph = np.histogram( data ) \n",
    "hsimplenp = hst.Histogram(tup = nph )\n",
    "\n",
    "mplh= plt.hist( data )\n",
    "h1dmplsimple = hst.Histogram(tup = mplh )"
   ]
  },
  {
   "cell_type": "markdown",
   "metadata": {},
   "source": [
    "###### Can check the histograms contain the same things"
   ]
  },
  {
   "cell_type": "code",
   "execution_count": 72,
   "metadata": {
    "ExecuteTime": {
     "end_time": "2019-03-13T11:17:23.318935Z",
     "start_time": "2019-03-13T11:17:23.314440Z"
    }
   },
   "outputs": [
    {
     "data": {
      "text/plain": [
       "array([0.00247947, 0.10177423, 0.20106898, 0.30036373, 0.39965848,\n",
       "       0.49895324, 0.59824799, 0.69754274, 0.79683749, 0.89613225,\n",
       "       0.995427  ])"
      ]
     },
     "execution_count": 72,
     "metadata": {},
     "output_type": "execute_result"
    }
   ],
   "source": [
    "h1d.bins"
   ]
  },
  {
   "cell_type": "code",
   "execution_count": 73,
   "metadata": {
    "ExecuteTime": {
     "end_time": "2019-03-13T11:17:24.775830Z",
     "start_time": "2019-03-13T11:17:24.771137Z"
    }
   },
   "outputs": [
    {
     "data": {
      "text/plain": [
       "array([0.00247947, 0.10177423, 0.20106898, 0.30036373, 0.39965848,\n",
       "       0.49895324, 0.59824799, 0.69754274, 0.79683749, 0.89613225,\n",
       "       0.995427  ])"
      ]
     },
     "execution_count": 73,
     "metadata": {},
     "output_type": "execute_result"
    }
   ],
   "source": [
    "h1dmpl.bins"
   ]
  },
  {
   "cell_type": "code",
   "execution_count": 74,
   "metadata": {
    "ExecuteTime": {
     "end_time": "2019-03-13T11:17:25.711100Z",
     "start_time": "2019-03-13T11:17:25.707011Z"
    }
   },
   "outputs": [
    {
     "data": {
      "text/plain": [
       "array([0.00247947, 0.10177423, 0.20106898, 0.30036373, 0.39965848,\n",
       "       0.49895324, 0.59824799, 0.69754274, 0.79683749, 0.89613225,\n",
       "       0.995427  ])"
      ]
     },
     "execution_count": 74,
     "metadata": {},
     "output_type": "execute_result"
    }
   ],
   "source": [
    "hsimplenp.bins"
   ]
  },
  {
   "cell_type": "code",
   "execution_count": 75,
   "metadata": {
    "ExecuteTime": {
     "end_time": "2019-03-13T11:17:26.519730Z",
     "start_time": "2019-03-13T11:17:26.515106Z"
    }
   },
   "outputs": [
    {
     "data": {
      "text/plain": [
       "array([0.00247947, 0.10177423, 0.20106898, 0.30036373, 0.39965848,\n",
       "       0.49895324, 0.59824799, 0.69754274, 0.79683749, 0.89613225,\n",
       "       0.995427  ])"
      ]
     },
     "execution_count": 75,
     "metadata": {},
     "output_type": "execute_result"
    }
   ],
   "source": [
    "h1dmplsimple.bins"
   ]
  },
  {
   "cell_type": "code",
   "execution_count": 76,
   "metadata": {
    "ExecuteTime": {
     "end_time": "2019-03-13T11:17:37.119650Z",
     "start_time": "2019-03-13T11:17:37.116044Z"
    }
   },
   "outputs": [
    {
     "data": {
      "text/plain": [
       "array([37, 30, 39, 39, 30, 32, 28, 32, 33, 22])"
      ]
     },
     "execution_count": 76,
     "metadata": {},
     "output_type": "execute_result"
    }
   ],
   "source": [
    "h1d.counts"
   ]
  },
  {
   "cell_type": "code",
   "execution_count": 77,
   "metadata": {
    "ExecuteTime": {
     "end_time": "2019-03-13T11:17:48.513802Z",
     "start_time": "2019-03-13T11:17:48.510103Z"
    }
   },
   "outputs": [
    {
     "data": {
      "text/plain": [
       "array([37., 30., 39., 39., 30., 32., 28., 32., 33., 22.])"
      ]
     },
     "execution_count": 77,
     "metadata": {},
     "output_type": "execute_result"
    }
   ],
   "source": [
    "h1dmplsimple.counts"
   ]
  },
  {
   "cell_type": "markdown",
   "metadata": {},
   "source": [
    "### Multiple Histograms"
   ]
  },
  {
   "cell_type": "code",
   "execution_count": 8,
   "metadata": {
    "ExecuteTime": {
     "end_time": "2019-05-30T14:01:40.826488Z",
     "start_time": "2019-05-30T14:01:40.813634Z"
    }
   },
   "outputs": [],
   "source": [
    "data2 =[ np.random.power(i,10000) for i in [2,4,6] ] # 3 data samples of which I can make a histogram"
   ]
  },
  {
   "cell_type": "markdown",
   "metadata": {},
   "source": [
    "plot the data with Matplotlib as histogram"
   ]
  },
  {
   "cell_type": "code",
   "execution_count": 9,
   "metadata": {
    "ExecuteTime": {
     "end_time": "2019-05-30T14:01:47.686159Z",
     "start_time": "2019-05-30T14:01:47.681082Z"
    }
   },
   "outputs": [],
   "source": [
    "def _hist(data,bins,label=None,histtype='step',**kwargs):\n",
    "    \n",
    "    ##############################################\n",
    "    def make_label(labels,h):\n",
    "        ##############################################\n",
    "        try:\n",
    "            return labels[h]\n",
    "        except IndexError:\n",
    "            return \"\"\n",
    "        except TypeError:\n",
    "            return \"\"\n",
    "        \n",
    "    mplHistoMulplipleTuple = plt.hist( data ,histtype=histtype, bins=bins,label=label,**kwargs)\n",
    "    histos = npc.Numpy1DHistogramsData(tup = mplHistoMulplipleTuple)\n",
    "\n",
    "    if label != None:\n",
    "        plt.legend(bbox_to_anchor=[1,1])\n",
    "        for h in range(len(histos.histograms) ):\n",
    "            histos.histograms[h].label = make_label(label,h)\n",
    "    return histos"
   ]
  },
  {
   "cell_type": "code",
   "execution_count": 10,
   "metadata": {
    "ExecuteTime": {
     "end_time": "2019-05-30T14:01:50.855927Z",
     "start_time": "2019-05-30T14:01:50.668956Z"
    }
   },
   "outputs": [
    {
     "data": {
      "image/png": "[encoded data removed]",
      "text/plain": [
       "<Figure size 432x288 with 1 Axes>"
      ]
     },
     "metadata": {},
     "output_type": "display_data"
    }
   ],
   "source": [
    "_histos = _hist(data2,u.arange(0,1,0.1),label=['1','2','3'],histtype='step')\n",
    "plt.title(\"pp\");"
   ]
  },
  {
   "cell_type": "code",
   "execution_count": 11,
   "metadata": {
    "ExecuteTime": {
     "end_time": "2019-05-30T14:01:59.161888Z",
     "start_time": "2019-05-30T14:01:59.158400Z"
    }
   },
   "outputs": [
    {
     "data": {
      "text/plain": [
       "'3'"
      ]
     },
     "execution_count": 11,
     "metadata": {},
     "output_type": "execute_result"
    }
   ],
   "source": [
    "_histos.histograms[2].label"
   ]
  },
  {
   "cell_type": "code",
   "execution_count": 13,
   "metadata": {
    "ExecuteTime": {
     "end_time": "2019-05-30T14:02:12.563796Z",
     "start_time": "2019-05-30T14:02:12.388027Z"
    },
    "scrolled": true
   },
   "outputs": [
    {
     "data": {
      "text/plain": [
       "<matplotlib.axes._subplots.AxesSubplot at 0x117da2400>"
      ]
     },
     "execution_count": 13,
     "metadata": {},
     "output_type": "execute_result"
    },
    {
     "data": {
      "image/png": "[encoded data removed]",
      "text/plain": [
       "<Figure size 432x288 with 1 Axes>"
      ]
     },
     "metadata": {},
     "output_type": "display_data"
    }
   ],
   "source": [
    "npc.histoPlots(_histos)#,fmt='o')"
   ]
  },
  {
   "cell_type": "code",
   "execution_count": 15,
   "metadata": {
    "ExecuteTime": {
     "end_time": "2019-05-30T14:02:59.703464Z",
     "start_time": "2019-05-30T14:02:59.526709Z"
    }
   },
   "outputs": [
    {
     "data": {
      "text/plain": [
       "<matplotlib.legend.Legend at 0x117d61d30>"
      ]
     },
     "execution_count": 15,
     "metadata": {},
     "output_type": "execute_result"
    },
    {
     "data": {
      "image/png": "[encoded data removed]",
      "text/plain": [
       "<Figure size 432x288 with 1 Axes>"
      ]
     },
     "metadata": {},
     "output_type": "display_data"
    }
   ],
   "source": [
    "mplHistoMulplipleTuple = plt.hist( data2 , histtype='step', bins=u.arange(0,1,0.1),label=[\"a\",\"b\"])\n",
    "plt.legend(bbox_to_anchor=[1,1])"
   ]
  },
  {
   "cell_type": "markdown",
   "metadata": {},
   "source": [
    "save the plot as histograms in a NumpyClasses object"
   ]
  },
  {
   "cell_type": "code",
   "execution_count": 16,
   "metadata": {
    "ExecuteTime": {
     "end_time": "2019-05-30T14:03:01.478062Z",
     "start_time": "2019-05-30T14:03:01.475218Z"
    }
   },
   "outputs": [],
   "source": [
    "histos = npc.Numpy1DHistogramsData(tup = mplHistoMulplipleTuple)"
   ]
  },
  {
   "cell_type": "markdown",
   "metadata": {},
   "source": [
    "plot again only a subset of the histograms"
   ]
  },
  {
   "cell_type": "code",
   "execution_count": 17,
   "metadata": {
    "ExecuteTime": {
     "end_time": "2019-05-30T14:03:03.791281Z",
     "start_time": "2019-05-30T14:03:03.616602Z"
    }
   },
   "outputs": [
    {
     "data": {
      "text/plain": [
       "<matplotlib.legend.Legend at 0x118096c88>"
      ]
     },
     "execution_count": 17,
     "metadata": {},
     "output_type": "execute_result"
    },
    {
     "data": {
      "image/png": "[encoded data removed]",
      "text/plain": [
       "<Figure size 432x288 with 1 Axes>"
      ]
     },
     "metadata": {},
     "output_type": "display_data"
    }
   ],
   "source": [
    "ax = npc.histoPlot(histos.histograms[0],label='a')\n",
    "npc.histoPlot(histos.histograms[1],linewidth=3, ax=ax,label='b')\n",
    "ax.legend(bbox_to_anchor=[1,1])"
   ]
  },
  {
   "cell_type": "markdown",
   "metadata": {},
   "source": [
    "plot them all with a specific function"
   ]
  },
  {
   "cell_type": "code",
   "execution_count": 18,
   "metadata": {
    "ExecuteTime": {
     "end_time": "2019-05-30T14:03:08.192562Z",
     "start_time": "2019-05-30T14:03:08.017759Z"
    }
   },
   "outputs": [
    {
     "data": {
      "text/plain": [
       "<matplotlib.axes._subplots.AxesSubplot at 0x117fd4748>"
      ]
     },
     "execution_count": 18,
     "metadata": {},
     "output_type": "execute_result"
    },
    {
     "data": {
      "image/png": "[encoded data removed]",
      "text/plain": [
       "<Figure size 432x288 with 1 Axes>"
      ]
     },
     "metadata": {},
     "output_type": "display_data"
    }
   ],
   "source": [
    "npc.histoPlots(histos,labels=['a','v'])#,fmt='o')"
   ]
  },
  {
   "cell_type": "markdown",
   "metadata": {},
   "source": [
    "plot a subset with a function"
   ]
  },
  {
   "cell_type": "markdown",
   "metadata": {},
   "source": [
    "compute the ratio of the histograms and compute uncertainties assuming the total number of points in each histogram is $10^4$"
   ]
  },
  {
   "cell_type": "code",
   "execution_count": 20,
   "metadata": {
    "ExecuteTime": {
     "end_time": "2019-05-30T14:03:53.086993Z",
     "start_time": "2019-05-30T14:03:53.083191Z"
    }
   },
   "outputs": [
    {
     "name": "stderr",
     "output_type": "stream",
     "text": [
      "/Users/roberto/humanroot/utils/PyLHEanalysis/NumpyClasses.py:172: RuntimeWarning: invalid value encountered in true_divide\n",
      "  result.uncertainties = self.counts/h2.counts * u.sumQuadrature( [  np.sqrt(h2.counts)/h2.counts/np.sqrt(_rescaling2) ,  np.sqrt(self.counts)/self.counts /np.sqrt(_rescaling1) ]  )\n"
     ]
    }
   ],
   "source": [
    "histosRatios=npc.ratio(histos,wrt=0,uncertainties=10000)"
   ]
  },
  {
   "cell_type": "markdown",
   "metadata": {
    "ExecuteTime": {
     "end_time": "2019-03-15T18:08:26.904805Z",
     "start_time": "2019-03-15T18:08:26.900833Z"
    }
   },
   "source": [
    "plot the histograms again one by one by hand"
   ]
  },
  {
   "cell_type": "code",
   "execution_count": 21,
   "metadata": {
    "ExecuteTime": {
     "end_time": "2019-05-30T14:04:07.764619Z",
     "start_time": "2019-05-30T14:04:07.601509Z"
    }
   },
   "outputs": [
    {
     "data": {
      "text/plain": [
       "<matplotlib.legend.Legend at 0x118271ba8>"
      ]
     },
     "execution_count": 21,
     "metadata": {},
     "output_type": "execute_result"
    },
    {
     "data": {
      "image/png": "[encoded data removed]",
      "text/plain": [
       "<Figure size 432x288 with 1 Axes>"
      ]
     },
     "metadata": {},
     "output_type": "display_data"
    }
   ],
   "source": [
    "ax = npc.histoPlot(histosRatios.histograms[0],fmt=',',label='1')\n",
    "npc.histoPlot(histosRatios.histograms[1],lighter_error=1,fmt='.',ax=ax,label='2')\n",
    "plt.legend(bbox_to_anchor=[1,1])"
   ]
  },
  {
   "cell_type": "markdown",
   "metadata": {},
   "source": [
    "plot all of them with a function"
   ]
  },
  {
   "cell_type": "code",
   "execution_count": 22,
   "metadata": {
    "ExecuteTime": {
     "end_time": "2019-05-30T14:04:25.103360Z",
     "start_time": "2019-05-30T14:04:24.876386Z"
    }
   },
   "outputs": [
    {
     "data": {
      "text/plain": [
       "<matplotlib.axes._subplots.AxesSubplot at 0x1182b4400>"
      ]
     },
     "execution_count": 22,
     "metadata": {},
     "output_type": "execute_result"
    },
    {
     "data": {
      "image/png": "[encoded data removed]",
      "text/plain": [
       "<Figure size 432x288 with 1 Axes>"
      ]
     },
     "metadata": {},
     "output_type": "display_data"
    }
   ],
   "source": [
    "npc.histoPlots(histosRatios,labels=['a','v'])#,fmt='o')"
   ]
  },
  {
   "cell_type": "code",
   "execution_count": 23,
   "metadata": {
    "ExecuteTime": {
     "end_time": "2019-05-30T14:04:34.329135Z",
     "start_time": "2019-05-30T14:04:34.143314Z"
    }
   },
   "outputs": [
    {
     "data": {
      "text/plain": [
       "<matplotlib.axes._subplots.AxesSubplot at 0x11845eda0>"
      ]
     },
     "execution_count": 23,
     "metadata": {},
     "output_type": "execute_result"
    },
    {
     "data": {
      "image/png": "[encoded data removed]",
      "text/plain": [
       "<Figure size 432x288 with 1 Axes>"
      ]
     },
     "metadata": {},
     "output_type": "display_data"
    }
   ],
   "source": [
    "npc.histoPlots(histosRatios,subset=[0,1],labels=['a','v'])#,fmt='o')"
   ]
  },
  {
   "cell_type": "markdown",
   "metadata": {},
   "source": [
    "#### Check some uncertainties"
   ]
  },
  {
   "cell_type": "code",
   "execution_count": 278,
   "metadata": {
    "ExecuteTime": {
     "end_time": "2019-03-15T14:33:44.080988Z",
     "start_time": "2019-03-15T14:33:44.076199Z"
    }
   },
   "outputs": [
    {
     "data": {
      "text/plain": [
       "array([0.15249857, 0.08377078, 0.06213698, 0.05333807, 0.04819627,\n",
       "       0.04269841, 0.03891021, 0.03702434, 0.03450328, 0.03170213])"
      ]
     },
     "execution_count": 278,
     "metadata": {},
     "output_type": "execute_result"
    }
   ],
   "source": [
    "histosRatios.histograms[0].uncertainties"
   ]
  },
  {
   "cell_type": "code",
   "execution_count": 279,
   "metadata": {
    "ExecuteTime": {
     "end_time": "2019-03-15T14:33:47.944814Z",
     "start_time": "2019-03-15T14:33:47.940536Z"
    }
   },
   "outputs": [
    {
     "data": {
      "text/plain": [
       "array([       nan, 0.01534936, 0.01579592, 0.02074057, 0.02628963,\n",
       "       0.02973056, 0.03551237, 0.04216586, 0.04554875, 0.04846583])"
      ]
     },
     "execution_count": 279,
     "metadata": {},
     "output_type": "execute_result"
    }
   ],
   "source": [
    "histosRatios.histograms[1].uncertainties"
   ]
  },
  {
   "cell_type": "code",
   "execution_count": 280,
   "metadata": {
    "ExecuteTime": {
     "end_time": "2019-03-15T14:33:54.730740Z",
     "start_time": "2019-03-15T14:33:54.726258Z"
    }
   },
   "outputs": [
    {
     "data": {
      "text/plain": [
       "array([   0.,   18.,   60.,  171.,  361.,  663., 1168., 1731., 2407.,\n",
       "       3421.])"
      ]
     },
     "execution_count": 280,
     "metadata": {},
     "output_type": "execute_result"
    }
   ],
   "source": [
    "histos.histograms[1].counts"
   ]
  },
  {
   "cell_type": "code",
   "execution_count": 281,
   "metadata": {
    "ExecuteTime": {
     "end_time": "2019-03-15T14:34:05.028134Z",
     "start_time": "2019-03-15T14:34:05.023672Z"
    }
   },
   "outputs": [
    {
     "data": {
      "text/plain": [
       "array([  86.,  285.,  518.,  703.,  861., 1097., 1321., 1459., 1680.,\n",
       "       1990.])"
      ]
     },
     "execution_count": 281,
     "metadata": {},
     "output_type": "execute_result"
    }
   ],
   "source": [
    "histos.histograms[0].counts"
   ]
  },
  {
   "cell_type": "code",
   "execution_count": 284,
   "metadata": {
    "ExecuteTime": {
     "end_time": "2019-03-15T14:34:50.770045Z",
     "start_time": "2019-03-15T14:34:50.765996Z"
    }
   },
   "outputs": [
    {
     "name": "stdout",
     "output_type": "stream",
     "text": [
      "0.04846583388481339\n"
     ]
    }
   ],
   "source": [
    "c1=1990\n",
    "c2=3421\n",
    "print(c2/c1 * np.sqrt(1/np.sqrt(c2)**2 + 1/np.sqrt(c1)**2))\n",
    "del c1, c2"
   ]
  },
  {
   "cell_type": "markdown",
   "metadata": {},
   "source": [
    "###  2D Histograms"
   ]
  },
  {
   "cell_type": "code",
   "execution_count": 90,
   "metadata": {
    "ExecuteTime": {
     "end_time": "2019-05-31T12:56:24.506973Z",
     "start_time": "2019-05-31T12:56:24.502135Z"
    }
   },
   "outputs": [],
   "source": [
    "data2D =1+np.transpose(np.append([np.random.power(3,10000)],[np.random.power(5,10000)],axis=0)) # 3 data samples of which I can make a histogram"
   ]
  },
  {
   "cell_type": "code",
   "execution_count": 91,
   "metadata": {
    "ExecuteTime": {
     "end_time": "2019-05-31T12:56:26.149308Z",
     "start_time": "2019-05-31T12:56:26.145425Z"
    }
   },
   "outputs": [
    {
     "data": {
      "text/plain": [
       "(10000, 2)"
      ]
     },
     "execution_count": 91,
     "metadata": {},
     "output_type": "execute_result"
    }
   ],
   "source": [
    "data2D.shape"
   ]
  },
  {
   "cell_type": "code",
   "execution_count": 92,
   "metadata": {
    "ExecuteTime": {
     "end_time": "2019-05-31T12:56:36.099760Z",
     "start_time": "2019-05-31T12:56:36.094232Z"
    }
   },
   "outputs": [
    {
     "data": {
      "text/plain": [
       "array([[1.91393364, 1.77734066],\n",
       "       [1.69924112, 1.92241983],\n",
       "       [1.99750933, 1.85151497],\n",
       "       ...,\n",
       "       [1.87820941, 1.87439679],\n",
       "       [1.95199471, 1.8238798 ],\n",
       "       [1.61821223, 1.90022501]])"
      ]
     },
     "execution_count": 92,
     "metadata": {},
     "output_type": "execute_result"
    }
   ],
   "source": [
    "data2D"
   ]
  },
  {
   "cell_type": "code",
   "execution_count": 84,
   "metadata": {
    "ExecuteTime": {
     "end_time": "2019-05-31T12:32:00.235030Z",
     "start_time": "2019-05-31T12:32:00.070544Z"
    }
   },
   "outputs": [
    {
     "data": {
      "image/png": "[encoded data removed]",
      "text/plain": [
       "<Figure size 432x288 with 1 Axes>"
      ]
     },
     "metadata": {},
     "output_type": "display_data"
    }
   ],
   "source": [
    "_tuple_histo2d = plt.hist2d(data2D[:,0],data2D[:,1],cmap='Blues')"
   ]
  },
  {
   "cell_type": "code",
   "execution_count": 85,
   "metadata": {
    "ExecuteTime": {
     "end_time": "2019-05-31T12:32:04.023078Z",
     "start_time": "2019-05-31T12:32:04.020281Z"
    }
   },
   "outputs": [],
   "source": [
    "nc_histo2D = npc.Numpy2DHistogramData(_tuple_histo2d)"
   ]
  },
  {
   "cell_type": "code",
   "execution_count": 87,
   "metadata": {
    "ExecuteTime": {
     "end_time": "2019-05-31T12:40:25.406696Z",
     "start_time": "2019-05-31T12:40:25.403244Z"
    }
   },
   "outputs": [
    {
     "name": "stdout",
     "output_type": "stream",
     "text": [
      "no labels for this histogram ... keep going.\n"
     ]
    },
    {
     "name": "stderr",
     "output_type": "stream",
     "text": [
      "/Users/roberto/humanroot/utils/PyLHEanalysis/NumpyClasses.py:169: RuntimeWarning: invalid value encountered in true_divide\n",
      "  result.counts = self.counts/h2.counts\n"
     ]
    }
   ],
   "source": [
    "_ratio=npc.ratioH1overH2(nc_histo2D,nc_histo2D)"
   ]
  },
  {
   "cell_type": "code",
   "execution_count": 88,
   "metadata": {
    "ExecuteTime": {
     "end_time": "2019-05-31T12:40:30.818938Z",
     "start_time": "2019-05-31T12:40:30.807401Z"
    }
   },
   "outputs": [
    {
     "data": {
      "text/plain": [
       "array([[nan, nan,  1.,  1., nan,  1.,  1.,  1.,  1.,  1.],\n",
       "       [nan,  1.,  1.,  1.,  1.,  1.,  1.,  1.,  1.,  1.],\n",
       "       [nan,  1.,  1.,  1.,  1.,  1.,  1.,  1.,  1.,  1.],\n",
       "       [nan,  1.,  1.,  1.,  1.,  1.,  1.,  1.,  1.,  1.],\n",
       "       [nan,  1.,  1.,  1.,  1.,  1.,  1.,  1.,  1.,  1.],\n",
       "       [ 1.,  1.,  1.,  1.,  1.,  1.,  1.,  1.,  1.,  1.],\n",
       "       [ 1.,  1.,  1.,  1.,  1.,  1.,  1.,  1.,  1.,  1.],\n",
       "       [ 1.,  1.,  1.,  1.,  1.,  1.,  1.,  1.,  1.,  1.],\n",
       "       [ 1.,  1.,  1.,  1.,  1.,  1.,  1.,  1.,  1.,  1.],\n",
       "       [ 1.,  1.,  1.,  1.,  1.,  1.,  1.,  1.,  1.,  1.]])"
      ]
     },
     "execution_count": 88,
     "metadata": {},
     "output_type": "execute_result"
    }
   ],
   "source": [
    "_ratio.counts"
   ]
  },
  {
   "cell_type": "code",
   "execution_count": 87,
   "metadata": {
    "ExecuteTime": {
     "end_time": "2019-05-31T12:40:25.406696Z",
     "start_time": "2019-05-31T12:40:25.403244Z"
    }
   },
   "outputs": [
    {
     "name": "stdout",
     "output_type": "stream",
     "text": [
      "no labels for this histogram ... keep going.\n"
     ]
    },
    {
     "name": "stderr",
     "output_type": "stream",
     "text": [
      "/Users/roberto/humanroot/utils/PyLHEanalysis/NumpyClasses.py:169: RuntimeWarning: invalid value encountered in true_divide\n",
      "  result.counts = self.counts/h2.counts\n"
     ]
    }
   ],
   "source": [
    "_ratio=npc.ratioList(nc_histo2D,nc_histo2D)"
   ]
  },
  {
   "cell_type": "markdown",
   "metadata": {
    "heading_collapsed": true
   },
   "source": [
    "### Demo of the Class inheritance, deprecated"
   ]
  },
  {
   "cell_type": "code",
   "execution_count": 102,
   "metadata": {
    "ExecuteTime": {
     "end_time": "2019-03-14T10:01:10.935996Z",
     "start_time": "2019-03-14T10:01:10.933194Z"
    },
    "hidden": true
   },
   "outputs": [],
   "source": [
    "_r=hst.Histogram(super=histos.histograms[0]).ratio(hst.Histogram(super=histos.histograms[1]))"
   ]
  },
  {
   "cell_type": "code",
   "execution_count": 103,
   "metadata": {
    "ExecuteTime": {
     "end_time": "2019-03-14T10:01:11.812930Z",
     "start_time": "2019-03-14T10:01:11.808210Z"
    },
    "hidden": true
   },
   "outputs": [
    {
     "data": {
      "text/plain": [
       "array([1.2       , 0.84210526, 1.06896552, 1.02941176, 0.6       ,\n",
       "       1.40740741, 1.32142857, 1.25      , 0.69444444, 0.85714286])"
      ]
     },
     "execution_count": 103,
     "metadata": {},
     "output_type": "execute_result"
    }
   ],
   "source": [
    "_r.counts"
   ]
  }
 ],
 "metadata": {
  "celltoolbar": "Initialization Cell",
  "kernelspec": {
   "display_name": "Python 3",
   "language": "python",
   "name": "python3"
  },
  "language_info": {
   "codemirror_mode": {
    "name": "ipython",
    "version": 3
   },
   "file_extension": ".py",
   "mimetype": "text/x-python",
   "name": "python",
   "nbconvert_exporter": "python",
   "pygments_lexer": "ipython3",
   "version": "3.7.0"
  },
  "latex_envs": {
   "LaTeX_envs_menu_present": true,
   "autocomplete": true,
   "bibliofile": "biblio.bib",
   "cite_by": "apalike",
   "current_citInitial": 1,
   "eqLabelWithNumbers": true,
   "eqNumInitial": 1,
   "hotkeys": {
    "equation": "Ctrl-E",
    "itemize": "Ctrl-I"
   },
   "labels_anchors": false,
   "latex_user_defs": false,
   "report_style_numbering": false,
   "user_envs_cfg": false
  }
 },
 "nbformat": 4,
 "nbformat_minor": 2
}
