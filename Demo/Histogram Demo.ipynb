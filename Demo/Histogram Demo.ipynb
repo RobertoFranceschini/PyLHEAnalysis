{
 "cells": [
  {
   "cell_type": "code",
   "execution_count": 586,
   "metadata": {
    "ExecuteTime": {
     "end_time": "2019-06-03T16:13:02.253297Z",
     "start_time": "2019-06-03T16:13:02.249875Z"
    },
    "init_cell": true
   },
   "outputs": [],
   "source": [
    "#import Histogram as hst\n",
    "import NumpyClasses as npc\n",
    "import numpy as np\n",
    "import matplotlib.pyplot as plt\n",
    "import utils as u"
   ]
  },
  {
   "cell_type": "code",
   "execution_count": 587,
   "metadata": {
    "ExecuteTime": {
     "end_time": "2019-06-03T16:13:02.261872Z",
     "start_time": "2019-06-03T16:13:02.255714Z"
    },
    "init_cell": true
   },
   "outputs": [],
   "source": [
    "import importlib"
   ]
  },
  {
   "cell_type": "code",
   "execution_count": 588,
   "metadata": {
    "ExecuteTime": {
     "end_time": "2019-06-03T16:13:02.272114Z",
     "start_time": "2019-06-03T16:13:02.265261Z"
    },
    "init_cell": true,
    "scrolled": true
   },
   "outputs": [
    {
     "data": {
      "text/plain": [
       "<module 'NumpyClasses' from '/Users/roberto/humanroot/utils/PyLHEanalysis/NumpyClasses.py'>"
      ]
     },
     "execution_count": 588,
     "metadata": {},
     "output_type": "execute_result"
    }
   ],
   "source": [
    "importlib.reload(npc)"
   ]
  },
  {
   "cell_type": "code",
   "execution_count": 589,
   "metadata": {
    "ExecuteTime": {
     "end_time": "2019-06-03T16:13:02.284795Z",
     "start_time": "2019-06-03T16:13:02.274760Z"
    },
    "init_cell": true,
    "scrolled": true
   },
   "outputs": [
    {
     "data": {
      "text/plain": [
       "<module 'matplotlib.pyplot' from '/usr/local/Cellar/python/3.7.0/Frameworks/Python.framework/Versions/3.7/lib/python3.7/site-packages/matplotlib/pyplot.py'>"
      ]
     },
     "execution_count": 589,
     "metadata": {},
     "output_type": "execute_result"
    }
   ],
   "source": [
    "importlib.reload(plt)"
   ]
  },
  {
   "cell_type": "code",
   "execution_count": 13,
   "metadata": {
    "ExecuteTime": {
     "end_time": "2019-06-02T21:33:33.307279Z",
     "start_time": "2019-06-02T21:33:33.303151Z"
    }
   },
   "outputs": [
    {
     "data": {
      "text/plain": [
       "'3.1.0'"
      ]
     },
     "execution_count": 13,
     "metadata": {},
     "output_type": "execute_result"
    }
   ],
   "source": [
    "import matplotlib\n",
    "matplotlib.__version__"
   ]
  },
  {
   "cell_type": "code",
   "execution_count": 590,
   "metadata": {
    "ExecuteTime": {
     "end_time": "2019-06-03T16:13:02.611848Z",
     "start_time": "2019-06-03T16:13:02.286773Z"
    },
    "init_cell": true,
    "scrolled": true
   },
   "outputs": [
    {
     "data": {
      "text/plain": [
       "<module 'utils' from '/Users/roberto/scriptbelt/utils.py'>"
      ]
     },
     "execution_count": 590,
     "metadata": {},
     "output_type": "execute_result"
    },
    {
     "data": {
      "image/png": "[encoded data removed]",
      "text/plain": [
       "<Figure size 432x288 with 2 Axes>"
      ]
     },
     "metadata": {},
     "output_type": "display_data"
    }
   ],
   "source": [
    "importlib.reload(u)"
   ]
  },
  {
   "cell_type": "markdown",
   "metadata": {
    "heading_collapsed": true
   },
   "source": [
    "### 1D constructors from Histograms"
   ]
  },
  {
   "cell_type": "code",
   "execution_count": 52,
   "metadata": {
    "ExecuteTime": {
     "end_time": "2019-03-13T11:11:22.553353Z",
     "start_time": "2019-03-13T11:11:22.550671Z"
    },
    "hidden": true
   },
   "outputs": [],
   "source": [
    "hAtInit = hst.Histogram(counts=[11,12,13])"
   ]
  },
  {
   "cell_type": "code",
   "execution_count": 53,
   "metadata": {
    "ExecuteTime": {
     "end_time": "2019-03-13T11:11:24.250461Z",
     "start_time": "2019-03-13T11:11:24.246350Z"
    },
    "hidden": true
   },
   "outputs": [
    {
     "data": {
      "text/plain": [
       "array([11, 12, 13])"
      ]
     },
     "execution_count": 53,
     "metadata": {},
     "output_type": "execute_result"
    }
   ],
   "source": [
    "hAtInit.counts"
   ]
  },
  {
   "cell_type": "code",
   "execution_count": 54,
   "metadata": {
    "ExecuteTime": {
     "end_time": "2019-03-13T11:11:28.907413Z",
     "start_time": "2019-03-13T11:11:28.903168Z"
    },
    "hidden": true
   },
   "outputs": [
    {
     "data": {
      "text/plain": [
       "array([], dtype=float64)"
      ]
     },
     "execution_count": 54,
     "metadata": {},
     "output_type": "execute_result"
    }
   ],
   "source": [
    "hAtInit.uncertainties"
   ]
  },
  {
   "cell_type": "code",
   "execution_count": 21,
   "metadata": {
    "ExecuteTime": {
     "end_time": "2019-03-13T09:55:33.108430Z",
     "start_time": "2019-03-13T09:55:33.106031Z"
    },
    "hidden": true
   },
   "outputs": [],
   "source": [
    "h1 = hst.Histogram()"
   ]
  },
  {
   "cell_type": "code",
   "execution_count": 28,
   "metadata": {
    "ExecuteTime": {
     "end_time": "2019-03-13T09:56:22.892101Z",
     "start_time": "2019-03-13T09:56:22.889980Z"
    },
    "hidden": true
   },
   "outputs": [],
   "source": [
    "h1.values=np.array([100,16,9])"
   ]
  },
  {
   "cell_type": "code",
   "execution_count": 23,
   "metadata": {
    "ExecuteTime": {
     "end_time": "2019-03-13T09:55:38.300677Z",
     "start_time": "2019-03-13T09:55:38.298364Z"
    },
    "hidden": true
   },
   "outputs": [],
   "source": [
    "h2 = hst.Histogram()"
   ]
  },
  {
   "cell_type": "code",
   "execution_count": 43,
   "metadata": {
    "ExecuteTime": {
     "end_time": "2019-03-13T09:59:52.986671Z",
     "start_time": "2019-03-13T09:59:52.982731Z"
    },
    "hidden": true
   },
   "outputs": [],
   "source": [
    "h2.values=4*np.array([100,16,9])"
   ]
  },
  {
   "cell_type": "code",
   "execution_count": 44,
   "metadata": {
    "ExecuteTime": {
     "end_time": "2019-03-13T09:59:53.452756Z",
     "start_time": "2019-03-13T09:59:53.449853Z"
    },
    "hidden": true
   },
   "outputs": [],
   "source": [
    "h12=h1.ratio(h2,uncertainties=\"Gauss\")"
   ]
  },
  {
   "cell_type": "code",
   "execution_count": 45,
   "metadata": {
    "ExecuteTime": {
     "end_time": "2019-03-13T09:59:54.694965Z",
     "start_time": "2019-03-13T09:59:54.691095Z"
    },
    "hidden": true
   },
   "outputs": [
    {
     "data": {
      "text/plain": [
       "array([0.25, 0.25, 0.25])"
      ]
     },
     "execution_count": 45,
     "metadata": {},
     "output_type": "execute_result"
    }
   ],
   "source": [
    "h12.values"
   ]
  },
  {
   "cell_type": "code",
   "execution_count": 46,
   "metadata": {
    "ExecuteTime": {
     "end_time": "2019-03-13T09:59:56.519599Z",
     "start_time": "2019-03-13T09:59:56.515045Z"
    },
    "hidden": true
   },
   "outputs": [
    {
     "data": {
      "text/plain": [
       "array([0.02795085, 0.06987712, 0.0931695 ])"
      ]
     },
     "execution_count": 46,
     "metadata": {},
     "output_type": "execute_result"
    }
   ],
   "source": [
    "h12.uncertainties"
   ]
  },
  {
   "cell_type": "code",
   "execution_count": 48,
   "metadata": {
    "ExecuteTime": {
     "end_time": "2019-03-13T10:00:15.010391Z",
     "start_time": "2019-03-13T10:00:15.005180Z"
    },
    "hidden": true
   },
   "outputs": [
    {
     "data": {
      "text/plain": [
       "0.02795084971874737"
      ]
     },
     "execution_count": 48,
     "metadata": {},
     "output_type": "execute_result"
    }
   ],
   "source": [
    "0.25*np.sqrt(1/100+1/400)"
   ]
  },
  {
   "cell_type": "markdown",
   "metadata": {
    "heading_collapsed": true
   },
   "source": [
    "### 1D constructors from NumpyClasses"
   ]
  },
  {
   "cell_type": "code",
   "execution_count": 78,
   "metadata": {
    "ExecuteTime": {
     "end_time": "2019-03-14T09:31:22.571389Z",
     "start_time": "2019-03-14T09:31:22.240556Z"
    },
    "hidden": true
   },
   "outputs": [
    {
     "data": {
      "image/png": "[encoded data removed]",
      "text/plain": [
       "<Figure size 432x288 with 1 Axes>"
      ]
     },
     "metadata": {},
     "output_type": "display_data"
    }
   ],
   "source": [
    "data = np.random.rand(322)\n",
    "# make the histogram with NumPy\n",
    "nph = np.histogram( data ) \n",
    "# then create a 1DHistogramData holder from the tuple output of np.histogram\n",
    "h1d = NumpyClasses.Numpy1DHistogramData(tup = nph )\n",
    "# make the same histogram from Matplotlib\n",
    "mplh= plt.hist( data )\n",
    "# create the 1DHistogramData from the tuple output (which now has the \"patches\" output as well)\n",
    "h1dmpl = NumpyClasses.Numpy1DHistogramData(tup = mplh )\n",
    "# the same creation of Histogram objects can be carried out on the derived class Histogram, which inherits from 1DHistogramData \n",
    "nph = np.histogram( data ) \n",
    "hsimplenp = hst.Histogram(tup = nph )\n",
    "\n",
    "mplh= plt.hist( data )\n",
    "h1dmplsimple = hst.Histogram(tup = mplh )"
   ]
  },
  {
   "cell_type": "markdown",
   "metadata": {
    "hidden": true
   },
   "source": [
    "###### Can check the histograms contain the same things"
   ]
  },
  {
   "cell_type": "code",
   "execution_count": 72,
   "metadata": {
    "ExecuteTime": {
     "end_time": "2019-03-13T11:17:23.318935Z",
     "start_time": "2019-03-13T11:17:23.314440Z"
    },
    "hidden": true
   },
   "outputs": [
    {
     "data": {
      "text/plain": [
       "array([0.00247947, 0.10177423, 0.20106898, 0.30036373, 0.39965848,\n",
       "       0.49895324, 0.59824799, 0.69754274, 0.79683749, 0.89613225,\n",
       "       0.995427  ])"
      ]
     },
     "execution_count": 72,
     "metadata": {},
     "output_type": "execute_result"
    }
   ],
   "source": [
    "h1d.bins"
   ]
  },
  {
   "cell_type": "code",
   "execution_count": 73,
   "metadata": {
    "ExecuteTime": {
     "end_time": "2019-03-13T11:17:24.775830Z",
     "start_time": "2019-03-13T11:17:24.771137Z"
    },
    "hidden": true
   },
   "outputs": [
    {
     "data": {
      "text/plain": [
       "array([0.00247947, 0.10177423, 0.20106898, 0.30036373, 0.39965848,\n",
       "       0.49895324, 0.59824799, 0.69754274, 0.79683749, 0.89613225,\n",
       "       0.995427  ])"
      ]
     },
     "execution_count": 73,
     "metadata": {},
     "output_type": "execute_result"
    }
   ],
   "source": [
    "h1dmpl.bins"
   ]
  },
  {
   "cell_type": "code",
   "execution_count": 74,
   "metadata": {
    "ExecuteTime": {
     "end_time": "2019-03-13T11:17:25.711100Z",
     "start_time": "2019-03-13T11:17:25.707011Z"
    },
    "hidden": true
   },
   "outputs": [
    {
     "data": {
      "text/plain": [
       "array([0.00247947, 0.10177423, 0.20106898, 0.30036373, 0.39965848,\n",
       "       0.49895324, 0.59824799, 0.69754274, 0.79683749, 0.89613225,\n",
       "       0.995427  ])"
      ]
     },
     "execution_count": 74,
     "metadata": {},
     "output_type": "execute_result"
    }
   ],
   "source": [
    "hsimplenp.bins"
   ]
  },
  {
   "cell_type": "code",
   "execution_count": 75,
   "metadata": {
    "ExecuteTime": {
     "end_time": "2019-03-13T11:17:26.519730Z",
     "start_time": "2019-03-13T11:17:26.515106Z"
    },
    "hidden": true
   },
   "outputs": [
    {
     "data": {
      "text/plain": [
       "array([0.00247947, 0.10177423, 0.20106898, 0.30036373, 0.39965848,\n",
       "       0.49895324, 0.59824799, 0.69754274, 0.79683749, 0.89613225,\n",
       "       0.995427  ])"
      ]
     },
     "execution_count": 75,
     "metadata": {},
     "output_type": "execute_result"
    }
   ],
   "source": [
    "h1dmplsimple.bins"
   ]
  },
  {
   "cell_type": "code",
   "execution_count": 76,
   "metadata": {
    "ExecuteTime": {
     "end_time": "2019-03-13T11:17:37.119650Z",
     "start_time": "2019-03-13T11:17:37.116044Z"
    },
    "hidden": true
   },
   "outputs": [
    {
     "data": {
      "text/plain": [
       "array([37, 30, 39, 39, 30, 32, 28, 32, 33, 22])"
      ]
     },
     "execution_count": 76,
     "metadata": {},
     "output_type": "execute_result"
    }
   ],
   "source": [
    "h1d.counts"
   ]
  },
  {
   "cell_type": "code",
   "execution_count": 77,
   "metadata": {
    "ExecuteTime": {
     "end_time": "2019-03-13T11:17:48.513802Z",
     "start_time": "2019-03-13T11:17:48.510103Z"
    },
    "hidden": true
   },
   "outputs": [
    {
     "data": {
      "text/plain": [
       "array([37., 30., 39., 39., 30., 32., 28., 32., 33., 22.])"
      ]
     },
     "execution_count": 77,
     "metadata": {},
     "output_type": "execute_result"
    }
   ],
   "source": [
    "h1dmplsimple.counts"
   ]
  },
  {
   "cell_type": "markdown",
   "metadata": {},
   "source": [
    "### 1D constructors from NumpyClasses (standardized)"
   ]
  },
  {
   "cell_type": "code",
   "execution_count": 68,
   "metadata": {
    "ExecuteTime": {
     "end_time": "2019-06-02T23:38:33.355991Z",
     "start_time": "2019-06-02T23:38:33.102407Z"
    }
   },
   "outputs": [
    {
     "data": {
      "image/png": "[encoded data removed]",
      "text/plain": [
       "<Figure size 432x288 with 1 Axes>"
      ]
     },
     "metadata": {},
     "output_type": "display_data"
    }
   ],
   "source": [
    "data = np.random.rand(322)\n",
    "# make the histogram with NumPy\n",
    "nph = np.histogram( data ) \n",
    "# then create a 1DHistogramData holder from the tuple output of np.histogram\n",
    "h1d = npc.NumpyHistogramData(tup = nph )\n",
    "# make the same histogram from Matplotlib\n",
    "mplh= plt.hist( data )\n",
    "# create the 1DHistogramData from the tuple output (which now has the \"patches\" output as well)\n",
    "h1dmpl = npc.NumpyHistogramData(tup = mplh )\n",
    "# the same creation of Histogram objects can be carried out on the derived class Histogram, which inherits from 1DHistogramData \n",
    "nph = np.histogram( data ) \n",
    "mplh= plt.hist( data )\n"
   ]
  },
  {
   "cell_type": "markdown",
   "metadata": {},
   "source": [
    "###### Can check the histograms contain the same things"
   ]
  },
  {
   "cell_type": "code",
   "execution_count": 69,
   "metadata": {
    "ExecuteTime": {
     "end_time": "2019-06-02T23:38:33.362155Z",
     "start_time": "2019-06-02T23:38:33.357985Z"
    }
   },
   "outputs": [
    {
     "data": {
      "text/plain": [
       "array([0.00129353, 0.10098336, 0.20067319, 0.30036302, 0.40005284,\n",
       "       0.49974267, 0.5994325 , 0.69912232, 0.79881215, 0.89850198,\n",
       "       0.99819181])"
      ]
     },
     "execution_count": 69,
     "metadata": {},
     "output_type": "execute_result"
    }
   ],
   "source": [
    "h1d.bins"
   ]
  },
  {
   "cell_type": "code",
   "execution_count": 70,
   "metadata": {
    "ExecuteTime": {
     "end_time": "2019-06-02T23:38:33.369921Z",
     "start_time": "2019-06-02T23:38:33.364177Z"
    }
   },
   "outputs": [
    {
     "data": {
      "text/plain": [
       "array([0.00129353, 0.10098336, 0.20067319, 0.30036302, 0.40005284,\n",
       "       0.49974267, 0.5994325 , 0.69912232, 0.79881215, 0.89850198,\n",
       "       0.99819181])"
      ]
     },
     "execution_count": 70,
     "metadata": {},
     "output_type": "execute_result"
    }
   ],
   "source": [
    "h1dmpl.bins"
   ]
  },
  {
   "cell_type": "code",
   "execution_count": 71,
   "metadata": {
    "ExecuteTime": {
     "end_time": "2019-06-02T23:38:33.377977Z",
     "start_time": "2019-06-02T23:38:33.372192Z"
    }
   },
   "outputs": [
    {
     "data": {
      "text/plain": [
       "array([0.00129353, 0.10098336, 0.20067319, 0.30036302, 0.40005284,\n",
       "       0.49974267, 0.5994325 , 0.69912232, 0.79881215, 0.89850198,\n",
       "       0.99819181])"
      ]
     },
     "execution_count": 71,
     "metadata": {},
     "output_type": "execute_result"
    }
   ],
   "source": [
    "h1d.edges"
   ]
  },
  {
   "cell_type": "code",
   "execution_count": 72,
   "metadata": {
    "ExecuteTime": {
     "end_time": "2019-06-02T23:38:33.385025Z",
     "start_time": "2019-06-02T23:38:33.379973Z"
    }
   },
   "outputs": [
    {
     "data": {
      "text/plain": [
       "array([30., 28., 27., 38., 39., 34., 36., 35., 29., 26.])"
      ]
     },
     "execution_count": 72,
     "metadata": {},
     "output_type": "execute_result"
    }
   ],
   "source": [
    "h1dmpl.counts"
   ]
  },
  {
   "cell_type": "code",
   "execution_count": 73,
   "metadata": {
    "ExecuteTime": {
     "end_time": "2019-06-02T23:38:33.391593Z",
     "start_time": "2019-06-02T23:38:33.387475Z"
    }
   },
   "outputs": [
    {
     "data": {
      "text/plain": [
       "array([30, 28, 27, 38, 39, 34, 36, 35, 29, 26])"
      ]
     },
     "execution_count": 73,
     "metadata": {},
     "output_type": "execute_result"
    }
   ],
   "source": [
    "h1d.counts"
   ]
  },
  {
   "cell_type": "markdown",
   "metadata": {},
   "source": [
    "### Multiple Histograms"
   ]
  },
  {
   "cell_type": "code",
   "execution_count": 431,
   "metadata": {
    "ExecuteTime": {
     "end_time": "2019-06-03T01:08:37.364252Z",
     "start_time": "2019-06-03T01:08:37.357913Z"
    }
   },
   "outputs": [],
   "source": [
    "data2 =[ np.random.power(i,10000) for i in [2,4,8] ] # 3 data samples of which I can make a histogram"
   ]
  },
  {
   "cell_type": "markdown",
   "metadata": {},
   "source": [
    "#### Plot the data with npc_hist"
   ]
  },
  {
   "cell_type": "code",
   "execution_count": 432,
   "metadata": {
    "ExecuteTime": {
     "end_time": "2019-06-03T01:08:37.444974Z",
     "start_time": "2019-06-03T01:08:37.440139Z"
    }
   },
   "outputs": [],
   "source": [
    "# Work in progress for a better plot function that returns directly the standardized tuple\n",
    "# will become npc.hist to replace plt.hist\n",
    "def npc_hist(data,bins,label=None,histtype='step',**kwargs):\n",
    "    \n",
    "    ##############################################\n",
    "    def make_label(labels,h):\n",
    "        ##############################################\n",
    "        try:\n",
    "            return labels[h]\n",
    "        except IndexError:\n",
    "            return \"\"\n",
    "        except TypeError:\n",
    "            return \"\"\n",
    "        \n",
    "    mplHistoMulpliple_Tuple = plt.hist( data ,histtype=histtype, bins=bins,label=label,**kwargs)\n",
    "    histos = npc.NumpyVectorHistogramData(tup = mplHistoMulpliple_Tuple)\n",
    "\n",
    "    if label != None:\n",
    "        plt.legend(bbox_to_anchor=[1,1])\n",
    "        for h in range(len(histos.histograms) ):\n",
    "            histos.histograms[h].label = make_label(label,h)\n",
    "    return histos"
   ]
  },
  {
   "cell_type": "code",
   "execution_count": 433,
   "metadata": {
    "ExecuteTime": {
     "end_time": "2019-06-03T01:08:37.724608Z",
     "start_time": "2019-06-03T01:08:37.447162Z"
    }
   },
   "outputs": [
    {
     "data": {
      "image/png": "[encoded data removed]",
      "text/plain": [
       "<Figure size 432x288 with 1 Axes>"
      ]
     },
     "metadata": {},
     "output_type": "display_data"
    }
   ],
   "source": [
    "npc_histos = npc_hist(data2,u.arange(0,1,0.1),label=['1','2','3'],histtype='step')\n",
    "plt.title(\"pp\");"
   ]
  },
  {
   "cell_type": "markdown",
   "metadata": {},
   "source": [
    "- check the label"
   ]
  },
  {
   "cell_type": "code",
   "execution_count": 434,
   "metadata": {
    "ExecuteTime": {
     "end_time": "2019-06-03T01:08:37.731024Z",
     "start_time": "2019-06-03T01:08:37.727104Z"
    }
   },
   "outputs": [
    {
     "data": {
      "text/plain": [
       "'3'"
      ]
     },
     "execution_count": 434,
     "metadata": {},
     "output_type": "execute_result"
    }
   ],
   "source": [
    "npc_histos.histograms[2].label"
   ]
  },
  {
   "cell_type": "markdown",
   "metadata": {},
   "source": [
    "##### Re-make the plot using the info in the _NumpyClasses.NumpyVectorHistogramData_"
   ]
  },
  {
   "cell_type": "code",
   "execution_count": 435,
   "metadata": {
    "ExecuteTime": {
     "end_time": "2019-06-03T01:08:37.957518Z",
     "start_time": "2019-06-03T01:08:37.733113Z"
    },
    "scrolled": true
   },
   "outputs": [
    {
     "data": {
      "text/plain": [
       "<matplotlib.axes._subplots.AxesSubplot at 0x10e29aef0>"
      ]
     },
     "execution_count": 435,
     "metadata": {},
     "output_type": "execute_result"
    },
    {
     "data": {
      "image/png": "[encoded data removed]",
      "text/plain": [
       "<Figure size 432x288 with 1 Axes>"
      ]
     },
     "metadata": {},
     "output_type": "display_data"
    }
   ],
   "source": [
    "npc.histoPlot(npc_histos.histograms[0])"
   ]
  },
  {
   "cell_type": "code",
   "execution_count": 436,
   "metadata": {
    "ExecuteTime": {
     "end_time": "2019-06-03T01:08:38.217354Z",
     "start_time": "2019-06-03T01:08:37.959846Z"
    },
    "scrolled": true
   },
   "outputs": [
    {
     "data": {
      "text/plain": [
       "<matplotlib.axes._subplots.AxesSubplot at 0x10edcaba8>"
      ]
     },
     "execution_count": 436,
     "metadata": {},
     "output_type": "execute_result"
    },
    {
     "data": {
      "image/png": "[encoded data removed]",
      "text/plain": [
       "<Figure size 432x288 with 1 Axes>"
      ]
     },
     "metadata": {},
     "output_type": "display_data"
    }
   ],
   "source": [
    "npc.histoPlots(npc_histos)"
   ]
  },
  {
   "cell_type": "code",
   "execution_count": 437,
   "metadata": {
    "ExecuteTime": {
     "end_time": "2019-06-03T01:08:38.468639Z",
     "start_time": "2019-06-03T01:08:38.219306Z"
    },
    "scrolled": true
   },
   "outputs": [
    {
     "data": {
      "text/plain": [
       "<matplotlib.axes._subplots.AxesSubplot at 0x10ee672e8>"
      ]
     },
     "execution_count": 437,
     "metadata": {},
     "output_type": "execute_result"
    },
    {
     "data": {
      "image/png": "[encoded data removed]",
      "text/plain": [
       "<Figure size 432x288 with 1 Axes>"
      ]
     },
     "metadata": {},
     "output_type": "display_data"
    }
   ],
   "source": [
    "npc.histoPlots(npc_histos,labels=['1','2','3'])"
   ]
  },
  {
   "cell_type": "markdown",
   "metadata": {},
   "source": [
    "- replot only a subset of the histograms"
   ]
  },
  {
   "cell_type": "code",
   "execution_count": 438,
   "metadata": {
    "ExecuteTime": {
     "end_time": "2019-06-03T01:08:38.735481Z",
     "start_time": "2019-06-03T01:08:38.470726Z"
    },
    "scrolled": true
   },
   "outputs": [
    {
     "data": {
      "text/plain": [
       "<matplotlib.axes._subplots.AxesSubplot at 0x10d570780>"
      ]
     },
     "execution_count": 438,
     "metadata": {},
     "output_type": "execute_result"
    },
    {
     "data": {
      "image/png": "[encoded data removed]",
      "text/plain": [
       "<Figure size 432x288 with 1 Axes>"
      ]
     },
     "metadata": {},
     "output_type": "display_data"
    }
   ],
   "source": [
    "npc.histoPlots(npc_histos,subset=[0,1,2])"
   ]
  },
  {
   "cell_type": "markdown",
   "metadata": {},
   "source": [
    "#### Plot with Matplotlib "
   ]
  },
  {
   "cell_type": "code",
   "execution_count": 439,
   "metadata": {
    "ExecuteTime": {
     "end_time": "2019-06-03T01:08:39.003914Z",
     "start_time": "2019-06-03T01:08:38.737383Z"
    }
   },
   "outputs": [
    {
     "data": {
      "text/plain": [
       "<matplotlib.legend.Legend at 0x10f026c18>"
      ]
     },
     "execution_count": 439,
     "metadata": {},
     "output_type": "execute_result"
    },
    {
     "data": {
      "image/png": "[encoded data removed]",
      "text/plain": [
       "<Figure size 432x288 with 1 Axes>"
      ]
     },
     "metadata": {},
     "output_type": "display_data"
    }
   ],
   "source": [
    "mplHistoMulplipleTuple = plt.hist( data2 , histtype='step', bins=u.arange(0,1,0.1),label=[\"a\",\"b\",\"c\"])\n",
    "plt.legend(bbox_to_anchor=[1,1])"
   ]
  },
  {
   "cell_type": "markdown",
   "metadata": {},
   "source": [
    "save the plot as histograms in a NumpyClasses object"
   ]
  },
  {
   "cell_type": "code",
   "execution_count": 440,
   "metadata": {
    "ExecuteTime": {
     "end_time": "2019-06-03T01:08:39.010498Z",
     "start_time": "2019-06-03T01:08:39.006788Z"
    }
   },
   "outputs": [],
   "source": [
    "histos = npc.NumpyVectorHistogramData(tup = mplHistoMulplipleTuple)"
   ]
  },
  {
   "cell_type": "code",
   "execution_count": 441,
   "metadata": {
    "ExecuteTime": {
     "end_time": "2019-06-03T01:08:39.017332Z",
     "start_time": "2019-06-03T01:08:39.012815Z"
    }
   },
   "outputs": [
    {
     "data": {
      "text/plain": [
       "array([ True,  True,  True,  True,  True,  True,  True,  True,  True,\n",
       "        True,  True])"
      ]
     },
     "execution_count": 441,
     "metadata": {},
     "output_type": "execute_result"
    }
   ],
   "source": [
    "histos.histograms[0].bins==histos.histograms[0].bins"
   ]
  },
  {
   "cell_type": "markdown",
   "metadata": {},
   "source": [
    "plot again only a subset of the histograms"
   ]
  },
  {
   "cell_type": "code",
   "execution_count": 442,
   "metadata": {
    "ExecuteTime": {
     "end_time": "2019-06-03T01:08:39.294603Z",
     "start_time": "2019-06-03T01:08:39.019727Z"
    }
   },
   "outputs": [
    {
     "data": {
      "text/plain": [
       "<matplotlib.legend.Legend at 0x10f273978>"
      ]
     },
     "execution_count": 442,
     "metadata": {},
     "output_type": "execute_result"
    },
    {
     "data": {
      "image/png": "[encoded data removed]",
      "text/plain": [
       "<Figure size 432x288 with 1 Axes>"
      ]
     },
     "metadata": {},
     "output_type": "display_data"
    }
   ],
   "source": [
    "ax = npc.histoPlot(histos.histograms[0],label='a')\n",
    "npc.histoPlot(histos.histograms[1],linewidth=3, ax=ax,label='b')\n",
    "ax.legend(bbox_to_anchor=[1,1])"
   ]
  },
  {
   "cell_type": "markdown",
   "metadata": {},
   "source": [
    "plot them all with a specific function"
   ]
  },
  {
   "cell_type": "code",
   "execution_count": 443,
   "metadata": {
    "ExecuteTime": {
     "end_time": "2019-06-03T01:08:39.562894Z",
     "start_time": "2019-06-03T01:08:39.296728Z"
    }
   },
   "outputs": [
    {
     "data": {
      "text/plain": [
       "<matplotlib.axes._subplots.AxesSubplot at 0x10f0542e8>"
      ]
     },
     "execution_count": 443,
     "metadata": {},
     "output_type": "execute_result"
    },
    {
     "data": {
      "image/png": "[encoded data removed]",
      "text/plain": [
       "<Figure size 432x288 with 1 Axes>"
      ]
     },
     "metadata": {},
     "output_type": "display_data"
    }
   ],
   "source": [
    "npc.histoPlots(histos,labels=['A','B'],subset=[0,1])#,fmt='o')"
   ]
  },
  {
   "cell_type": "markdown",
   "metadata": {},
   "source": [
    "plot a subset with a function"
   ]
  },
  {
   "cell_type": "code",
   "execution_count": 444,
   "metadata": {
    "ExecuteTime": {
     "end_time": "2019-06-03T01:08:39.815983Z",
     "start_time": "2019-06-03T01:08:39.565202Z"
    }
   },
   "outputs": [
    {
     "data": {
      "text/plain": [
       "<matplotlib.axes._subplots.AxesSubplot at 0x10f39df60>"
      ]
     },
     "execution_count": 444,
     "metadata": {},
     "output_type": "execute_result"
    },
    {
     "data": {
      "image/png": "[encoded data removed]",
      "text/plain": [
       "<Figure size 432x288 with 1 Axes>"
      ]
     },
     "metadata": {},
     "output_type": "display_data"
    }
   ],
   "source": [
    "npc.histoPlots(histos,labels=['A','B'],subset=[0])#,fmt='o')"
   ]
  },
  {
   "cell_type": "markdown",
   "metadata": {},
   "source": [
    "####  Ratios and uncertainties"
   ]
  },
  {
   "cell_type": "markdown",
   "metadata": {},
   "source": [
    "compute the ratio of the histograms and compute uncertainties assuming the total number of points in each histogram is $10^4$"
   ]
  },
  {
   "cell_type": "code",
   "execution_count": 445,
   "metadata": {
    "ExecuteTime": {
     "end_time": "2019-06-03T01:08:39.825636Z",
     "start_time": "2019-06-03T01:08:39.818158Z"
    }
   },
   "outputs": [
    {
     "name": "stdout",
     "output_type": "stream",
     "text": [
      "set  counts\n",
      "[1. 1. 1. 1. 1. 1. 1. 1. 1. 1.]\n",
      "set  bins\n",
      "[0.  0.1 0.2 0.3 0.4 0.5 0.6 0.7 0.8 0.9 1. ]\n",
      "set  counts\n",
      "[0.         0.03416149 0.11324376 0.18472222 0.44795322 0.63757792\n",
      " 0.81490015 1.09840426 1.46039309 1.89031568]\n",
      "set  bins\n",
      "[0.  0.1 0.2 0.3 0.4 0.5 0.6 0.7 0.8 0.9 1. ]\n",
      "set  counts\n",
      "[0.         0.         0.00383877 0.00555556 0.04561404 0.12288513\n",
      " 0.32258065 0.73670213 1.51220965 3.0765115 ]\n",
      "set  bins\n",
      "[0.  0.1 0.2 0.3 0.4 0.5 0.6 0.7 0.8 0.9 1. ]\n"
     ]
    },
    {
     "name": "stderr",
     "output_type": "stream",
     "text": [
      "/Users/roberto/humanroot/utils/PyLHEanalysis/NumpyClasses.py:269: RuntimeWarning: invalid value encountered in true_divide\n",
      "  result.uncertainties = getattr(self,counts)/getattr(h2,counts) * u.sumQuadrature( [  np.sqrt(getattr(h2,counts))/getattr(h2,counts)/np.sqrt(_rescaling2) ,  np.sqrt(getattr(self,counts))/getattr(self,counts) /np.sqrt(_rescaling1) ]  )\n"
     ]
    }
   ],
   "source": [
    "histosRatios=npc.ratioList(npc_histos,wrt=0,uncertainties=1000)"
   ]
  },
  {
   "cell_type": "markdown",
   "metadata": {
    "ExecuteTime": {
     "end_time": "2019-03-15T18:08:26.904805Z",
     "start_time": "2019-03-15T18:08:26.900833Z"
    }
   },
   "source": [
    "plot the histograms again one by one by hand"
   ]
  },
  {
   "cell_type": "code",
   "execution_count": 446,
   "metadata": {
    "ExecuteTime": {
     "end_time": "2019-06-03T01:08:40.105372Z",
     "start_time": "2019-06-03T01:08:39.828348Z"
    }
   },
   "outputs": [
    {
     "data": {
      "text/plain": [
       "<matplotlib.legend.Legend at 0x10f4a5080>"
      ]
     },
     "execution_count": 446,
     "metadata": {},
     "output_type": "execute_result"
    },
    {
     "data": {
      "image/png": "[encoded data removed]",
      "text/plain": [
       "<Figure size 432x288 with 1 Axes>"
      ]
     },
     "metadata": {},
     "output_type": "display_data"
    }
   ],
   "source": [
    "ax = npc.histoPlot(histosRatios.histograms[0],fmt='s',label='1',mfc='none')\n",
    "npc.histoPlot(histosRatios.histograms[1],lighter_error=1,fmt='.',ax=ax,label='2')\n",
    "plt.legend(bbox_to_anchor=[1,1])"
   ]
  },
  {
   "cell_type": "markdown",
   "metadata": {},
   "source": [
    "plot all of them with a function"
   ]
  },
  {
   "cell_type": "code",
   "execution_count": 499,
   "metadata": {
    "ExecuteTime": {
     "end_time": "2019-06-03T12:49:26.861519Z",
     "start_time": "2019-06-03T12:49:26.580220Z"
    }
   },
   "outputs": [
    {
     "data": {
      "text/plain": [
       "<matplotlib.axes._subplots.AxesSubplot at 0x110756cc0>"
      ]
     },
     "execution_count": 499,
     "metadata": {},
     "output_type": "execute_result"
    },
    {
     "data": {
      "image/png": "[encoded data removed]",
      "text/plain": [
       "<Figure size 432x288 with 1 Axes>"
      ]
     },
     "metadata": {},
     "output_type": "display_data"
    }
   ],
   "source": [
    "npc.histoPlots(histosRatios)#,labels=['a','v'])#,fmt='o')"
   ]
  },
  {
   "cell_type": "markdown",
   "metadata": {},
   "source": [
    "labels can still be changed"
   ]
  },
  {
   "cell_type": "code",
   "execution_count": 448,
   "metadata": {
    "ExecuteTime": {
     "end_time": "2019-06-03T01:08:40.793735Z",
     "start_time": "2019-06-03T01:08:40.399671Z"
    }
   },
   "outputs": [
    {
     "data": {
      "text/plain": [
       "<matplotlib.axes._subplots.AxesSubplot at 0x10f661128>"
      ]
     },
     "execution_count": 448,
     "metadata": {},
     "output_type": "execute_result"
    },
    {
     "data": {
      "image/png": "[encoded data removed]",
      "text/plain": [
       "<Figure size 432x288 with 1 Axes>"
      ]
     },
     "metadata": {},
     "output_type": "display_data"
    }
   ],
   "source": [
    "npc.histoPlots(histosRatios,labels=['$x^2$','$x^4$'])#,fmt='o')"
   ]
  },
  {
   "cell_type": "markdown",
   "metadata": {
    "ExecuteTime": {
     "end_time": "2019-06-01T18:08:59.666601Z",
     "start_time": "2019-06-01T18:08:59.662994Z"
    }
   },
   "source": [
    "central values markers can also be changed"
   ]
  },
  {
   "cell_type": "code",
   "execution_count": 449,
   "metadata": {
    "ExecuteTime": {
     "end_time": "2019-06-03T01:08:41.052622Z",
     "start_time": "2019-06-03T01:08:40.795877Z"
    }
   },
   "outputs": [
    {
     "data": {
      "text/plain": [
       "<matplotlib.axes._subplots.AxesSubplot at 0x10f54df98>"
      ]
     },
     "execution_count": 449,
     "metadata": {},
     "output_type": "execute_result"
    },
    {
     "data": {
      "image/png": "[encoded data removed]",
      "text/plain": [
       "<Figure size 432x288 with 1 Axes>"
      ]
     },
     "metadata": {},
     "output_type": "display_data"
    }
   ],
   "source": [
    "npc.histoPlots(histosRatios,subset=[0,1],labels=['a','v'],fmt=['o','s'],mfc='none')"
   ]
  },
  {
   "cell_type": "markdown",
   "metadata": {},
   "source": [
    "can also provide the central value marker equal for all"
   ]
  },
  {
   "cell_type": "code",
   "execution_count": 484,
   "metadata": {
    "ExecuteTime": {
     "end_time": "2019-06-03T12:45:19.321940Z",
     "start_time": "2019-06-03T12:45:19.070731Z"
    }
   },
   "outputs": [
    {
     "data": {
      "text/plain": [
       "<matplotlib.axes._subplots.AxesSubplot at 0x110515be0>"
      ]
     },
     "execution_count": 484,
     "metadata": {},
     "output_type": "execute_result"
    },
    {
     "data": {
      "image/png": "[encoded data removed]",
      "text/plain": [
       "<Figure size 432x288 with 1 Axes>"
      ]
     },
     "metadata": {},
     "output_type": "display_data"
    }
   ],
   "source": [
    "npc.histoPlots(histosRatios,subset=[0,1],labels=['a','v'],fmt='s',mfc='none')"
   ]
  },
  {
   "cell_type": "code",
   "execution_count": 493,
   "metadata": {
    "ExecuteTime": {
     "end_time": "2019-06-03T12:49:05.472418Z",
     "start_time": "2019-06-03T12:49:05.196520Z"
    }
   },
   "outputs": [
    {
     "data": {
      "text/plain": [
       "<matplotlib.axes._subplots.AxesSubplot at 0x10fbd46d8>"
      ]
     },
     "execution_count": 493,
     "metadata": {},
     "output_type": "execute_result"
    },
    {
     "data": {
      "image/png": "[encoded data removed]",
      "text/plain": [
       "<Figure size 432x288 with 1 Axes>"
      ]
     },
     "metadata": {},
     "output_type": "display_data"
    }
   ],
   "source": [
    "npc.histoPlots(histosRatios,subset=[0,2],labels=['a','b','c'],fmt='s',mfc='none')"
   ]
  },
  {
   "cell_type": "code",
   "execution_count": 492,
   "metadata": {
    "ExecuteTime": {
     "end_time": "2019-06-03T12:47:54.408788Z",
     "start_time": "2019-06-03T12:47:54.154188Z"
    }
   },
   "outputs": [
    {
     "data": {
      "text/plain": [
       "<matplotlib.axes._subplots.AxesSubplot at 0x10bf5a438>"
      ]
     },
     "execution_count": 492,
     "metadata": {},
     "output_type": "execute_result"
    },
    {
     "data": {
      "image/png": "[encoded data removed]",
      "text/plain": [
       "<Figure size 432x288 with 1 Axes>"
      ]
     },
     "metadata": {},
     "output_type": "display_data"
    }
   ],
   "source": [
    "npc.histoPlots(histosRatios,subset=[0,1],labels=['a','v'],fmt=['s','o'])"
   ]
  },
  {
   "cell_type": "markdown",
   "metadata": {
    "heading_collapsed": true
   },
   "source": [
    "#### Check some uncertainties"
   ]
  },
  {
   "cell_type": "code",
   "execution_count": 494,
   "metadata": {
    "ExecuteTime": {
     "end_time": "2019-06-03T12:49:17.137181Z",
     "start_time": "2019-06-03T12:49:17.132350Z"
    },
    "hidden": true
   },
   "outputs": [
    {
     "data": {
      "text/plain": [
       "array([0.43643578, 0.24922239, 0.19592783, 0.16666667, 0.15294382,\n",
       "       0.13345201, 0.12393943, 0.1153164 , 0.10914143, 0.1034452 ])"
      ]
     },
     "execution_count": 494,
     "metadata": {},
     "output_type": "execute_result"
    }
   ],
   "source": [
    "histosRatios.histograms[0].uncertainties"
   ]
  },
  {
   "cell_type": "code",
   "execution_count": 495,
   "metadata": {
    "ExecuteTime": {
     "end_time": "2019-06-03T12:49:17.146396Z",
     "start_time": "2019-06-03T12:49:17.139637Z"
    },
    "hidden": true
   },
   "outputs": [
    {
     "data": {
      "text/plain": [
       "array([       nan, 0.03312338, 0.04919075, 0.05513173, 0.08709847,\n",
       "       0.09642236, 0.10657935, 0.12379462, 0.14628904, 0.170976  ])"
      ]
     },
     "execution_count": 495,
     "metadata": {},
     "output_type": "execute_result"
    }
   ],
   "source": [
    "histosRatios.histograms[1].uncertainties"
   ]
  },
  {
   "cell_type": "code",
   "execution_count": 496,
   "metadata": {
    "ExecuteTime": {
     "end_time": "2019-06-03T12:49:17.153703Z",
     "start_time": "2019-06-03T12:49:17.148861Z"
    },
    "hidden": true
   },
   "outputs": [
    {
     "data": {
      "text/plain": [
       "array([   0.,   11.,   59.,  133.,  383.,  716., 1061., 1652., 2452.,\n",
       "       3533.])"
      ]
     },
     "execution_count": 496,
     "metadata": {},
     "output_type": "execute_result"
    }
   ],
   "source": [
    "histos.histograms[1].counts"
   ]
  },
  {
   "cell_type": "code",
   "execution_count": 497,
   "metadata": {
    "ExecuteTime": {
     "end_time": "2019-06-03T12:49:17.161131Z",
     "start_time": "2019-06-03T12:49:17.156109Z"
    },
    "hidden": true
   },
   "outputs": [
    {
     "data": {
      "text/plain": [
       "array([ 105.,  322.,  521.,  720.,  855., 1123., 1302., 1504., 1679.,\n",
       "       1869.])"
      ]
     },
     "execution_count": 497,
     "metadata": {},
     "output_type": "execute_result"
    }
   ],
   "source": [
    "histos.histograms[0].counts"
   ]
  },
  {
   "cell_type": "code",
   "execution_count": 498,
   "metadata": {
    "ExecuteTime": {
     "end_time": "2019-06-03T12:49:17.167527Z",
     "start_time": "2019-06-03T12:49:17.163481Z"
    },
    "hidden": true
   },
   "outputs": [
    {
     "name": "stdout",
     "output_type": "stream",
     "text": [
      "0.04846583388481339\n"
     ]
    }
   ],
   "source": [
    "c1=1990\n",
    "c2=3421\n",
    "print(c2/c1 * np.sqrt(1/np.sqrt(c2)**2 + 1/np.sqrt(c1)**2))\n",
    "del c1, c2"
   ]
  },
  {
   "cell_type": "markdown",
   "metadata": {},
   "source": [
    "###  2D Histograms"
   ]
  },
  {
   "cell_type": "code",
   "execution_count": 27,
   "metadata": {
    "ExecuteTime": {
     "end_time": "2019-06-02T21:35:01.668069Z",
     "start_time": "2019-06-02T21:35:01.660240Z"
    }
   },
   "outputs": [],
   "source": [
    "data2D =1+np.transpose(np.append([np.random.power(1,10000),np.random.power(2,10000),np.random.power(3,10000)],[np.random.power(4,10000)],axis=0)) # 3 data samples of which I can make a histogram"
   ]
  },
  {
   "cell_type": "code",
   "execution_count": 28,
   "metadata": {
    "ExecuteTime": {
     "end_time": "2019-06-02T21:35:02.881303Z",
     "start_time": "2019-06-02T21:35:02.876807Z"
    }
   },
   "outputs": [
    {
     "data": {
      "text/plain": [
       "(10000, 4)"
      ]
     },
     "execution_count": 28,
     "metadata": {},
     "output_type": "execute_result"
    }
   ],
   "source": [
    "data2D.shape"
   ]
  },
  {
   "cell_type": "code",
   "execution_count": 29,
   "metadata": {
    "ExecuteTime": {
     "end_time": "2019-06-02T21:35:04.208578Z",
     "start_time": "2019-06-02T21:35:04.203812Z"
    }
   },
   "outputs": [
    {
     "data": {
      "text/plain": [
       "array([[1.85835417, 1.82739741, 1.81946667, 1.99617059],\n",
       "       [1.20903059, 1.59681738, 1.34237904, 1.90069067],\n",
       "       [1.36123174, 1.60035786, 1.57511845, 1.61344379],\n",
       "       ...,\n",
       "       [1.34665955, 1.85859487, 1.53164599, 1.97489463],\n",
       "       [1.67874834, 1.42564186, 1.58071297, 1.97550537],\n",
       "       [1.79196136, 1.81299182, 1.33905404, 1.63162532]])"
      ]
     },
     "execution_count": 29,
     "metadata": {},
     "output_type": "execute_result"
    }
   ],
   "source": [
    "data2D"
   ]
  },
  {
   "cell_type": "code",
   "execution_count": 382,
   "metadata": {
    "ExecuteTime": {
     "end_time": "2019-06-03T00:57:12.711867Z",
     "start_time": "2019-06-03T00:57:12.519757Z"
    }
   },
   "outputs": [
    {
     "data": {
      "image/png": "[encoded data removed]",
      "text/plain": [
       "<Figure size 432x288 with 1 Axes>"
      ]
     },
     "metadata": {},
     "output_type": "display_data"
    }
   ],
   "source": [
    "A_tuple_histo2d = plt.hist2d(2-1/data2D[:,2]+data2D[:,2]/5,data2D[:,3],cmap='Blues',bins=[u.linspace(1,2,0.2),u.linspace(1,2,0.2)])"
   ]
  },
  {
   "cell_type": "code",
   "execution_count": 383,
   "metadata": {
    "ExecuteTime": {
     "end_time": "2019-06-03T00:57:21.113827Z",
     "start_time": "2019-06-03T00:57:20.918913Z"
    },
    "scrolled": true
   },
   "outputs": [
    {
     "data": {
      "image/png": "[encoded data removed]",
      "text/plain": [
       "<Figure size 432x288 with 1 Axes>"
      ]
     },
     "metadata": {},
     "output_type": "display_data"
    }
   ],
   "source": [
    "B_tuple_histo2d = plt.hist2d(data2D[:,1],data2D[:,0],cmap='Blues',bins=[u.linspace(1,2,0.2),u.linspace(1,2,0.2)])"
   ]
  },
  {
   "cell_type": "code",
   "execution_count": 541,
   "metadata": {
    "ExecuteTime": {
     "end_time": "2019-06-03T16:02:26.061616Z",
     "start_time": "2019-06-03T16:02:26.057148Z"
    }
   },
   "outputs": [],
   "source": [
    "nc_histo2D_B = npc.NumpyHistogramData(tup=B_tuple_histo2d)\n",
    "nc_histo2D_B.snake = u.snake_flatten_matrix(nc_histo2D_B.counts)\n",
    "nc_histo2D_B.snakebins,nc_histo2D_B.snakelabels = u.snake_bins(nc_histo2D_B)\n",
    "nc_histo2D_A = npc.NumpyHistogramData(tup=A_tuple_histo2d)\n",
    "nc_histo2D_A.snake = u.snake_flatten_matrix(nc_histo2D_A.counts)\n",
    "nc_histo2D_A.snakebins,nc_histo2D_A.snakelabels = u.snake_bins(nc_histo2D_A)"
   ]
  },
  {
   "cell_type": "code",
   "execution_count": 507,
   "metadata": {
    "ExecuteTime": {
     "end_time": "2019-06-03T15:43:17.862678Z",
     "start_time": "2019-06-03T15:43:17.850551Z"
    }
   },
   "outputs": [
    {
     "name": "stdout",
     "output_type": "stream",
     "text": [
      "[0.000e+00 0.000e+00 0.000e+00 0.000e+00 1.990e+02 7.600e+01 1.300e+01\n",
      " 3.000e+00 7.000e+00 1.870e+02 8.120e+02 2.074e+03 4.531e+03 1.693e+03\n",
      " 3.720e+02 3.300e+01]\n",
      "[ 165.  154.  163.  136.  477.  485.  446.  520.  783.  791.  751.  736.\n",
      " 1089. 1079. 1130. 1095.]\n"
     ]
    }
   ],
   "source": [
    "print(nc_histo2D_A.snake)\n",
    "print(nc_histo2D_B.snake)"
   ]
  },
  {
   "cell_type": "code",
   "execution_count": 508,
   "metadata": {
    "ExecuteTime": {
     "end_time": "2019-06-03T15:43:28.828931Z",
     "start_time": "2019-06-03T15:43:28.824806Z"
    }
   },
   "outputs": [
    {
     "name": "stdout",
     "output_type": "stream",
     "text": [
      "[ 0  1  2  3  4  5  6  7  8  9 10 11 12 13 14 15]\n",
      "['1.0 1.0', '1.0 1.25', '1.0 1.5', '1.0 1.75', '1.25 1.0', '1.25 1.25', '1.25 1.5', '1.25 1.75', '1.5 1.0', '1.5 1.25', '1.5 1.5', '1.5 1.75', '1.75 1.0', '1.75 1.25', '1.75 1.5', '1.75 1.75']\n"
     ]
    }
   ],
   "source": [
    "print(nc_histo2D_A.snakebins)\n",
    "print(nc_histo2D_B.snakelabels)"
   ]
  },
  {
   "cell_type": "code",
   "execution_count": 542,
   "metadata": {
    "ExecuteTime": {
     "end_time": "2019-06-03T16:02:30.071123Z",
     "start_time": "2019-06-03T16:02:30.068150Z"
    }
   },
   "outputs": [],
   "source": [
    "npc_histos=npc.NumpyVectorHistogramData()\n",
    "npc_histos.histograms=[nc_histo2D_A,nc_histo2D_B]"
   ]
  },
  {
   "cell_type": "code",
   "execution_count": 592,
   "metadata": {
    "ExecuteTime": {
     "end_time": "2019-06-03T16:13:12.443287Z",
     "start_time": "2019-06-03T16:13:12.437860Z"
    }
   },
   "outputs": [
    {
     "data": {
      "text/plain": [
       "array([ 0,  1,  2,  3,  4,  5,  6,  7,  8,  9, 10, 11, 12, 13, 14, 15])"
      ]
     },
     "execution_count": 592,
     "metadata": {},
     "output_type": "execute_result"
    }
   ],
   "source": [
    "snake_bins(npc_histos.histograms[0])#,op=lambda x,y: str(x)+' '+str(y))"
   ]
  },
  {
   "cell_type": "code",
   "execution_count": 591,
   "metadata": {
    "ExecuteTime": {
     "end_time": "2019-06-03T16:13:07.767024Z",
     "start_time": "2019-06-03T16:13:07.755767Z"
    }
   },
   "outputs": [
    {
     "name": "stderr",
     "output_type": "stream",
     "text": [
      "/Users/roberto/humanroot/utils/PyLHEanalysis/NumpyClasses.py:226: RuntimeWarning: invalid value encountered in true_divide\n",
      "  except AttributeError:\n",
      "/Users/roberto/humanroot/utils/PyLHEanalysis/NumpyClasses.py:271: RuntimeWarning: invalid value encountered in true_divide\n",
      "  # assume this is the number of events in each histogram\n",
      "/Users/roberto/humanroot/utils/PyLHEanalysis/NumpyClasses.py:226: RuntimeWarning: divide by zero encountered in true_divide\n",
      "  except AttributeError:\n",
      "/Users/roberto/humanroot/utils/PyLHEanalysis/NumpyClasses.py:271: RuntimeWarning: divide by zero encountered in true_divide\n",
      "  # assume this is the number of events in each histogram\n"
     ]
    }
   ],
   "source": [
    "npc_ratios=npc.ratioList(npc_histos,bins='snakebins',counts='snake',uncertainties='Gauss')"
   ]
  },
  {
   "cell_type": "code",
   "execution_count": 593,
   "metadata": {
    "ExecuteTime": {
     "end_time": "2019-06-03T16:13:24.716707Z",
     "start_time": "2019-06-03T16:13:24.711530Z"
    }
   },
   "outputs": [
    {
     "data": {
      "text/plain": [
       "['1.0 1.0',\n",
       " '1.0 1.25',\n",
       " '1.0 1.5',\n",
       " '1.0 1.75',\n",
       " '1.25 1.0',\n",
       " '1.25 1.25',\n",
       " '1.25 1.5',\n",
       " '1.25 1.75',\n",
       " '1.5 1.0',\n",
       " '1.5 1.25',\n",
       " '1.5 1.5',\n",
       " '1.5 1.75',\n",
       " '1.75 1.0',\n",
       " '1.75 1.25',\n",
       " '1.75 1.5',\n",
       " '1.75 1.75']"
      ]
     },
     "execution_count": 593,
     "metadata": {},
     "output_type": "execute_result"
    }
   ],
   "source": [
    "npc_ratios.histograms[0].snakelabels"
   ]
  },
  {
   "cell_type": "code",
   "execution_count": 594,
   "metadata": {
    "ExecuteTime": {
     "end_time": "2019-06-03T16:13:33.655849Z",
     "start_time": "2019-06-03T16:13:33.651286Z"
    }
   },
   "outputs": [
    {
     "data": {
      "text/plain": [
       "array([nan, nan, nan, nan,  1.,  1.,  1.,  1.,  1.,  1.,  1.,  1.,  1.,\n",
       "        1.,  1.,  1.])"
      ]
     },
     "execution_count": 594,
     "metadata": {},
     "output_type": "execute_result"
    }
   ],
   "source": [
    "npc_ratios.histograms[0].snake"
   ]
  },
  {
   "cell_type": "code",
   "execution_count": 397,
   "metadata": {
    "ExecuteTime": {
     "end_time": "2019-06-03T00:58:45.412215Z",
     "start_time": "2019-06-03T00:58:45.407922Z"
    }
   },
   "outputs": [
    {
     "data": {
      "text/plain": [
       "16"
      ]
     },
     "execution_count": 397,
     "metadata": {},
     "output_type": "execute_result"
    }
   ],
   "source": [
    "len(npc_ratios.histograms[0].uncertainties)"
   ]
  },
  {
   "cell_type": "code",
   "execution_count": 398,
   "metadata": {
    "ExecuteTime": {
     "end_time": "2019-06-03T00:58:47.010738Z",
     "start_time": "2019-06-03T00:58:47.006495Z"
    }
   },
   "outputs": [
    {
     "data": {
      "text/plain": [
       "16"
      ]
     },
     "execution_count": 398,
     "metadata": {},
     "output_type": "execute_result"
    }
   ],
   "source": [
    "len(npc_ratios.histograms[0].snakebins)"
   ]
  },
  {
   "cell_type": "code",
   "execution_count": 597,
   "metadata": {
    "ExecuteTime": {
     "end_time": "2019-06-03T16:15:17.868030Z",
     "start_time": "2019-06-03T16:15:17.863705Z"
    }
   },
   "outputs": [
    {
     "data": {
      "text/plain": [
       "array([         inf,          inf,          inf,          inf,\n",
       "         2.39698492,   6.38157895,  34.30769231, 173.33333333,\n",
       "       111.85714286,   4.22994652,   0.92487685,   0.35486982,\n",
       "         0.24034429,   0.63733018,   3.03763441,  33.18181818])"
      ]
     },
     "execution_count": 597,
     "metadata": {},
     "output_type": "execute_result"
    }
   ],
   "source": [
    "npc_ratios.histograms[1].snake"
   ]
  },
  {
   "cell_type": "code",
   "execution_count": 568,
   "metadata": {
    "ExecuteTime": {
     "end_time": "2019-06-03T16:05:42.092141Z",
     "start_time": "2019-06-03T16:05:41.790965Z"
    }
   },
   "outputs": [
    {
     "data": {
      "text/plain": [
       "[None,\n",
       " None,\n",
       " None,\n",
       " None,\n",
       " None,\n",
       " None,\n",
       " None,\n",
       " None,\n",
       " None,\n",
       " None,\n",
       " None,\n",
       " None,\n",
       " None,\n",
       " None,\n",
       " None,\n",
       " None,\n",
       " None,\n",
       " None]"
      ]
     },
     "execution_count": 568,
     "metadata": {},
     "output_type": "execute_result"
    },
    {
     "data": {
      "image/png": "[encoded data removed]",
      "text/plain": [
       "<Figure size 432x288 with 1 Axes>"
      ]
     },
     "metadata": {},
     "output_type": "display_data"
    }
   ],
   "source": [
    "ax = npc.histoPlots(npc_ratios,bins='snakebins',counts='snake',fmt='o')\n",
    "ax.set_xticklabels(npc_ratios.histograms[0].snakelabels)\n",
    "plt.setp(ax.get_xticklabels(), rotation=-30, ha=\"left\",\n",
    "             rotation_mode=\"anchor\")"
   ]
  },
  {
   "cell_type": "code",
   "execution_count": 574,
   "metadata": {
    "ExecuteTime": {
     "end_time": "2019-06-03T16:09:46.562387Z",
     "start_time": "2019-06-03T16:09:46.276666Z"
    }
   },
   "outputs": [
    {
     "data": {
      "text/plain": [
       "<matplotlib.axes._subplots.AxesSubplot at 0x11179cd68>"
      ]
     },
     "execution_count": 574,
     "metadata": {},
     "output_type": "execute_result"
    },
    {
     "data": {
      "image/png": "[encoded data removed]",
      "text/plain": [
       "<Figure size 432x288 with 1 Axes>"
      ]
     },
     "metadata": {},
     "output_type": "display_data"
    }
   ],
   "source": [
    "npc.histoPlots(npc_ratios,bins='snakebins',counts='snake',fmt='o')"
   ]
  },
  {
   "cell_type": "code",
   "execution_count": 577,
   "metadata": {
    "ExecuteTime": {
     "end_time": "2019-06-03T16:11:50.944334Z",
     "start_time": "2019-06-03T16:11:50.941181Z"
    }
   },
   "outputs": [],
   "source": [
    "_ratio=npc.ratioH1overH2(nc_histo2D_A,nc_histo2D_B,counts='snake')"
   ]
  },
  {
   "cell_type": "code",
   "execution_count": 578,
   "metadata": {
    "ExecuteTime": {
     "end_time": "2019-06-03T16:11:54.793073Z",
     "start_time": "2019-06-03T16:11:54.787615Z"
    }
   },
   "outputs": [
    {
     "data": {
      "text/plain": [
       "array([0.        , 0.        , 0.        , 0.        , 0.41719078,\n",
       "       0.15670103, 0.02914798, 0.00576923, 0.00893997, 0.23640961,\n",
       "       1.08122503, 2.81793478, 4.16069789, 1.56904541, 0.32920354,\n",
       "       0.03013699])"
      ]
     },
     "execution_count": 578,
     "metadata": {},
     "output_type": "execute_result"
    }
   ],
   "source": [
    "_ratio.snake"
   ]
  },
  {
   "cell_type": "code",
   "execution_count": 579,
   "metadata": {
    "ExecuteTime": {
     "end_time": "2019-06-03T16:11:56.181087Z",
     "start_time": "2019-06-03T16:11:56.177973Z"
    }
   },
   "outputs": [],
   "source": [
    "_ratio=npc.ratioH1overH2(nc_histo2D_A,nc_histo2D_B,counts='counts')"
   ]
  },
  {
   "cell_type": "code",
   "execution_count": 580,
   "metadata": {
    "ExecuteTime": {
     "end_time": "2019-06-03T16:11:57.469088Z",
     "start_time": "2019-06-03T16:11:57.463970Z"
    }
   },
   "outputs": [
    {
     "data": {
      "text/plain": [
       "array([[0.        , 0.        , 0.        , 0.        ],\n",
       "       [0.00576923, 0.02914798, 0.15670103, 0.41719078],\n",
       "       [0.00893997, 0.23640961, 1.08122503, 2.81793478],\n",
       "       [0.03013699, 0.32920354, 1.56904541, 4.16069789]])"
      ]
     },
     "execution_count": 580,
     "metadata": {},
     "output_type": "execute_result"
    }
   ],
   "source": [
    "_ratio.counts"
   ]
  },
  {
   "cell_type": "code",
   "execution_count": 581,
   "metadata": {
    "ExecuteTime": {
     "end_time": "2019-06-03T16:11:58.935254Z",
     "start_time": "2019-06-03T16:11:58.930579Z"
    }
   },
   "outputs": [
    {
     "data": {
      "text/plain": [
       "(array([1.  , 1.25, 1.5 , 1.75, 2.  ]), array([1.  , 1.25, 1.5 , 1.75, 2.  ]))"
      ]
     },
     "execution_count": 581,
     "metadata": {},
     "output_type": "execute_result"
    }
   ],
   "source": [
    "_ratio.bins"
   ]
  },
  {
   "cell_type": "code",
   "execution_count": 582,
   "metadata": {
    "ExecuteTime": {
     "end_time": "2019-06-03T16:12:00.236584Z",
     "start_time": "2019-06-03T16:12:00.231749Z"
    }
   },
   "outputs": [
    {
     "data": {
      "text/plain": [
       "array([[0.        , 0.        , 0.        , 0.        ],\n",
       "       [0.00576923, 0.02914798, 0.15670103, 0.41719078],\n",
       "       [0.00893997, 0.23640961, 1.08122503, 2.81793478],\n",
       "       [0.03013699, 0.32920354, 1.56904541, 4.16069789]])"
      ]
     },
     "execution_count": 582,
     "metadata": {},
     "output_type": "execute_result"
    }
   ],
   "source": [
    "_ratio.counts[:]"
   ]
  },
  {
   "cell_type": "code",
   "execution_count": 583,
   "metadata": {
    "ExecuteTime": {
     "end_time": "2019-06-03T16:12:02.426559Z",
     "start_time": "2019-06-03T16:12:02.110854Z"
    }
   },
   "outputs": [
    {
     "data": {
      "image/png": "[encoded data removed]",
      "text/plain": [
       "<Figure size 432x288 with 2 Axes>"
      ]
     },
     "metadata": {},
     "output_type": "display_data"
    }
   ],
   "source": [
    "ax = plt.gca()\n",
    "im, cbar = u.heatmap(_ratio.counts,\\\n",
    "          _ratio.bins[0],_ratio.bins[1],cmap='bwr',offsetx=0.5,offsety=0,transpose=True,reverse=True,minor=False)#,extent=(0.,_ratio.counts.shape[0],0,_ratio.counts.shape[1]))\n",
    "#ax.set_xticks(np.arange(-0.5,len(_ratio.bins[0])-1,1))\n",
    "#ax.set_yticks(np.arange(-0.5,len(_ratio.bins[1])-1,1))\n",
    "# ... and label them with the respective list entries.\n",
    "ax.set_xticklabels(_ratio.bins[0]);\n",
    "ax.set_yticklabels(_ratio.bins[1][::-1]);\n",
    "texts = u.annotate_heatmap(im, valfmt=\"{x:.2g}\",range_display=[-0.2,19.3])"
   ]
  },
  {
   "cell_type": "code",
   "execution_count": 584,
   "metadata": {
    "ExecuteTime": {
     "end_time": "2019-06-03T16:12:06.768514Z",
     "start_time": "2019-06-03T16:12:06.425197Z"
    }
   },
   "outputs": [
    {
     "data": {
      "image/png": "[encoded data removed]",
      "text/plain": [
       "<Figure size 432x288 with 2 Axes>"
      ]
     },
     "metadata": {},
     "output_type": "display_data"
    }
   ],
   "source": [
    "ax = plt.gca()\n",
    "im, cbar = u.histo2D(_ratio.counts,\\\n",
    "          _ratio.bins[0],_ratio.bins[1],cmap='Blues',cbarlabel='ratio')\n",
    "texts = u.annotate_heatmap(im, valfmt=\"{x:.2g}\",range_display=[0.,20])"
   ]
  },
  {
   "cell_type": "code",
   "execution_count": 585,
   "metadata": {
    "ExecuteTime": {
     "end_time": "2019-06-03T16:12:08.930019Z",
     "start_time": "2019-06-03T16:12:08.665408Z"
    }
   },
   "outputs": [
    {
     "data": {
      "text/plain": [
       "Text(0, 0.5, 'cbarlabel')"
      ]
     },
     "execution_count": 585,
     "metadata": {},
     "output_type": "execute_result"
    },
    {
     "data": {
      "image/png": "[encoded data removed]",
      "text/plain": [
       "<Figure size 432x288 with 2 Axes>"
      ]
     },
     "metadata": {},
     "output_type": "display_data"
    }
   ],
   "source": [
    "ax = plt.gca()\n",
    "im = ax.imshow(np.transpose(_ratio.counts)[::-1],extent=(0,_ratio.counts.shape[0],0,_ratio.counts.shape[1]))\n",
    "ax.set_xticks(u.arange(0,len(_ratio.bins[0])-1,1))\n",
    "ax.set_yticks(u.arange(0,len(_ratio.bins[1])-1,1))\n",
    "# ... and label them with the respective list entries.\n",
    "ax.set_xticklabels(_ratio.bins[0]);\n",
    "ax.set_yticklabels(_ratio.bins[1]);\n",
    "cbar = ax.figure.colorbar(im, ax=ax)#, **cbar_kw)\n",
    "cbar.ax.set_ylabel('cbarlabel', rotation=-90, va=\"bottom\")\n",
    "#ax.set_xticks(np.arange(8), minor=True)\n",
    "#texts = u.annotate_heatmap(im, valfmt=\"{x:.2g}\",range_display=[-0.2,1.93])"
   ]
  },
  {
   "cell_type": "code",
   "execution_count": null,
   "metadata": {},
   "outputs": [],
   "source": []
  }
 ],
 "metadata": {
  "celltoolbar": "Initialization Cell",
  "kernelspec": {
   "display_name": "Python 3",
   "language": "python",
   "name": "python3"
  },
  "language_info": {
   "codemirror_mode": {
    "name": "ipython",
    "version": 3
   },
   "file_extension": ".py",
   "mimetype": "text/x-python",
   "name": "python",
   "nbconvert_exporter": "python",
   "pygments_lexer": "ipython3",
   "version": "3.7.0"
  },
  "latex_envs": {
   "LaTeX_envs_menu_present": true,
   "autocomplete": true,
   "bibliofile": "biblio.bib",
   "cite_by": "apalike",
   "current_citInitial": 1,
   "eqLabelWithNumbers": true,
   "eqNumInitial": 1,
   "hotkeys": {
    "equation": "Ctrl-E",
    "itemize": "Ctrl-I"
   },
   "labels_anchors": false,
   "latex_user_defs": false,
   "report_style_numbering": false,
   "user_envs_cfg": false
  }
 },
 "nbformat": 4,
 "nbformat_minor": 2
}
