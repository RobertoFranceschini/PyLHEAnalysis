{
 "cells": [
  {
   "cell_type": "markdown",
   "metadata": {
    "ExecuteTime": {
     "end_time": "2019-06-10T13:01:21.108631Z",
     "start_time": "2019-06-10T13:01:21.106180Z"
    }
   },
   "source": [
    "# ipyparallel"
   ]
  },
  {
   "cell_type": "markdown",
   "metadata": {},
   "source": [
    "https://ipyparallel.readthedocs.io/en/latest/intro.html"
   ]
  },
  {
   "cell_type": "markdown",
   "metadata": {
    "ExecuteTime": {
     "end_time": "2019-06-10T13:01:57.125521Z",
     "start_time": "2019-06-10T13:01:40.264266Z"
    }
   },
   "source": [
    "run this in bash\n",
    "```\n",
    "ipcluster start -n 4\n",
    "```"
   ]
  },
  {
   "cell_type": "code",
   "execution_count": null,
   "metadata": {
    "ExecuteTime": {
     "end_time": "2019-06-09T20:36:12.721334Z",
     "start_time": "2019-06-09T20:36:12.695003Z"
    }
   },
   "outputs": [],
   "source": [
    "import ipyparallel as ipp"
   ]
  },
  {
   "cell_type": "code",
   "execution_count": null,
   "metadata": {
    "ExecuteTime": {
     "end_time": "2019-06-09T20:38:24.871191Z",
     "start_time": "2019-06-09T20:38:24.839597Z"
    }
   },
   "outputs": [],
   "source": [
    "rc = ipp.Client()"
   ]
  },
  {
   "cell_type": "code",
   "execution_count": null,
   "metadata": {
    "ExecuteTime": {
     "end_time": "2019-06-09T20:39:10.841726Z",
     "start_time": "2019-06-09T20:39:10.625366Z"
    }
   },
   "outputs": [],
   "source": [
    "with rc[:].sync_imports():\n",
    "    import numpy"
   ]
  },
  {
   "cell_type": "markdown",
   "metadata": {},
   "source": [
    "# Magic"
   ]
  },
  {
   "cell_type": "markdown",
   "metadata": {},
   "source": [
    "https://ipyparallel.readthedocs.io/en/latest/magics.html"
   ]
  },
  {
   "cell_type": "code",
   "execution_count": null,
   "metadata": {
    "ExecuteTime": {
     "end_time": "2019-06-09T20:40:27.487174Z",
     "start_time": "2019-06-09T20:40:27.442909Z"
    }
   },
   "outputs": [],
   "source": [
    "%px a = numpy.random.rand(2,2)\n",
    "%px print(a)"
   ]
  },
  {
   "cell_type": "code",
   "execution_count": null,
   "metadata": {
    "ExecuteTime": {
     "end_time": "2019-06-09T20:40:30.667480Z",
     "start_time": "2019-06-09T20:40:30.660002Z"
    }
   },
   "outputs": [],
   "source": [
    "a"
   ]
  },
  {
   "cell_type": "code",
   "execution_count": null,
   "metadata": {
    "ExecuteTime": {
     "end_time": "2019-06-09T20:40:31.998446Z",
     "start_time": "2019-06-09T20:40:31.963453Z"
    }
   },
   "outputs": [],
   "source": [
    "%px a"
   ]
  },
  {
   "cell_type": "code",
   "execution_count": null,
   "metadata": {
    "ExecuteTime": {
     "end_time": "2019-06-09T20:40:35.673500Z",
     "start_time": "2019-06-09T20:40:35.643366Z"
    }
   },
   "outputs": [],
   "source": [
    "%px numpy.linalg.eigvals(a)"
   ]
  },
  {
   "cell_type": "markdown",
   "metadata": {},
   "source": [
    "# Ray"
   ]
  },
  {
   "cell_type": "markdown",
   "metadata": {},
   "source": [
    "https://ray.readthedocs.io/en/latest/tutorial.html"
   ]
  },
  {
   "cell_type": "markdown",
   "metadata": {
    "ExecuteTime": {
     "end_time": "2019-06-10T13:11:05.238958Z",
     "start_time": "2019-06-10T13:11:05.234711Z"
    }
   },
   "source": [
    "https://stackoverflow.com/questions/20548628/how-to-do-parallel-programming-in-python"
   ]
  },
  {
   "cell_type": "code",
   "execution_count": 32,
   "metadata": {
    "ExecuteTime": {
     "end_time": "2019-06-10T14:45:28.022635Z",
     "start_time": "2019-06-10T14:45:28.013819Z"
    }
   },
   "outputs": [],
   "source": [
    "import ray\n",
    "import time"
   ]
  },
  {
   "cell_type": "code",
   "execution_count": 20,
   "metadata": {
    "ExecuteTime": {
     "end_time": "2019-06-10T13:15:36.836502Z",
     "start_time": "2019-06-10T13:15:36.831412Z"
    }
   },
   "outputs": [],
   "source": [
    "# A regular Python function.\n",
    "def regular_function():\n",
    "    return 1\n",
    "\n",
    "# A Ray remote function.\n",
    "@ray.remote\n",
    "def remote_function2():\n",
    "    return 2"
   ]
  },
  {
   "cell_type": "code",
   "execution_count": 43,
   "metadata": {
    "ExecuteTime": {
     "end_time": "2019-06-10T14:47:29.702978Z",
     "start_time": "2019-06-10T14:47:29.693943Z"
    }
   },
   "outputs": [],
   "source": [
    "for _ in range(int(4e4)):\n",
    "    regular_function()"
   ]
  },
  {
   "cell_type": "code",
   "execution_count": 44,
   "metadata": {
    "ExecuteTime": {
     "end_time": "2019-06-10T14:47:30.627861Z",
     "start_time": "2019-06-10T14:47:30.623496Z"
    }
   },
   "outputs": [
    {
     "data": {
      "text/plain": [
       "1"
      ]
     },
     "execution_count": 44,
     "metadata": {},
     "output_type": "execute_result"
    }
   ],
   "source": [
    "regular_function()"
   ]
  },
  {
   "cell_type": "code",
   "execution_count": 39,
   "metadata": {
    "ExecuteTime": {
     "end_time": "2019-06-10T14:46:57.308533Z",
     "start_time": "2019-06-10T14:46:56.486742Z"
    }
   },
   "outputs": [
    {
     "name": "stderr",
     "output_type": "stream",
     "text": [
      "2019-06-10 16:46:56,490\tINFO node.py:497 -- Process STDOUT and STDERR is being redirected to /tmp/ray/session_2019-06-10_16-46-56_489748_40332/logs.\n",
      "2019-06-10 16:46:56,603\tINFO services.py:409 -- Waiting for redis server at 127.0.0.1:10231 to respond...\n",
      "2019-06-10 16:46:56,719\tINFO services.py:409 -- Waiting for redis server at 127.0.0.1:38578 to respond...\n",
      "2019-06-10 16:46:56,724\tINFO services.py:806 -- Starting Redis shard with 3.44 GB max memory.\n",
      "2019-06-10 16:46:56,746\tINFO node.py:511 -- Process STDOUT and STDERR is being redirected to /tmp/ray/session_2019-06-10_16-46-56_489748_40332/logs.\n",
      "2019-06-10 16:46:56,749\tINFO services.py:1441 -- Starting the Plasma object store with 5.15 GB memory using /tmp.\n"
     ]
    },
    {
     "data": {
      "text/plain": [
       "{'node_ip_address': '172.23.21.33',\n",
       " 'redis_address': '172.23.21.33:10231',\n",
       " 'object_store_address': '/tmp/ray/session_2019-06-10_16-46-56_489748_40332/sockets/plasma_store',\n",
       " 'raylet_socket_name': '/tmp/ray/session_2019-06-10_16-46-56_489748_40332/sockets/raylet',\n",
       " 'webui_url': None,\n",
       " 'session_dir': '/tmp/ray/session_2019-06-10_16-46-56_489748_40332'}"
      ]
     },
     "execution_count": 39,
     "metadata": {},
     "output_type": "execute_result"
    }
   ],
   "source": [
    "ray.shutdown()\n",
    "ray.init()"
   ]
  },
  {
   "cell_type": "code",
   "execution_count": 24,
   "metadata": {
    "ExecuteTime": {
     "end_time": "2019-06-10T13:15:50.217217Z",
     "start_time": "2019-06-10T13:15:50.212592Z"
    }
   },
   "outputs": [
    {
     "data": {
      "text/plain": [
       "ObjectID(0100000070baf2d3bd4ebe6ef48b0d0b490384c1)"
      ]
     },
     "execution_count": 24,
     "metadata": {},
     "output_type": "execute_result"
    }
   ],
   "source": [
    "remote_function.remote()"
   ]
  },
  {
   "cell_type": "code",
   "execution_count": 25,
   "metadata": {
    "ExecuteTime": {
     "end_time": "2019-06-10T13:15:51.262658Z",
     "start_time": "2019-06-10T13:15:51.257817Z"
    }
   },
   "outputs": [
    {
     "data": {
      "text/plain": [
       "2"
      ]
     },
     "execution_count": 25,
     "metadata": {},
     "output_type": "execute_result"
    }
   ],
   "source": [
    "ray.get(remote_function2.remote())"
   ]
  },
  {
   "cell_type": "code",
   "execution_count": 42,
   "metadata": {
    "ExecuteTime": {
     "end_time": "2019-06-10T14:47:20.745983Z",
     "start_time": "2019-06-10T14:47:12.120770Z"
    }
   },
   "outputs": [],
   "source": [
    "# These happen in parallel.\n",
    "for _ in range(int(4e4)):\n",
    "     remote_function.remote()"
   ]
  },
  {
   "cell_type": "markdown",
   "metadata": {},
   "source": [
    "# multiprocessing"
   ]
  },
  {
   "cell_type": "code",
   "execution_count": null,
   "metadata": {},
   "outputs": [],
   "source": [
    "from multiprocessing import Pool\n",
    "pool = Pool()\n",
    "result1 = pool.apply_async(solve1, [A])    # evaluate \"solve1(A)\" asynchronously\n",
    "result2 = pool.apply_async(solve2, [B])    # evaluate \"solve2(B)\" asynchronously\n",
    "answer1 = result1.get(timeout=10)\n",
    "answer2 = result2.get(timeout=10)"
   ]
  },
  {
   "cell_type": "code",
   "execution_count": null,
   "metadata": {
    "ExecuteTime": {
     "end_time": "2019-06-09T20:10:35.294169Z",
     "start_time": "2019-06-09T20:10:35.241315Z"
    }
   },
   "outputs": [],
   "source": [
    "from multiprocessing import Pool\n",
    "def f(x):\n",
    "    return x**2\n",
    "pool = Pool(4)\n",
    "for res in pool.map(f,range(20)):\n",
    "    print( res)"
   ]
  }
 ],
 "metadata": {
  "kernelspec": {
   "display_name": "Python 3",
   "language": "python",
   "name": "python3"
  },
  "language_info": {
   "codemirror_mode": {
    "name": "ipython",
    "version": 3
   },
   "file_extension": ".py",
   "mimetype": "text/x-python",
   "name": "python",
   "nbconvert_exporter": "python",
   "pygments_lexer": "ipython3",
   "version": "3.7.0"
  },
  "latex_envs": {
   "LaTeX_envs_menu_present": true,
   "autocomplete": true,
   "bibliofile": "biblio.bib",
   "cite_by": "apalike",
   "current_citInitial": 1,
   "eqLabelWithNumbers": true,
   "eqNumInitial": 1,
   "hotkeys": {
    "equation": "Ctrl-E",
    "itemize": "Ctrl-I"
   },
   "labels_anchors": false,
   "latex_user_defs": false,
   "report_style_numbering": false,
   "user_envs_cfg": false
  },
  "toc": {
   "nav_menu": {},
   "number_sections": true,
   "sideBar": true,
   "skip_h1_title": false,
   "toc_cell": false,
   "toc_position": {},
   "toc_section_display": "block",
   "toc_window_display": false
  }
 },
 "nbformat": 4,
 "nbformat_minor": 2
}
