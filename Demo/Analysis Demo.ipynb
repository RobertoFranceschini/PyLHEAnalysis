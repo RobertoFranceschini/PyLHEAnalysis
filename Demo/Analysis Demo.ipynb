{
 "cells": [
  {
   "cell_type": "markdown",
   "metadata": {
    "toc": true
   },
   "source": [
    "<h1>Table of Contents<span class=\"tocSkip\"></span></h1>\n",
    "<div class=\"toc\" style=\"margin-top: 1em;\"><ul class=\"toc-item\"><li><span><a href=\"#Import-Ray\" data-toc-modified-id=\"Import-Ray-1\"><span class=\"toc-item-num\">1&nbsp;&nbsp;</span>Import Ray</a></span></li><li><span><a href=\"#Init\" data-toc-modified-id=\"Init-2\"><span class=\"toc-item-num\">2&nbsp;&nbsp;</span>Init</a></span></li><li><span><a href=\"#Events-reading\" data-toc-modified-id=\"Events-reading-3\"><span class=\"toc-item-num\">3&nbsp;&nbsp;</span>Events reading</a></span></li><li><span><a href=\"#Sub-events-reading\" data-toc-modified-id=\"Sub-events-reading-4\"><span class=\"toc-item-num\">4&nbsp;&nbsp;</span>Sub-events reading</a></span></li><li><span><a href=\"#Sub-events-manipulation\" data-toc-modified-id=\"Sub-events-manipulation-5\"><span class=\"toc-item-num\">5&nbsp;&nbsp;</span>Sub-events manipulation</a></span><ul class=\"toc-item\"><li><span><a href=\"#The-sub-event-made-by-the-filter-contains-a-list-of-particles,-stored-in-the-member-particles\" data-toc-modified-id=\"The-sub-event-made-by-the-filter-contains-a-list-of-particles,-stored-in-the-member-particles-5.1\"><span class=\"toc-item-num\">5.1&nbsp;&nbsp;</span>The sub-event made by the filter contains a list of particles, stored in the member <em>particles</em></a></span></li><li><span><a href=\"#The-outer-operation:--[-{a,b}-,-{c,d}-]-$\\to$-[-{ac},-{ad},-{bc},-{bd}]\" data-toc-modified-id=\"The-outer-operation:--[-{a,b}-,-{c,d}-]-$\\to$-[-{ac},-{ad},-{bc},-{bd}]-5.2\"><span class=\"toc-item-num\">5.2&nbsp;&nbsp;</span>The <em>outer</em> operation:  [ {a,b} , {c,d} ] $\\to$ [ {ac}, {ad}, {bc}, {bd}]</a></span></li><li><span><a href=\"#The-sum-operation:---[{a,b}]---$\\to$-[{a+b}]\" data-toc-modified-id=\"The-sum-operation:---[{a,b}]---$\\to$-[{a+b}]-5.3\"><span class=\"toc-item-num\">5.3&nbsp;&nbsp;</span>The <em>sum</em> operation:   [{a,b}]   $\\to$ [{a+b}]</a></span></li><li><span><a href=\"#The-combination-of-sum-and-outer-operation-[{u,d}]-$\\to$-[{w}]-$\\otimes$-[{e}]--$\\to$-[{w,e}]\" data-toc-modified-id=\"The-combination-of-sum-and-outer-operation-[{u,d}]-$\\to$-[{w}]-$\\otimes$-[{e}]--$\\to$-[{w,e}]-5.4\"><span class=\"toc-item-num\">5.4&nbsp;&nbsp;</span>The combination of <em>sum</em> and <em>outer</em> operation [{u,d}] $\\to$ [{w}] $\\otimes$ [{e}]  $\\to$ [{w,e}]</a></span><ul class=\"toc-item\"><li><ul class=\"toc-item\"><li><span><a href=\"#The-flatten-operation:-[{a,b},-{c}]-$\\to$--[{a,b,c}]\" data-toc-modified-id=\"The-flatten-operation:-[{a,b},-{c}]-$\\to$--[{a,b,c}]-5.4.0.1\"><span class=\"toc-item-num\">5.4.0.1&nbsp;&nbsp;</span>The <em>flatten</em> operation: [{a,b}, {c}] $\\to$  [{a,b,c}]</a></span></li></ul></li></ul></li></ul></li><li><span><a href=\"#Computing-observables-on-the-combination-of-subevents\" data-toc-modified-id=\"Computing-observables-on-the-combination-of-subevents-6\"><span class=\"toc-item-num\">6&nbsp;&nbsp;</span>Computing observables on the combination of subevents</a></span><ul class=\"toc-item\"><li><span><a href=\"#splitterLHEevents\" data-toc-modified-id=\"splitterLHEevents-6.1\"><span class=\"toc-item-num\">6.1&nbsp;&nbsp;</span>splitterLHEevents</a></span></li><li><span><a href=\"#outerLHEevents\" data-toc-modified-id=\"outerLHEevents-6.2\"><span class=\"toc-item-num\">6.2&nbsp;&nbsp;</span>outerLHEevents</a></span></li><li><span><a href=\"#combination-of-sum-and-outer\" data-toc-modified-id=\"combination-of-sum-and-outer-6.3\"><span class=\"toc-item-num\">6.3&nbsp;&nbsp;</span>combination of sum and outer</a></span></li></ul></li><li><span><a href=\"#Analysis-functions\" data-toc-modified-id=\"Analysis-functions-7\"><span class=\"toc-item-num\">7&nbsp;&nbsp;</span>Analysis functions</a></span><ul class=\"toc-item\"><li><span><a href=\"#Analysis-LHE-jjlnu\" data-toc-modified-id=\"Analysis-LHE-jjlnu-7.1\"><span class=\"toc-item-num\">7.1&nbsp;&nbsp;</span>Analysis LHE jjlnu</a></span><ul class=\"toc-item\"><li><span><a href=\"#File-Catcher\" data-toc-modified-id=\"File-Catcher-7.1.1\"><span class=\"toc-item-num\">7.1.1&nbsp;&nbsp;</span>File Catcher</a></span></li><li><span><a href=\"#Actual-Analysis-routine\" data-toc-modified-id=\"Actual-Analysis-routine-7.1.2\"><span class=\"toc-item-num\">7.1.2&nbsp;&nbsp;</span>Actual Analysis routine</a></span></li><li><span><a href=\"#Actual-Analysis-routine-REMOTE-RAY-function\" data-toc-modified-id=\"Actual-Analysis-routine-REMOTE-RAY-function-7.1.3\"><span class=\"toc-item-num\">7.1.3&nbsp;&nbsp;</span>Actual Analysis routine REMOTE RAY function</a></span></li><li><span><a href=\"#***-Ray-Remote-Wrapper\" data-toc-modified-id=\"***-Ray-Remote-Wrapper-7.1.4\"><span class=\"toc-item-num\">7.1.4&nbsp;&nbsp;</span>*** Ray Remote Wrapper</a></span><ul class=\"toc-item\"><li><span><a href=\"#In-a-nutshell-the-wrapper-function-takes-a-dictionary-of-arguments-to-be-passed-by-reference-to-the-actual-analysis-function\" data-toc-modified-id=\"In-a-nutshell-the-wrapper-function-takes-a-dictionary-of-arguments-to-be-passed-by-reference-to-the-actual-analysis-function-7.1.4.1\"><span class=\"toc-item-num\">7.1.4.1&nbsp;&nbsp;</span>In a nutshell the wrapper function takes a dictionary of arguments to be passed by reference to the actual analysis function</a></span></li></ul></li><li><span><a href=\"#Run-Serial\" data-toc-modified-id=\"Run-Serial-7.1.5\"><span class=\"toc-item-num\">7.1.5&nbsp;&nbsp;</span>Run Serial</a></span></li><li><span><a href=\"#Run-Ray-Parallel-(prototyping)\" data-toc-modified-id=\"Run-Ray-Parallel-(prototyping)-7.1.6\"><span class=\"toc-item-num\">7.1.6&nbsp;&nbsp;</span>Run Ray-Parallel (prototyping)</a></span><ul class=\"toc-item\"><li><span><a href=\"#It-is-possible-to-handle-the-labeling-system\" data-toc-modified-id=\"It-is-possible-to-handle-the-labeling-system-7.1.6.1\"><span class=\"toc-item-num\">7.1.6.1&nbsp;&nbsp;</span>It is possible to handle the labeling system</a></span></li></ul></li><li><span><a href=\"#Run-Ray-Parallel-(Submittng-and-retrieving-from-Dictionary,-keeping-labels,-without-blocking.)\" data-toc-modified-id=\"Run-Ray-Parallel-(Submittng-and-retrieving-from-Dictionary,-keeping-labels,-without-blocking.)-7.1.7\"><span class=\"toc-item-num\">7.1.7&nbsp;&nbsp;</span>Run Ray-Parallel (Submittng and retrieving from Dictionary, keeping labels, without blocking.)</a></span></li><li><span><a href=\"#Run-Ray-Parallel-(Submittng-and-retrieving-from-List,-keeping-labels,-without-blocking.)\" data-toc-modified-id=\"Run-Ray-Parallel-(Submittng-and-retrieving-from-List,-keeping-labels,-without-blocking.)-7.1.8\"><span class=\"toc-item-num\">7.1.8&nbsp;&nbsp;</span>Run Ray-Parallel (Submittng and retrieving from <strong>List</strong>, keeping labels, without blocking.)</a></span></li><li><span><a href=\"#Wrapper-Run-Ray-Parallel-(Submittng-and-retrieving-from-List,-keeping-labels,-without-blocking.)\" data-toc-modified-id=\"Wrapper-Run-Ray-Parallel-(Submittng-and-retrieving-from-List,-keeping-labels,-without-blocking.)-7.1.9\"><span class=\"toc-item-num\">7.1.9&nbsp;&nbsp;</span>Wrapper Run Ray-Parallel (Submittng and retrieving from <strong>List</strong>, keeping labels, without blocking.)</a></span></li></ul></li></ul></li><li><span><a href=\"#Histograms-Analysis\" data-toc-modified-id=\"Histograms-Analysis-8\"><span class=\"toc-item-num\">8&nbsp;&nbsp;</span>Histograms Analysis</a></span><ul class=\"toc-item\"><li><span><a href=\"#Spectrum-Maker\" data-toc-modified-id=\"Spectrum-Maker-8.1\"><span class=\"toc-item-num\">8.1&nbsp;&nbsp;</span>Spectrum Maker</a></span></li></ul></li><li><span><a href=\"#Panda-Analysis\" data-toc-modified-id=\"Panda-Analysis-9\"><span class=\"toc-item-num\">9&nbsp;&nbsp;</span>Panda Analysis</a></span><ul class=\"toc-item\"><li><span><a href=\"#CreateDataframe(energies=None,-cWs=None,box=None,filenames=None)\" data-toc-modified-id=\"CreateDataframe(energies=None,-cWs=None,box=None,filenames=None)-9.1\"><span class=\"toc-item-num\">9.1&nbsp;&nbsp;</span>CreateDataframe(energies=None, cWs=None,box=None,filenames=None)</a></span></li><li><span><a href=\"#Histrogram-from-Pandas\" data-toc-modified-id=\"Histrogram-from-Pandas-9.2\"><span class=\"toc-item-num\">9.2&nbsp;&nbsp;</span>Histrogram from Pandas</a></span></li><li><span><a href=\"#1D-Plot-data-from-Pandas\" data-toc-modified-id=\"1D-Plot-data-from-Pandas-9.3\"><span class=\"toc-item-num\">9.3&nbsp;&nbsp;</span>1D Plot data from Pandas</a></span></li><li><span><a href=\"#2D-Plot-data-from-Pandas\" data-toc-modified-id=\"2D-Plot-data-from-Pandas-9.4\"><span class=\"toc-item-num\">9.4&nbsp;&nbsp;</span>2D Plot data from Pandas</a></span><ul class=\"toc-item\"><li><ul class=\"toc-item\"><li><span><a href=\"#histoPlot2D(data,x='0',y='1',title='title',xlabel='xlabel',ylabel='ylabel',query='query',weights=None,DEBUG=False,cbar_label=None,**optArgs)\" data-toc-modified-id=\"histoPlot2D(data,x='0',y='1',title='title',xlabel='xlabel',ylabel='ylabel',query='query',weights=None,DEBUG=False,cbar_label=None,**optArgs)-9.4.0.1\"><span class=\"toc-item-num\">9.4.0.1&nbsp;&nbsp;</span>histoPlot2D(data,x='0',y='1',title='title',xlabel='xlabel',ylabel='ylabel',query='query',weights=None,DEBUG=False,cbar_label=None,**optArgs)</a></span></li><li><span><a href=\"#Run-analysis-with-extra-cuts-(e.g.-in-pTjj)\" data-toc-modified-id=\"Run-analysis-with-extra-cuts-(e.g.-in-pTjj)-9.4.0.2\"><span class=\"toc-item-num\">9.4.0.2&nbsp;&nbsp;</span>Run analysis with extra cuts (e.g. in pTjj)</a></span></li><li><span><a href=\"#Fits-bin-by-bin-(prepare-data)\" data-toc-modified-id=\"Fits-bin-by-bin-(prepare-data)-9.4.0.3\"><span class=\"toc-item-num\">9.4.0.3&nbsp;&nbsp;</span>Fits bin-by-bin (prepare data)</a></span></li><li><span><a href=\"#Fits-bin-by-bin\" data-toc-modified-id=\"Fits-bin-by-bin-9.4.0.4\"><span class=\"toc-item-num\">9.4.0.4&nbsp;&nbsp;</span>Fits bin-by-bin</a></span></li><li><span><a href=\"#Single-bin-limit\" data-toc-modified-id=\"Single-bin-limit-9.4.0.5\"><span class=\"toc-item-num\">9.4.0.5&nbsp;&nbsp;</span>Single bin limit</a></span></li><li><span><a href=\"#All-bins-combined\" data-toc-modified-id=\"All-bins-combined-9.4.0.6\"><span class=\"toc-item-num\">9.4.0.6&nbsp;&nbsp;</span>All bins combined</a></span></li><li><span><a href=\"#Snake-ratio\" data-toc-modified-id=\"Snake-ratio-9.4.0.7\"><span class=\"toc-item-num\">9.4.0.7&nbsp;&nbsp;</span>Snake-ratio</a></span></li><li><span><a href=\"#2D-ratio\" data-toc-modified-id=\"2D-ratio-9.4.0.8\"><span class=\"toc-item-num\">9.4.0.8&nbsp;&nbsp;</span>2D ratio</a></span></li><li><span><a href=\"#Old\" data-toc-modified-id=\"Old-9.4.0.9\"><span class=\"toc-item-num\">9.4.0.9&nbsp;&nbsp;</span>Old</a></span></li><li><span><a href=\"#Fits\" data-toc-modified-id=\"Fits-9.4.0.10\"><span class=\"toc-item-num\">9.4.0.10&nbsp;&nbsp;</span>Fits</a></span></li></ul></li></ul></li></ul></li></ul></div>"
   ]
  },
  {
   "cell_type": "markdown",
   "metadata": {},
   "source": [
    "# Import Ray"
   ]
  },
  {
   "cell_type": "code",
   "execution_count": 533,
   "metadata": {
    "ExecuteTime": {
     "end_time": "2020-05-03T08:21:01.039667Z",
     "start_time": "2020-05-03T08:21:01.034219Z"
    },
    "init_cell": true
   },
   "outputs": [],
   "source": [
    "import ray"
   ]
  },
  {
   "cell_type": "code",
   "execution_count": 29,
   "metadata": {
    "ExecuteTime": {
     "end_time": "2019-06-14T12:55:15.291868Z",
     "start_time": "2019-06-14T12:55:15.287999Z"
    }
   },
   "outputs": [
    {
     "data": {
      "text/plain": [
       "'0.7.1'"
      ]
     },
     "execution_count": 29,
     "metadata": {},
     "output_type": "execute_result"
    }
   ],
   "source": [
    "ray.__version__"
   ]
  },
  {
   "cell_type": "code",
   "execution_count": null,
   "metadata": {
    "ExecuteTime": {
     "end_time": "2019-06-14T08:00:42.617200Z",
     "start_time": "2019-06-14T08:00:42.612202Z"
    }
   },
   "outputs": [],
   "source": [
    "ray.objects()"
   ]
  },
  {
   "cell_type": "code",
   "execution_count": 31,
   "metadata": {
    "ExecuteTime": {
     "end_time": "2019-06-14T12:55:39.212064Z",
     "start_time": "2019-06-14T12:55:38.391256Z"
    }
   },
   "outputs": [
    {
     "name": "stderr",
     "output_type": "stream",
     "text": [
      "2019-06-14 14:55:38,393\tINFO node.py:498 -- Process STDOUT and STDERR is being redirected to /tmp/ray/session_2019-06-14_14-55-38_392801_36531/logs.\n",
      "2019-06-14 14:55:38,507\tINFO services.py:409 -- Waiting for redis server at 127.0.0.1:30771 to respond...\n",
      "2019-06-14 14:55:38,640\tINFO services.py:409 -- Waiting for redis server at 127.0.0.1:46647 to respond...\n",
      "2019-06-14 14:55:38,643\tINFO services.py:806 -- Starting Redis shard with 3.44 GB max memory.\n",
      "2019-06-14 14:55:38,657\tINFO node.py:512 -- Process STDOUT and STDERR is being redirected to /tmp/ray/session_2019-06-14_14-55-38_392801_36531/logs.\n",
      "2019-06-14 14:55:38,660\tINFO services.py:1442 -- Starting the Plasma object store with 5.15 GB memory using /tmp.\n"
     ]
    },
    {
     "data": {
      "text/plain": [
       "{'node_ip_address': '10.183.185.239',\n",
       " 'redis_address': '10.183.185.239:30771',\n",
       " 'object_store_address': '/tmp/ray/session_2019-06-14_14-55-38_392801_36531/sockets/plasma_store',\n",
       " 'raylet_socket_name': '/tmp/ray/session_2019-06-14_14-55-38_392801_36531/sockets/raylet',\n",
       " 'webui_url': None,\n",
       " 'session_dir': '/tmp/ray/session_2019-06-14_14-55-38_392801_36531'}"
      ]
     },
     "execution_count": 31,
     "metadata": {},
     "output_type": "execute_result"
    }
   ],
   "source": [
    "ray.shutdown()\n",
    "ray.init()"
   ]
  },
  {
   "cell_type": "markdown",
   "metadata": {
    "heading_collapsed": true
   },
   "source": [
    "# Init"
   ]
  },
  {
   "cell_type": "code",
   "execution_count": 1,
   "metadata": {
    "ExecuteTime": {
     "end_time": "2020-05-03T08:21:01.077152Z",
     "start_time": "2020-05-03T08:21:01.052162Z"
    },
    "execution": {
     "iopub.execute_input": "2023-09-15T10:23:20.917739Z",
     "iopub.status.busy": "2023-09-15T10:23:20.917185Z",
     "iopub.status.idle": "2023-09-15T10:23:20.936663Z",
     "shell.execute_reply": "2023-09-15T10:23:20.936059Z",
     "shell.execute_reply.started": "2023-09-15T10:23:20.917690Z"
    },
    "hidden": true,
    "init_cell": true,
    "tags": []
   },
   "outputs": [
    {
     "data": {
      "text/html": [
       "<style>.container { width:99% !important; }</style>"
      ],
      "text/plain": [
       "<IPython.core.display.HTML object>"
      ]
     },
     "metadata": {},
     "output_type": "display_data"
    }
   ],
   "source": [
    "from IPython.display import display, HTML\n",
    "display(HTML(\"<style>.container { width:99% !important; }</style>\"))"
   ]
  },
  {
   "cell_type": "code",
   "execution_count": 535,
   "metadata": {
    "ExecuteTime": {
     "end_time": "2020-05-03T08:21:01.094972Z",
     "start_time": "2020-05-03T08:21:01.090546Z"
    },
    "hidden": true,
    "init_cell": true
   },
   "outputs": [],
   "source": [
    "from numpy import format_float_scientific"
   ]
  },
  {
   "cell_type": "code",
   "execution_count": 536,
   "metadata": {
    "ExecuteTime": {
     "end_time": "2020-05-03T08:21:01.108439Z",
     "start_time": "2020-05-03T08:21:01.102989Z"
    },
    "hidden": true,
    "init_cell": true
   },
   "outputs": [],
   "source": [
    "import sympy\n",
    "import sympy as sp\n",
    "from sympy.solvers import solve\n",
    "from sympy import latex\n",
    "from sympy.printing.mathml import mathml\n",
    "from sympy import mathematica_code as mcode\n",
    "#from prettyPy import prettyPy as pp"
   ]
  },
  {
   "cell_type": "code",
   "execution_count": 537,
   "metadata": {
    "ExecuteTime": {
     "end_time": "2020-05-03T08:21:01.116925Z",
     "start_time": "2020-05-03T08:21:01.112266Z"
    },
    "hidden": true,
    "init_cell": true
   },
   "outputs": [],
   "source": [
    "from scipy.optimize import curve_fit"
   ]
  },
  {
   "cell_type": "code",
   "execution_count": 538,
   "metadata": {
    "ExecuteTime": {
     "end_time": "2020-05-03T08:21:01.134070Z",
     "start_time": "2020-05-03T08:21:01.121872Z"
    },
    "hidden": true,
    "init_cell": true
   },
   "outputs": [],
   "source": [
    "import sys, os, glob\n",
    "import time \n",
    "import matplotlib.pyplot as plt\n",
    "import scipy.interpolate\n",
    "from copy import copy, deepcopy\n",
    "import numpy as np\n",
    "import pandas as pd\n",
    "import json\n",
    "import importlib\n",
    "import re\n",
    "##############################################\n",
    "import utils\n",
    "import observables, filters, analyses\n",
    "import lhef, lorentz, modifiers1\n",
    "#import delphes\n",
    "import cuts\n",
    "import HistogramContainer\n",
    "import NumpyClasses as nc\n",
    "from observables import v,w"
   ]
  },
  {
   "cell_type": "code",
   "execution_count": 539,
   "metadata": {
    "ExecuteTime": {
     "end_time": "2020-05-03T08:21:01.159106Z",
     "start_time": "2020-05-03T08:21:01.151487Z"
    },
    "hidden": true,
    "init_cell": true
   },
   "outputs": [],
   "source": [
    "plt.rcParams['figure.figsize'] = [8.0, 6.0]\n",
    "plt.rcParams['figure.dpi'] = 80\n",
    "plt.rcParams['savefig.dpi'] = 150\n",
    "\n",
    "plt.rcParams['font.size'] = 18\n",
    "plt.rcParams['legend.fontsize'] = 'large'\n",
    "plt.rcParams['figure.titlesize'] = 'medium'"
   ]
  },
  {
   "cell_type": "code",
   "execution_count": null,
   "metadata": {
    "ExecuteTime": {
     "end_time": "2019-06-02T21:30:53.515552Z",
     "start_time": "2019-06-02T21:30:53.509593Z"
    },
    "hidden": true
   },
   "outputs": [],
   "source": [
    "import matplotlib\n",
    "matplotlib.__version__"
   ]
  },
  {
   "cell_type": "code",
   "execution_count": 540,
   "metadata": {
    "ExecuteTime": {
     "end_time": "2020-05-03T08:21:01.190992Z",
     "start_time": "2020-05-03T08:21:01.166485Z"
    },
    "hidden": true,
    "init_cell": true
   },
   "outputs": [
    {
     "data": {
      "text/plain": [
       "<module 'utils' from '/Users/roberto/scriptbelt/utils.py'>"
      ]
     },
     "execution_count": 540,
     "metadata": {},
     "output_type": "execute_result"
    }
   ],
   "source": [
    "importlib.reload(utils)"
   ]
  },
  {
   "cell_type": "code",
   "execution_count": 541,
   "metadata": {
    "ExecuteTime": {
     "end_time": "2020-05-03T08:21:01.247805Z",
     "start_time": "2020-05-03T08:21:01.199349Z"
    },
    "hidden": true,
    "init_cell": true
   },
   "outputs": [
    {
     "data": {
      "text/plain": [
       "<module 'analyses' from '/Users/roberto/humanroot/utils/PyLHEanalysis/analyses.py'>"
      ]
     },
     "execution_count": 541,
     "metadata": {},
     "output_type": "execute_result"
    }
   ],
   "source": [
    "importlib.reload(observables)\n",
    "importlib.reload(filters)\n",
    "importlib.reload(utils)\n",
    "importlib.reload(lhef)\n",
    "importlib.reload(cuts)\n",
    "#importlib.reload(delphes)\n",
    "importlib.reload(HistogramContainer)\n",
    "importlib.reload(analyses)"
   ]
  },
  {
   "cell_type": "markdown",
   "metadata": {},
   "source": [
    "# Events reading"
   ]
  },
  {
   "cell_type": "code",
   "execution_count": null,
   "metadata": {
    "ExecuteTime": {
     "end_time": "2019-06-09T10:26:53.750351Z",
     "start_time": "2019-06-09T10:26:53.747377Z"
    }
   },
   "outputs": [],
   "source": [
    "LHEfile=lhef.readLHE('LHEfiles/run2_of_2__ebeam1_1500_ebeam2_1500_ptheavy_750.0_G3L_0__2019-03-12--11-50_ee2ww2udev_run3_ebeam1_1500_ebeam2_1500_ptheavy_750.0_G3L_0.lhe')"
   ]
  },
  {
   "cell_type": "markdown",
   "metadata": {},
   "source": [
    "# Sub-events reading"
   ]
  },
  {
   "cell_type": "code",
   "execution_count": null,
   "metadata": {
    "ExecuteTime": {
     "end_time": "2019-06-09T10:26:55.860171Z",
     "start_time": "2019-06-09T10:26:55.851509Z"
    }
   },
   "outputs": [],
   "source": [
    "stop_at=1\n",
    "Nev=0\n",
    "for event in LHEfile: # loop on the events\n",
    "    if stop_at is not None:\n",
    "        if Nev > stop_at:\n",
    "            break\n",
    "\n",
    "    Nev=Nev+1\n",
    "    # MAKE SUB-EVETNS FOR ANALYSIS\n",
    "    jets_event=filters.filter_by_function(event=event,function=lambda x: abs(x.id)  in  [1,2], inplace=False)\n",
    "    leptons_event=filters.filter_by_function(event=event,function=lambda x: (abs(x.id)  in  [11,12] )and (x.status==1), inplace=False)\n",
    "    electrons_event=filters.filter_by_function(event=event,function=lambda x: (abs(x.id)  in  [11] )and (x.status==1), inplace=False)\n",
    "    neutrinos_event=filters.filter_by_function(event=event,function=lambda x: (abs(x.id)  in  [12] )and (x.status==1), inplace=False)"
   ]
  },
  {
   "cell_type": "markdown",
   "metadata": {},
   "source": [
    "# Sub-events manipulation"
   ]
  },
  {
   "cell_type": "markdown",
   "metadata": {},
   "source": [
    "## The sub-event made by the filter contains a list of particles, stored in the member _particles_"
   ]
  },
  {
   "cell_type": "code",
   "execution_count": null,
   "metadata": {
    "ExecuteTime": {
     "end_time": "2019-06-07T21:15:09.702872Z",
     "start_time": "2019-06-07T21:15:09.699193Z"
    },
    "scrolled": true
   },
   "outputs": [],
   "source": [
    "jets_event.particles[1].print_lhe_particle_general()"
   ]
  },
  {
   "cell_type": "markdown",
   "metadata": {
    "ExecuteTime": {
     "end_time": "2019-06-07T21:16:03.761496Z",
     "start_time": "2019-06-07T21:16:03.757507Z"
    },
    "heading_collapsed": true
   },
   "source": [
    "## The _outer_ operation:  [ {a,b} , {c,d} ] $\\to$ [ {ac}, {ad}, {bc}, {bd}]"
   ]
  },
  {
   "cell_type": "markdown",
   "metadata": {
    "hidden": true
   },
   "source": [
    "Takes two lists of particles {a,b} and {c,d} and makes all the combinations of the one element of the first with all the elements of the second:\n",
    "- [ {a,b} , {c,d} ] -> [ {ac}, {ad}, {bc}, {bd}]"
   ]
  },
  {
   "cell_type": "code",
   "execution_count": null,
   "metadata": {
    "ExecuteTime": {
     "end_time": "2019-06-08T15:59:57.487848Z",
     "start_time": "2019-06-08T15:59:57.484607Z"
    },
    "hidden": true
   },
   "outputs": [],
   "source": [
    "jets_event"
   ]
  },
  {
   "cell_type": "code",
   "execution_count": null,
   "metadata": {
    "ExecuteTime": {
     "end_time": "2019-06-08T09:05:09.777869Z",
     "start_time": "2019-06-08T09:05:09.775048Z"
    },
    "hidden": true
   },
   "outputs": [],
   "source": [
    "electron_quark=lhef.outerLHEevents([jets_event,electrons_event])"
   ]
  },
  {
   "cell_type": "code",
   "execution_count": null,
   "metadata": {
    "ExecuteTime": {
     "end_time": "2019-06-08T17:55:20.083481Z",
     "start_time": "2019-06-08T17:55:20.079445Z"
    },
    "hidden": true
   },
   "outputs": [],
   "source": [
    "electron_quark"
   ]
  },
  {
   "cell_type": "code",
   "execution_count": null,
   "metadata": {
    "ExecuteTime": {
     "end_time": "2019-06-08T16:26:14.520789Z",
     "start_time": "2019-06-08T16:26:14.517309Z"
    },
    "hidden": true
   },
   "outputs": [],
   "source": [
    "electron_quark[0].eventinfo.print_event_info()"
   ]
  },
  {
   "cell_type": "code",
   "execution_count": null,
   "metadata": {
    "ExecuteTime": {
     "end_time": "2019-06-08T09:05:12.075808Z",
     "start_time": "2019-06-08T09:05:12.069345Z"
    },
    "hidden": true,
    "scrolled": true
   },
   "outputs": [],
   "source": [
    "for eq in electron_quark:\n",
    "    print('=========================')\n",
    "    for p in eq.particles:\n",
    "        print('````````````````````')\n",
    "        p.print_lhe_particle()"
   ]
  },
  {
   "cell_type": "markdown",
   "metadata": {
    "ExecuteTime": {
     "end_time": "2019-06-07T21:16:03.761496Z",
     "start_time": "2019-06-07T21:16:03.757507Z"
    },
    "heading_collapsed": true
   },
   "source": [
    "## The _sum_ operation:   [{a,b}]   $\\to$ [{a+b}]"
   ]
  },
  {
   "cell_type": "markdown",
   "metadata": {
    "hidden": true
   },
   "source": [
    "- Takes two lists of particles {a,b} and makes the anonymous (i.e. no PID) combination {a+b}"
   ]
  },
  {
   "cell_type": "code",
   "execution_count": null,
   "metadata": {
    "ExecuteTime": {
     "end_time": "2019-06-07T22:10:14.966893Z",
     "start_time": "2019-06-07T22:10:14.962678Z"
    },
    "hidden": true
   },
   "outputs": [],
   "source": [
    "jets_event.particles"
   ]
  },
  {
   "cell_type": "code",
   "execution_count": null,
   "metadata": {
    "ExecuteTime": {
     "end_time": "2019-06-08T18:58:07.286245Z",
     "start_time": "2019-06-08T18:58:07.281932Z"
    },
    "hidden": true
   },
   "outputs": [],
   "source": [
    "hadronic_W=lhef.sumLHEevents([jets_event],DEBUG=True)"
   ]
  },
  {
   "cell_type": "code",
   "execution_count": null,
   "metadata": {
    "ExecuteTime": {
     "end_time": "2019-06-08T16:05:24.013747Z",
     "start_time": "2019-06-08T16:05:24.009053Z"
    },
    "hidden": true
   },
   "outputs": [],
   "source": [
    "hadronic_W.eventinfo.print_event_info()"
   ]
  },
  {
   "cell_type": "code",
   "execution_count": null,
   "metadata": {
    "ExecuteTime": {
     "end_time": "2019-06-07T22:29:29.164216Z",
     "start_time": "2019-06-07T22:29:29.159529Z"
    },
    "hidden": true
   },
   "outputs": [],
   "source": [
    "for p in hadronic_W.particles:\n",
    "    p.print_lhe_particle()\n",
    "    print('mass',p.fourvector().mass())"
   ]
  },
  {
   "cell_type": "markdown",
   "metadata": {
    "ExecuteTime": {
     "end_time": "2019-06-07T21:16:03.761496Z",
     "start_time": "2019-06-07T21:16:03.757507Z"
    },
    "heading_collapsed": true
   },
   "source": [
    "## The combination of _sum_ and *outer* operation [{u,d}] $\\to$ [{w}] $\\otimes$ [{e}]  $\\to$ [{w,e}]"
   ]
  },
  {
   "cell_type": "code",
   "execution_count": null,
   "metadata": {
    "ExecuteTime": {
     "end_time": "2019-06-09T10:27:03.561159Z",
     "start_time": "2019-06-09T10:27:03.557079Z"
    },
    "hidden": true,
    "scrolled": true
   },
   "outputs": [],
   "source": [
    "hadronic_W=lhef.sumLHEevents([jets_event],DEBUG=True)"
   ]
  },
  {
   "cell_type": "code",
   "execution_count": null,
   "metadata": {
    "ExecuteTime": {
     "end_time": "2019-06-09T10:27:05.535025Z",
     "start_time": "2019-06-09T10:27:05.531260Z"
    },
    "hidden": true
   },
   "outputs": [],
   "source": [
    "hadronic_W.eventinfo.print_event_info()"
   ]
  },
  {
   "cell_type": "code",
   "execution_count": null,
   "metadata": {
    "ExecuteTime": {
     "end_time": "2019-06-09T10:27:07.958924Z",
     "start_time": "2019-06-09T10:27:07.955918Z"
    },
    "hidden": true
   },
   "outputs": [],
   "source": [
    "electron_Whardonic=lhef.outerLHEevents([electrons_event,hadronic_W])"
   ]
  },
  {
   "cell_type": "code",
   "execution_count": null,
   "metadata": {
    "ExecuteTime": {
     "end_time": "2019-06-09T10:27:10.344851Z",
     "start_time": "2019-06-09T10:27:10.341127Z"
    },
    "hidden": true
   },
   "outputs": [],
   "source": [
    "electron_Whardonic"
   ]
  },
  {
   "cell_type": "code",
   "execution_count": null,
   "metadata": {
    "ExecuteTime": {
     "end_time": "2019-06-09T10:27:13.764217Z",
     "start_time": "2019-06-09T10:27:13.761193Z"
    },
    "hidden": true
   },
   "outputs": [],
   "source": [
    "Whardonic_electron=lhef.outerLHEevents([hadronic_W,electrons_event])"
   ]
  },
  {
   "cell_type": "code",
   "execution_count": null,
   "metadata": {
    "ExecuteTime": {
     "end_time": "2019-06-09T10:27:14.991240Z",
     "start_time": "2019-06-09T10:27:14.987283Z"
    },
    "hidden": true
   },
   "outputs": [],
   "source": [
    "Whardonic_electron"
   ]
  },
  {
   "cell_type": "markdown",
   "metadata": {
    "ExecuteTime": {
     "end_time": "2019-06-08T15:42:58.527042Z",
     "start_time": "2019-06-08T15:42:58.523236Z"
    },
    "hidden": true
   },
   "source": [
    "- keeps the  order based on the input list"
   ]
  },
  {
   "cell_type": "code",
   "execution_count": null,
   "metadata": {
    "ExecuteTime": {
     "end_time": "2019-06-09T10:27:20.270749Z",
     "start_time": "2019-06-09T10:27:20.263974Z"
    },
    "hidden": true
   },
   "outputs": [],
   "source": [
    "for eW in electron_Whardonic:\n",
    "    print('=========================')\n",
    "    for p in eW.particles:\n",
    "        print('````````````````````')\n",
    "        p.print_lhe_particle()"
   ]
  },
  {
   "cell_type": "code",
   "execution_count": null,
   "metadata": {
    "ExecuteTime": {
     "end_time": "2019-06-09T10:27:37.842030Z",
     "start_time": "2019-06-09T10:27:37.837033Z"
    },
    "hidden": true,
    "scrolled": true
   },
   "outputs": [],
   "source": [
    "neutrinos_event.particles[0].print_lhe_particle()"
   ]
  },
  {
   "cell_type": "code",
   "execution_count": null,
   "metadata": {
    "ExecuteTime": {
     "end_time": "2019-06-09T10:32:35.926304Z",
     "start_time": "2019-06-09T10:32:35.922419Z"
    },
    "hidden": true
   },
   "outputs": [],
   "source": [
    "np.arctan2(-385.2756407, -779.66284103)"
   ]
  },
  {
   "cell_type": "markdown",
   "metadata": {
    "ExecuteTime": {
     "end_time": "2019-06-07T21:16:03.761496Z",
     "start_time": "2019-06-07T21:16:03.757507Z"
    },
    "heading_collapsed": true,
    "hidden": true
   },
   "source": [
    "#### The _flatten_ operation: [{a,b}, {c}] $\\to$  [{a,b,c}]"
   ]
  },
  {
   "cell_type": "markdown",
   "metadata": {
    "hidden": true
   },
   "source": [
    "Takes two lists of particles {a,b} and {c,d} and makes a single event out of them"
   ]
  },
  {
   "cell_type": "code",
   "execution_count": null,
   "metadata": {
    "ExecuteTime": {
     "end_time": "2019-06-07T21:44:00.567262Z",
     "start_time": "2019-06-07T21:44:00.563559Z"
    },
    "hidden": true
   },
   "outputs": [],
   "source": [
    "jets_event.particles"
   ]
  },
  {
   "cell_type": "code",
   "execution_count": null,
   "metadata": {
    "ExecuteTime": {
     "end_time": "2019-06-07T22:10:14.966893Z",
     "start_time": "2019-06-07T22:10:14.962678Z"
    },
    "hidden": true
   },
   "outputs": [],
   "source": [
    "electrons_event.particles"
   ]
  },
  {
   "cell_type": "code",
   "execution_count": null,
   "metadata": {
    "ExecuteTime": {
     "end_time": "2019-06-07T21:46:21.385493Z",
     "start_time": "2019-06-07T21:46:21.382497Z"
    },
    "hidden": true
   },
   "outputs": [],
   "source": [
    "electron_quark=lhef.flattenLHEevents([electrons_event,jets_event])"
   ]
  },
  {
   "cell_type": "code",
   "execution_count": null,
   "metadata": {
    "ExecuteTime": {
     "end_time": "2019-06-07T21:47:00.821915Z",
     "start_time": "2019-06-07T21:47:00.816142Z"
    },
    "hidden": true
   },
   "outputs": [],
   "source": [
    "for p in electron_quark.particles:\n",
    "    print('````````````````````')\n",
    "    p.print_lhe_particle()"
   ]
  },
  {
   "cell_type": "markdown",
   "metadata": {},
   "source": [
    "# Computing observables on the combination of subevents"
   ]
  },
  {
   "cell_type": "markdown",
   "metadata": {
    "heading_collapsed": true
   },
   "source": [
    "## splitterLHEevents"
   ]
  },
  {
   "cell_type": "markdown",
   "metadata": {
    "hidden": true
   },
   "source": [
    "- **compute_obs_estensively** takes a list of subevents as input\n",
    "- they can be analyzed one by one with the **splitterLHEevents**"
   ]
  },
  {
   "cell_type": "code",
   "execution_count": null,
   "metadata": {
    "ExecuteTime": {
     "end_time": "2019-06-08T15:30:06.863447Z",
     "start_time": "2019-06-08T15:30:06.857778Z"
    },
    "hidden": true,
    "scrolled": true
   },
   "outputs": [],
   "source": [
    "_hcl = HistogramContainer.HistogramContainerList(['Theta'])\n",
    "_jets_event=jets_event\n",
    "_jets_event.eventinfo.event_number = 'Nev'\n",
    "_jets_event.eventinfo.sample_label = 'label'\n",
    "observables.compute_obs_estensively(observables.theta,[ _jets_event ],output=_hcl.list_of_histograms['Theta'],operation=lhef.splitterLHEevents,return_value=True)"
   ]
  },
  {
   "cell_type": "markdown",
   "metadata": {
    "heading_collapsed": true
   },
   "source": [
    "##  outerLHEevents"
   ]
  },
  {
   "cell_type": "markdown",
   "metadata": {
    "hidden": true
   },
   "source": [
    "- **compute_obs_estensively** takes a list of subevents as input\n",
    "- **outerLHEevents** forms pairs onto which compute the observable"
   ]
  },
  {
   "cell_type": "code",
   "execution_count": null,
   "metadata": {
    "ExecuteTime": {
     "end_time": "2019-06-08T15:57:18.692831Z",
     "start_time": "2019-06-08T15:57:18.688917Z"
    },
    "hidden": true
   },
   "outputs": [],
   "source": [
    "jets_event"
   ]
  },
  {
   "cell_type": "code",
   "execution_count": null,
   "metadata": {
    "ExecuteTime": {
     "end_time": "2019-06-08T16:01:10.213609Z",
     "start_time": "2019-06-08T16:01:10.206872Z"
    },
    "hidden": true,
    "scrolled": true
   },
   "outputs": [],
   "source": [
    "_hcl = HistogramContainer.HistogramContainerList(['MassJJ'])\n",
    "_jets_event=jets_event\n",
    "print(type( _jets_event))\n",
    "_jets_event.eventinfo.event_number = 'Nev'\n",
    "_jets_event.eventinfo.sample_label = 'label'\n",
    "observables.compute_obs_estensively(observables.invariant_mass,[ _jets_event ],output=_hcl.list_of_histograms['MassJJ'],operation=lhef.outerLHEevents,return_value=True)"
   ]
  },
  {
   "cell_type": "markdown",
   "metadata": {
    "hidden": true
   },
   "source": [
    "- **compute_obs_estensively** takes a list of subevents as input\n",
    "- **splitterLHEevents** can be used on a sum of subevents to obtain the same result"
   ]
  },
  {
   "cell_type": "code",
   "execution_count": null,
   "metadata": {
    "ExecuteTime": {
     "end_time": "2019-06-08T15:57:51.979294Z",
     "start_time": "2019-06-08T15:57:51.975995Z"
    },
    "hidden": true
   },
   "outputs": [],
   "source": [
    "hadronic_W"
   ]
  },
  {
   "cell_type": "code",
   "execution_count": null,
   "metadata": {
    "ExecuteTime": {
     "end_time": "2019-06-08T16:01:17.929541Z",
     "start_time": "2019-06-08T16:01:17.922613Z"
    },
    "hidden": true,
    "scrolled": true
   },
   "outputs": [],
   "source": [
    "_hcl = HistogramContainer.HistogramContainerList(['MassW'])\n",
    "_jets_event=hadronic_W\n",
    "print(type( _jets_event))\n",
    "_jets_event.eventinfo.event_number = 'Nev'\n",
    "_jets_event.eventinfo.sample_label = 'label'\n",
    "observables.compute_obs_estensively(observables.invariant_mass,[ _jets_event ],output=_hcl.list_of_histograms['MassW'],operation=lhef.splitterLHEevents,return_value=True)"
   ]
  },
  {
   "cell_type": "markdown",
   "metadata": {
    "heading_collapsed": true
   },
   "source": [
    "##  combination of sum and outer"
   ]
  },
  {
   "cell_type": "code",
   "execution_count": null,
   "metadata": {
    "ExecuteTime": {
     "end_time": "2019-06-09T10:27:52.185836Z",
     "start_time": "2019-06-09T10:27:52.181993Z"
    },
    "hidden": true
   },
   "outputs": [],
   "source": [
    "electron_Whardonic"
   ]
  },
  {
   "cell_type": "markdown",
   "metadata": {
    "hidden": true
   },
   "source": [
    "- it is the result of an **outer** therefore is a list of events"
   ]
  },
  {
   "cell_type": "code",
   "execution_count": null,
   "metadata": {
    "ExecuteTime": {
     "end_time": "2019-06-09T10:27:56.231870Z",
     "start_time": "2019-06-09T10:27:56.228711Z"
    },
    "hidden": true
   },
   "outputs": [],
   "source": [
    "jets_event"
   ]
  },
  {
   "cell_type": "markdown",
   "metadata": {
    "ExecuteTime": {
     "end_time": "2019-06-08T18:10:14.218529Z",
     "start_time": "2019-06-08T18:10:14.214851Z"
    },
    "hidden": true
   },
   "source": [
    "- it is a simple sub-event"
   ]
  },
  {
   "cell_type": "markdown",
   "metadata": {
    "hidden": true
   },
   "source": [
    "##### Passing the result of the outer to the observable"
   ]
  },
  {
   "cell_type": "markdown",
   "metadata": {
    "hidden": true
   },
   "source": [
    "- compute a quantity on the list of combinations within the outer"
   ]
  },
  {
   "cell_type": "code",
   "execution_count": null,
   "metadata": {
    "ExecuteTime": {
     "end_time": "2019-06-09T10:28:20.716814Z",
     "start_time": "2019-06-09T10:28:20.710127Z"
    },
    "hidden": true,
    "scrolled": true
   },
   "outputs": [],
   "source": [
    "_hcl = HistogramContainer.HistogramContainerList(['MassWe'])\n",
    "_jets_event=electron_Whardonic\n",
    "print(type( _jets_event))\n",
    "observables.compute_obs_estensively(observables.invariant_mass, electron_Whardonic ,output=_hcl.list_of_histograms['MassWe'],operation=lhef.outerLHEevents,return_value=True)"
   ]
  },
  {
   "cell_type": "markdown",
   "metadata": {
    "hidden": true
   },
   "source": [
    "- can still access to the components of the list, via **splitter**"
   ]
  },
  {
   "cell_type": "code",
   "execution_count": null,
   "metadata": {
    "ExecuteTime": {
     "end_time": "2019-06-09T10:28:27.704124Z",
     "start_time": "2019-06-09T10:28:27.697965Z"
    },
    "hidden": true,
    "scrolled": true
   },
   "outputs": [],
   "source": [
    "_hcl = HistogramContainer.HistogramContainerList(['MassWe'])\n",
    "_jets_event=electron_Whardonic\n",
    "print(type( _jets_event))\n",
    "observables.compute_obs_estensively(observables.invariant_mass, electron_Whardonic ,output=_hcl.list_of_histograms['MassWe'],operation=lhef.splitterLHEevents,return_value=True)"
   ]
  },
  {
   "cell_type": "markdown",
   "metadata": {
    "hidden": true
   },
   "source": [
    "##### Passing the result of the outer to the observable or making the outer on the fly"
   ]
  },
  {
   "cell_type": "markdown",
   "metadata": {
    "hidden": true
   },
   "source": [
    "- directly on the outer "
   ]
  },
  {
   "cell_type": "code",
   "execution_count": null,
   "metadata": {
    "ExecuteTime": {
     "end_time": "2019-06-09T10:28:34.847981Z",
     "start_time": "2019-06-09T10:28:34.841053Z"
    },
    "hidden": true,
    "scrolled": true
   },
   "outputs": [],
   "source": [
    "_hcl = HistogramContainer.HistogramContainerList(['PhiE_W'])\n",
    "_jets_event=electron_Whardonic\n",
    "print(type( _jets_event))\n",
    "observables.compute_obs_estensively(observables.phi_wrt_ref, electron_Whardonic ,output=_hcl.list_of_histograms['PhiE_W'],operation=lhef.outerLHEevents,return_value=True)"
   ]
  },
  {
   "cell_type": "markdown",
   "metadata": {
    "hidden": true
   },
   "source": [
    "- on the fly"
   ]
  },
  {
   "cell_type": "code",
   "execution_count": null,
   "metadata": {
    "ExecuteTime": {
     "end_time": "2019-06-09T19:16:51.896674Z",
     "start_time": "2019-06-09T19:16:51.890409Z"
    },
    "hidden": true,
    "scrolled": true
   },
   "outputs": [],
   "source": [
    "_hcl = HistogramContainer.HistogramContainerList(['PhiE_W'])\n",
    "\n",
    "observables.compute_obs_estensively(observables.phi_wrt_ref, [electrons_event, hadronic_W] ,output=_hcl.list_of_histograms['PhiE_W'],operation=lhef.outerLHEevents,return_value=True)"
   ]
  },
  {
   "cell_type": "code",
   "execution_count": null,
   "metadata": {
    "ExecuteTime": {
     "end_time": "2019-06-09T10:40:47.027342Z",
     "start_time": "2019-06-09T10:40:47.024145Z"
    },
    "hidden": true
   },
   "outputs": [],
   "source": [
    "hadronic_W.particles[0].fourvector().print_fv()"
   ]
  },
  {
   "cell_type": "code",
   "execution_count": null,
   "metadata": {
    "ExecuteTime": {
     "end_time": "2019-06-09T10:41:04.432079Z",
     "start_time": "2019-06-09T10:41:04.428490Z"
    },
    "hidden": true
   },
   "outputs": [],
   "source": [
    "electrons_event.particles[0].fourvector().print_fv()"
   ]
  },
  {
   "cell_type": "markdown",
   "metadata": {
    "hidden": true
   },
   "source": [
    "- the ordering matters!"
   ]
  },
  {
   "cell_type": "code",
   "execution_count": null,
   "metadata": {
    "ExecuteTime": {
     "end_time": "2019-06-09T10:29:08.012252Z",
     "start_time": "2019-06-09T10:29:08.005868Z"
    },
    "hidden": true,
    "scrolled": true
   },
   "outputs": [],
   "source": [
    "_hcl = HistogramContainer.HistogramContainerList(['PhiE_W'])\n",
    "\n",
    "observables.compute_obs_estensively(observables.phi_wrt_ref, [hadronic_W, electrons_event] ,output=_hcl.list_of_histograms['PhiE_W'],operation=lhef.outerLHEevents,return_value=True)"
   ]
  },
  {
   "cell_type": "markdown",
   "metadata": {
    "hidden": true
   },
   "source": [
    "- check the neutrino at $\\phi_\\nu = \\phi_\\ell \\pm \\pi$"
   ]
  },
  {
   "cell_type": "code",
   "execution_count": null,
   "metadata": {
    "ExecuteTime": {
     "end_time": "2019-06-09T19:18:27.583607Z",
     "start_time": "2019-06-09T19:18:27.577276Z"
    },
    "hidden": true,
    "scrolled": true
   },
   "outputs": [],
   "source": [
    "_hcl = HistogramContainer.HistogramContainerList(['PhiE_W','PhiNu_W'])\n",
    "\n",
    "phiStarE=observables.compute_obs_estensively(observables.phi_wrt_ref, [electrons_event, hadronic_W] ,output=_hcl.list_of_histograms['PhiE_W'],operation=lhef.outerLHEevents,return_value=True)\n",
    "\n",
    "phiStarNu=observables.compute_obs_estensively(observables.phi_wrt_ref, [neutrinos_event, hadronic_W] ,output=_hcl.list_of_histograms['PhiNu_W'],operation=lhef.outerLHEevents,return_value=True)"
   ]
  },
  {
   "cell_type": "code",
   "execution_count": null,
   "metadata": {
    "ExecuteTime": {
     "end_time": "2019-06-09T19:19:26.451875Z",
     "start_time": "2019-06-09T19:19:26.448039Z"
    },
    "hidden": true
   },
   "outputs": [],
   "source": [
    "print(phiStarE[0]['values'])\n",
    "print(phiStarNu[0]['values'])\n",
    "print(phiStarE[0]['values']-phiStarNu[0]['values'])"
   ]
  },
  {
   "cell_type": "markdown",
   "metadata": {},
   "source": [
    "# Analysis functions"
   ]
  },
  {
   "cell_type": "markdown",
   "metadata": {},
   "source": [
    "## Analysis LHE jjlnu"
   ]
  },
  {
   "cell_type": "markdown",
   "metadata": {},
   "source": [
    "### File Catcher"
   ]
  },
  {
   "cell_type": "code",
   "execution_count": 542,
   "metadata": {
    "ExecuteTime": {
     "end_time": "2020-05-03T08:21:01.348772Z",
     "start_time": "2020-05-03T08:21:01.335491Z"
    },
    "init_cell": true
   },
   "outputs": [],
   "source": [
    "def file_ee2ww2udev(_energy,_CW,ptheavy=None):\n",
    "    DEBUG=False\n",
    "    #DEBUG=True\n",
    "    if ptheavy is None:\n",
    "        ptheavy=_energy/2.0\n",
    "    \n",
    "    _str='LHEfiles/run*ebeam1_'+str(_energy)+'*_ptheavy_'+str(ptheavy)+'*_G3L_'+str(_CW)+'*.lhe'\n",
    "    if DEBUG: print(_str)\n",
    "    try:\n",
    "        newest = max(glob.iglob(_str), key=os.path.getmtime)\n",
    "    except ValueError:\n",
    "        print(_str)\n",
    "        return None \n",
    "    label={}\n",
    "    label['Ebeam']=_energy\n",
    "    label['G3L']=_CW\n",
    "    label['ptheavy']=ptheavy\n",
    "    return newest, label"
   ]
  },
  {
   "cell_type": "code",
   "execution_count": null,
   "metadata": {},
   "outputs": [],
   "source": [
    "# A more efficient file catcher if the file-name contains many parameters to be parsed\n",
    "def file_ee2ww2udev_parametric(_Ci):\n",
    "    '''\n",
    "    `_Ci` is an ordered list of dictionaries. The *order* is kept in the structure of the filename. Ci=[{'G3L':0},{'GeR':0}]\n",
    "    `usage`: file_ee2ww2udev_cB_cW([{'GeR':1e-10},{'G3L':1e-10}])\n",
    "    '''\n",
    "    DEBUG=False\n",
    "    #DEBUG=True\n",
    "    coefficients=''\n",
    "    for coeff in _Ci:\n",
    "        for name,value in coeff.items():\n",
    "            coefficients+='_'+name+'_'+str(value)+'*'\n",
    "    _str='WWudev/LHEfiles/BW/run*ebeam1_'+str(_energy)+ptheavyString+'*'\\\n",
    "    +coefficients\\\n",
    "    +'*.lhe'\n",
    "    if DEBUG: print(_str)\n",
    "    try:\n",
    "        newest = max(glob.iglob(_str), key=os.path.getmtime)\n",
    "    except ValueError:\n",
    "        print(_str)\n",
    "        return None \n",
    "    label={}\n",
    "    label['Ci']=_Ci\n",
    "    return newest, label"
   ]
  },
  {
   "cell_type": "markdown",
   "metadata": {},
   "source": [
    "### Actual Analysis routine"
   ]
  },
  {
   "cell_type": "code",
   "execution_count": 543,
   "metadata": {
    "ExecuteTime": {
     "end_time": "2020-05-03T08:21:01.430951Z",
     "start_time": "2020-05-03T08:21:01.356554Z"
    },
    "init_cell": true
   },
   "outputs": [],
   "source": [
    "def analysis_WWjjlnu_inclusive(rules=modifiers1.default_one_particle_modifier, LHEfiles=None,debug=False, nPrint=4,stop_at=None,label=None):\n",
    "    # ARRAYS FOR OUTPUT\n",
    "    #obs_values=pd.DataFrame({},columns=['values','weight'])\n",
    "    #obs_values=[]\n",
    "    #LHEfiles=['nunujj_3TeV.whizard.lhe']\n",
    "\n",
    "    DEBUG=False\n",
    "    _hcl = HistogramContainer.HistogramContainerList(['SinStarLep','SinStarHad','pTjj','PhiE-InW-','PhiNuInW-','PhiUpQuarkInW-','PhiDownQuarkInW-'])\n",
    "    cuts_matrix=[]\n",
    "\n",
    "    for f in LHEfiles:\n",
    "        LHEfile=lhef.readLHE(f)\n",
    "        # LOOP\n",
    "        Nev=0\n",
    "        for event in LHEfile: # loop on the events\n",
    "            if stop_at is not None:\n",
    "                if Nev > stop_at:\n",
    "                    break\n",
    "\n",
    "            Nev=Nev+1\n",
    "            event.eventinfo.event_number = Nev\n",
    "            event.eventinfo.sample_label = label\n",
    "\n",
    "            # SMAER THE EVENT\n",
    "            # smeared_event = lhef.event_modifier_detector(event,rules,ran=[])#,inplace=False)\n",
    "            # MAKE SUB-EVETNS FOR ANALYSIS\n",
    "            jets_event=filters.filter_by_function(event=event,function=lambda x: abs(x.id)  in  [1,2], inplace=False)\n",
    "            leptons_event=filters.filter_by_function(event=event,function=lambda x: (abs(x.id)  in  [11,12] )and (x.status==1), inplace=False)\n",
    "            electrons_event=filters.filter_by_function(event=event,function=lambda x: (abs(x.id)  in  [11] )and (x.status==1), inplace=False)\n",
    "            neutrinos_event=filters.filter_by_function(event=event,function=lambda x: (abs(x.id)  in  [12] )and (x.status==1), inplace=False)\n",
    "            downs_event=filters.filter_by_function(event=event,function=lambda x: (abs(x.id)  in  [1] )and (x.status==1), inplace=False)\n",
    "            ups_event=filters.filter_by_function(event=event,function=lambda x: (abs(x.id)  in  [2] )and (x.status==1), inplace=False)\n",
    "            hadronic_W=lhef.sumLHEevents([jets_event],DEBUG=False)\n",
    "            #flt_Wbosons_event=filters.filter_by_function(event=Wbosons_event,function=lambda x: x.spin in [0] ,inplace=False)\n",
    "\n",
    "            \n",
    "            #flt_Wbosons_event=filters.sorted_by_function(event=Wbosons_event,function=lambda x: x.fourvector().perp(),inplace=False, requested=[0])\n",
    "            \n",
    "            #ZWsubSystem_event = lhef.outerLHEevents([flt_Wbosons_event,Zbosons_event])\n",
    "            \n",
    "            #Wbosons_event=filters.filter_by_function(event=Wbosons_event,function=lambda x: np.sin(x.fourvector().theta()) > np.sin(np.deg2rad(10)) , inplace=False)\n",
    "            if DEBUG: print('Njets=',len(jets_event.particles))\n",
    "            # COMPUTE CUTS\n",
    "            ##############################################\n",
    "            cuts_list=[\\\n",
    "                        #observables.compute_obs_estensively(observables.number,[Wbosons_event],output=_hcl.list_of_histograms['NW'],operation=lhef.identiyLHEevents,return_value=True,check_value={'relation':utils.eq,'threshold':2,'which':all})\\\n",
    "                       #observables.compute_obs_estensively(observables.number,[flt_Wbosons_event],output=_hcl.list_of_histograms['NWlong'],operation=lhef.identiyLHEevents,return_value=True,check_value={'relation':utils.eq,'threshold':2,'which':all})\\\n",
    "                       #,observables.compute_obs_estensively(observables.perp,[Wbosons_event],output=_hcl.list_of_histograms['pTW'],operation=lhef.splitterLHEevents,return_value=True,check_value={'relation':utils.ge,'threshold':0,'which':all})\n",
    "                       #,observables.compute_obs_estensively(observables.invariant_mass,[jets_event],output=_hcl.list_of_histograms['Mjj'],operation=lhef.outerLHEevents,return_value=True,check_value={'relation':utils.lt,'threshold':100,'which':all})\\\n",
    "                       #,observables.compute_obs_estensively(observables.theta,[jets_event],output=_hcl.list_of_histograms['thetaj'],operation=lhef.splitterLHEevents,return_value=True,check_value={'relation':utils.bt,'threshold': [np.deg2rad(10),np.deg2rad(170)],'which':all})\\\n",
    "                       #,observables.compute_obs_estensively(observables.theta,[jets_event],output=_hcl.list_of_histograms['ThetaJJ'],operation=lhef.outerLHEevents,return_value=True,check_value={'relation':utils.ge,'threshold':0,'which':all})\\\n",
    "                       #,observables.compute_obs_estensively(observables.perp,[jets_event],output=_hcl.list_of_histograms['pTjj'],operation=lhef.outerLHEevents,return_value=True,check_value={'relation':utils.ge,'threshold':0,'which':all})\\\n",
    "                       #,observables.compute_obs_estensively(observables.energy,[jets_event],output=_hcl.list_of_histograms['Ejj'],operation=lhef.outerLHEevents,return_value=True,check_value={'relation':utils.ge,'threshold':0,'which':all})\\\n",
    "            #observables.compute_obs_estensively(observables.theta,[jets_event],output=theta_single_jet_H1,operation=lhef.splitterLHEevents,return_value=True,check_value={'relation':utils.ge,'threshold':0,'which':all})\n",
    "         ]\n",
    "\n",
    "            cuts_matrix.append(cuts_list)\n",
    "\n",
    "            if all(cuts_list) or len(cuts_list)==0:\n",
    "                if DEBUG: print('event passed')\n",
    "                observables.compute_obs_estensively(observables.SinThetaStar_of2,[leptons_event],output=_hcl.list_of_histograms['SinStarLep'],operation=lhef.outerLHEevents,return_value=True)\n",
    "                observables.compute_obs_estensively(observables.SinThetaStar_of2,[jets_event],output=_hcl.list_of_histograms['SinStarHad'],operation=lhef.outerLHEevents,return_value=True)\n",
    "                observables.compute_obs_estensively(observables.perp,[jets_event],output=_hcl.list_of_histograms['pTjj'],operation=lhef.outerLHEevents,return_value=True)\n",
    "                observables.compute_obs_estensively(observables.phi_wrt_ref, [electrons_event, hadronic_W], output=_hcl.list_of_histograms['PhiE-InW-'],operation=lhef.outerLHEevents,return_value=True)\n",
    "                observables.compute_obs_estensively(observables.phi_wrt_ref, [neutrinos_event, hadronic_W], output=_hcl.list_of_histograms['PhiNuInW-'],operation=lhef.outerLHEevents,return_value=True)\n",
    "                observables.compute_obs_estensively(observables.phi_wrt_ref, [downs_event, hadronic_W], output=_hcl.list_of_histograms['PhiDownQuarkInW-'],operation=lhef.outerLHEevents,return_value=True)\n",
    "                observables.compute_obs_estensively(observables.phi_wrt_ref, [ups_event, hadronic_W], output=_hcl.list_of_histograms['PhiUpQuarkInW-'],operation=lhef.outerLHEevents,return_value=True)\n",
    "                # observables.compute_obs_estensively(observables.invariant_mass,[Zbosons_event,flt_Wbosons_event],output=_hcl.list_of_histograms['mZW'],operation=lhef.outerLHEevents)\n",
    "                # CRAP observables.compute_obs_estensively(observables.invariant_mass,[ZWsubSystem_event],output=_hcl.list_of_histograms['mZW'],operation=lhef.mergeLHEevents,return_value=True)\n",
    "                #observables.compute_obs_estensively(observables.energy,[jets_event],output=_hcl.list_of_histograms['Ejj'],operation=lhef.outerLHEevents,return_value=True)\n",
    "                #observables.compute_obs_estensively(observables.invariant_mass,[jets_event],output=_hcl.list_of_histograms['Mjj'],operation=lhef.outerLHEevents,return_value=True)\n",
    "                #observables.compute_obs_estensively(observables.theta,[jets_event],output=_hcl.list_of_histograms['ThetaJJ'],operation=lhef.outerLHEevents,return_value=True)\n",
    "                #observables.compute_obs_estensively(observables.number,[jets_event],output=_hcl.list_of_histograms['Njet'],operation=lhef.identiyLHEevents,return_value=True)\n",
    "\n",
    "\n",
    "    return analyses.AnalysisResult(_hcl,cuts_matrix)"
   ]
  },
  {
   "cell_type": "markdown",
   "metadata": {
    "heading_collapsed": true
   },
   "source": [
    "### Actual Analysis routine REMOTE RAY function"
   ]
  },
  {
   "cell_type": "code",
   "execution_count": 544,
   "metadata": {
    "ExecuteTime": {
     "end_time": "2020-05-03T08:21:01.497356Z",
     "start_time": "2020-05-03T08:21:01.443702Z"
    },
    "hidden": true,
    "init_cell": true
   },
   "outputs": [],
   "source": [
    "@ray.remote\n",
    "def analysis_WWjjlnu_inclusiveRAY(rules=modifiers1.default_one_particle_modifier, LHEfiles=None,debug=False, nPrint=4,stop_at=None,label=None):\n",
    "    # ARRAYS FOR OUTPUT\n",
    "    #obs_values=pd.DataFrame({},columns=['values','weight'])\n",
    "    #obs_values=[]\n",
    "    #LHEfiles=['nunujj_3TeV.whizard.lhe']\n",
    "\n",
    "    DEBUG=False\n",
    "    _hcl = HistogramContainer.HistogramContainerList(['SinStarLep','SinStarHad','pTjj','PhiE-InW-','PhiNuInW-','PhiUpQuarkInW-','PhiDownQuarkInW-'])\n",
    "    cuts_matrix=[]\n",
    "\n",
    "    for f in LHEfiles:\n",
    "        LHEfile=lhef.readLHE(f)\n",
    "        # LOOP\n",
    "        Nev=0\n",
    "        for event in LHEfile: # loop on the events\n",
    "            if stop_at is not None:\n",
    "                if Nev > stop_at:\n",
    "                    break\n",
    "\n",
    "            Nev=Nev+1\n",
    "            event.eventinfo.event_number = Nev\n",
    "            event.eventinfo.sample_label = label\n",
    "\n",
    "            # SMAER THE EVENT\n",
    "            # smeared_event = lhef.event_modifier_detector(event,rules,ran=[])#,inplace=False)\n",
    "            # MAKE SUB-EVETNS FOR ANALYSIS\n",
    "            jets_event=filters.filter_by_function(event=event,function=lambda x: abs(x.id)  in  [1,2], inplace=False)\n",
    "            leptons_event=filters.filter_by_function(event=event,function=lambda x: (abs(x.id)  in  [11,12] )and (x.status==1), inplace=False)\n",
    "            electrons_event=filters.filter_by_function(event=event,function=lambda x: (abs(x.id)  in  [11] )and (x.status==1), inplace=False)\n",
    "            neutrinos_event=filters.filter_by_function(event=event,function=lambda x: (abs(x.id)  in  [12] )and (x.status==1), inplace=False)\n",
    "            downs_event=filters.filter_by_function(event=event,function=lambda x: (abs(x.id)  in  [1] )and (x.status==1), inplace=False)\n",
    "            ups_event=filters.filter_by_function(event=event,function=lambda x: (abs(x.id)  in  [2] )and (x.status==1), inplace=False)\n",
    "            hadronic_W=lhef.sumLHEevents([jets_event],DEBUG=False)\n",
    "            #flt_Wbosons_event=filters.filter_by_function(event=Wbosons_event,function=lambda x: x.spin in [0] ,inplace=False)\n",
    "\n",
    "            \n",
    "            #flt_Wbosons_event=filters.sorted_by_function(event=Wbosons_event,function=lambda x: x.fourvector().perp(),inplace=False, requested=[0])\n",
    "            \n",
    "            #ZWsubSystem_event = lhef.outerLHEevents([flt_Wbosons_event,Zbosons_event])\n",
    "            \n",
    "            #Wbosons_event=filters.filter_by_function(event=Wbosons_event,function=lambda x: np.sin(x.fourvector().theta()) > np.sin(np.deg2rad(10)) , inplace=False)\n",
    "            if DEBUG: print('Njets=',len(jets_event.particles))\n",
    "            # COMPUTE CUTS\n",
    "            ##############################################\n",
    "            cuts_list=[\\\n",
    "                        #observables.compute_obs_estensively(observables.number,[Wbosons_event],output=_hcl.list_of_histograms['NW'],operation=lhef.identiyLHEevents,return_value=True,check_value={'relation':utils.eq,'threshold':2,'which':all})\\\n",
    "                       #observables.compute_obs_estensively(observables.number,[flt_Wbosons_event],output=_hcl.list_of_histograms['NWlong'],operation=lhef.identiyLHEevents,return_value=True,check_value={'relation':utils.eq,'threshold':2,'which':all})\\\n",
    "                       #,observables.compute_obs_estensively(observables.perp,[Wbosons_event],output=_hcl.list_of_histograms['pTW'],operation=lhef.splitterLHEevents,return_value=True,check_value={'relation':utils.ge,'threshold':0,'which':all})\n",
    "                       #,observables.compute_obs_estensively(observables.invariant_mass,[jets_event],output=_hcl.list_of_histograms['Mjj'],operation=lhef.outerLHEevents,return_value=True,check_value={'relation':utils.lt,'threshold':100,'which':all})\\\n",
    "                       #,observables.compute_obs_estensively(observables.theta,[jets_event],output=_hcl.list_of_histograms['thetaj'],operation=lhef.splitterLHEevents,return_value=True,check_value={'relation':utils.bt,'threshold': [np.deg2rad(10),np.deg2rad(170)],'which':all})\\\n",
    "                       #,observables.compute_obs_estensively(observables.theta,[jets_event],output=_hcl.list_of_histograms['ThetaJJ'],operation=lhef.outerLHEevents,return_value=True,check_value={'relation':utils.ge,'threshold':0,'which':all})\\\n",
    "                       #,observables.compute_obs_estensively(observables.perp,[jets_event],output=_hcl.list_of_histograms['pTjj'],operation=lhef.outerLHEevents,return_value=True,check_value={'relation':utils.ge,'threshold':0,'which':all})\\\n",
    "                       #,observables.compute_obs_estensively(observables.energy,[jets_event],output=_hcl.list_of_histograms['Ejj'],operation=lhef.outerLHEevents,return_value=True,check_value={'relation':utils.ge,'threshold':0,'which':all})\\\n",
    "            #observables.compute_obs_estensively(observables.theta,[jets_event],output=theta_single_jet_H1,operation=lhef.splitterLHEevents,return_value=True,check_value={'relation':utils.ge,'threshold':0,'which':all})\n",
    "         ]\n",
    "\n",
    "            cuts_matrix.append(cuts_list)\n",
    "\n",
    "            if all(cuts_list) or len(cuts_list)==0:\n",
    "                if DEBUG: print('event passed')\n",
    "                observables.compute_obs_estensively(observables.SinThetaStar_of2,[leptons_event],output=_hcl.list_of_histograms['SinStarLep'],operation=lhef.outerLHEevents,return_value=True)\n",
    "                observables.compute_obs_estensively(observables.SinThetaStar_of2,[jets_event],output=_hcl.list_of_histograms['SinStarHad'],operation=lhef.outerLHEevents,return_value=True)\n",
    "                observables.compute_obs_estensively(observables.perp,[jets_event],output=_hcl.list_of_histograms['pTjj'],operation=lhef.outerLHEevents,return_value=True)\n",
    "                observables.compute_obs_estensively(observables.phi_wrt_ref, [electrons_event, hadronic_W], output=_hcl.list_of_histograms['PhiE-InW-'],operation=lhef.outerLHEevents,return_value=True)\n",
    "                observables.compute_obs_estensively(observables.phi_wrt_ref, [neutrinos_event, hadronic_W], output=_hcl.list_of_histograms['PhiNuInW-'],operation=lhef.outerLHEevents,return_value=True)\n",
    "                observables.compute_obs_estensively(observables.phi_wrt_ref, [downs_event, hadronic_W], output=_hcl.list_of_histograms['PhiDownQuarkInW-'],operation=lhef.outerLHEevents,return_value=True)\n",
    "                observables.compute_obs_estensively(observables.phi_wrt_ref, [ups_event, hadronic_W], output=_hcl.list_of_histograms['PhiUpQuarkInW-'],operation=lhef.outerLHEevents,return_value=True)\n",
    "                # observables.compute_obs_estensively(observables.invariant_mass,[Zbosons_event,flt_Wbosons_event],output=_hcl.list_of_histograms['mZW'],operation=lhef.outerLHEevents)\n",
    "                # CRAP observables.compute_obs_estensively(observables.invariant_mass,[ZWsubSystem_event],output=_hcl.list_of_histograms['mZW'],operation=lhef.mergeLHEevents,return_value=True)\n",
    "                #observables.compute_obs_estensively(observables.energy,[jets_event],output=_hcl.list_of_histograms['Ejj'],operation=lhef.outerLHEevents,return_value=True)\n",
    "                #observables.compute_obs_estensively(observables.invariant_mass,[jets_event],output=_hcl.list_of_histograms['Mjj'],operation=lhef.outerLHEevents,return_value=True)\n",
    "                #observables.compute_obs_estensively(observables.theta,[jets_event],output=_hcl.list_of_histograms['ThetaJJ'],operation=lhef.outerLHEevents,return_value=True)\n",
    "                #observables.compute_obs_estensively(observables.number,[jets_event],output=_hcl.list_of_histograms['Njet'],operation=lhef.identiyLHEevents,return_value=True)\n",
    "\n",
    "\n",
    "    return analyses.AnalysisResult(_hcl,cuts_matrix)"
   ]
  },
  {
   "cell_type": "markdown",
   "metadata": {},
   "source": [
    "### *** Ray Remote Wrapper "
   ]
  },
  {
   "cell_type": "markdown",
   "metadata": {},
   "source": [
    "The idea of a wrapper is to define a function that has the `remote` decorator from ray and calls a standard function that has been developed for the analysis. \n",
    "\n",
    "This allows to keep unchanged any previously defined analysis (or whatever other type of) functions in the codebase and easily transform them in remote ray functions. This is particularly handy when we need to make remote functions from the functions defined in modules, such as `observables.compute_obs_estensively` or `filters.filter_by_function`."
   ]
  },
  {
   "cell_type": "markdown",
   "metadata": {},
   "source": [
    "- TODO Find a way to pass docstring and argument lists if possible\n",
    "- https://docs.python.org/3/library/functools.html#functools.wraps"
   ]
  },
  {
   "cell_type": "markdown",
   "metadata": {
    "heading_collapsed": true
   },
   "source": [
    "#### In a nutshell the wrapper function takes a dictionary of arguments to be passed by reference to the actual analysis function"
   ]
  },
  {
   "cell_type": "code",
   "execution_count": 545,
   "metadata": {
    "ExecuteTime": {
     "end_time": "2020-05-03T08:21:01.566394Z",
     "start_time": "2020-05-03T08:21:01.540706Z"
    },
    "hidden": true,
    "init_cell": true
   },
   "outputs": [],
   "source": [
    "@ray.remote\n",
    "def analysis_WWjjlnu_inclusiveJITRAY(kwArgs):\n",
    "    return _analysis_WWjjlnu_inclusive(**kwArgs)"
   ]
  },
  {
   "cell_type": "code",
   "execution_count": null,
   "metadata": {
    "ExecuteTime": {
     "end_time": "2019-06-13T17:05:28.617842Z",
     "start_time": "2019-06-13T17:05:28.614941Z"
    },
    "hidden": true
   },
   "outputs": [],
   "source": [
    "def _analysis_WWjjlnu_inclusive(rules=modifiers1.default_one_particle_modifier, LHEfiles=None,debug=False, nPrint=4,stop_at=None,label=None,**kwArgs):\n",
    "    print(nPrint)"
   ]
  },
  {
   "cell_type": "code",
   "execution_count": null,
   "metadata": {
    "ExecuteTime": {
     "end_time": "2019-06-13T17:05:37.820309Z",
     "start_time": "2019-06-13T17:05:37.813355Z"
    },
    "hidden": true
   },
   "outputs": [],
   "source": [
    "analysis_WWjjlnu_inclusiveJITRAY.remote({'nPrint':2})"
   ]
  },
  {
   "cell_type": "markdown",
   "metadata": {
    "ExecuteTime": {
     "end_time": "2019-06-13T14:14:10.081139Z",
     "start_time": "2019-06-13T14:14:10.078568Z"
    },
    "heading_collapsed": true,
    "hidden": true
   },
   "source": [
    "##### Trying to inherit argument with functools "
   ]
  },
  {
   "cell_type": "code",
   "execution_count": null,
   "metadata": {
    "ExecuteTime": {
     "end_time": "2019-06-13T16:06:16.559373Z",
     "start_time": "2019-06-13T16:06:16.556030Z"
    },
    "hidden": true
   },
   "outputs": [],
   "source": [
    "from functools import wraps"
   ]
  },
  {
   "cell_type": "code",
   "execution_count": null,
   "metadata": {
    "ExecuteTime": {
     "end_time": "2019-06-13T14:46:04.197799Z",
     "start_time": "2019-06-13T14:46:04.194462Z"
    },
    "hidden": true
   },
   "outputs": [],
   "source": [
    "def __analysis_WWjjlnu_inclusive(rules=modifiers1.default_one_particle_modifier, LHEfiles=None,debug=False, nPrint=4,stop_at=None,label=None,**kwArgs):\n",
    "    print(nPrint)"
   ]
  },
  {
   "cell_type": "code",
   "execution_count": null,
   "metadata": {
    "ExecuteTime": {
     "end_time": "2019-06-13T16:06:21.069552Z",
     "start_time": "2019-06-13T16:06:21.059740Z"
    },
    "hidden": true
   },
   "outputs": [],
   "source": [
    "def f(opt=1):\n",
    "    '''\n",
    "    The docstring of f\n",
    "    '''\n",
    "    print(opt)\n",
    "    return opt"
   ]
  },
  {
   "cell_type": "code",
   "execution_count": null,
   "metadata": {
    "ExecuteTime": {
     "end_time": "2019-06-13T16:02:45.607162Z",
     "start_time": "2019-06-13T16:02:45.601908Z"
    },
    "hidden": true
   },
   "outputs": [],
   "source": [
    "?example"
   ]
  },
  {
   "cell_type": "code",
   "execution_count": null,
   "metadata": {
    "ExecuteTime": {
     "end_time": "2019-06-13T16:06:36.042194Z",
     "start_time": "2019-06-13T16:06:36.038437Z"
    },
    "hidden": true
   },
   "outputs": [],
   "source": [
    "def my_decorator(f):\n",
    "    @wraps(f)\n",
    "    def wrapper(*args, **kwds):\n",
    "        print('Calling decorated function')\n",
    "        return f(*args, **kwds)\n",
    "    return wrapper"
   ]
  },
  {
   "cell_type": "code",
   "execution_count": null,
   "metadata": {
    "ExecuteTime": {
     "end_time": "2019-06-13T16:06:34.297110Z",
     "start_time": "2019-06-13T16:06:34.294660Z"
    },
    "hidden": true
   },
   "outputs": [],
   "source": [
    "@my_decorator\n",
    "def example():\n",
    "    print('Called example function')"
   ]
  },
  {
   "cell_type": "code",
   "execution_count": null,
   "metadata": {
    "ExecuteTime": {
     "end_time": "2019-06-13T16:06:39.639479Z",
     "start_time": "2019-06-13T16:06:39.636392Z"
    },
    "hidden": true,
    "scrolled": true
   },
   "outputs": [],
   "source": [
    "example()"
   ]
  },
  {
   "cell_type": "code",
   "execution_count": null,
   "metadata": {
    "ExecuteTime": {
     "end_time": "2019-06-13T16:06:42.146971Z",
     "start_time": "2019-06-13T16:06:42.129912Z"
    },
    "hidden": true
   },
   "outputs": [],
   "source": [
    "??example"
   ]
  },
  {
   "cell_type": "markdown",
   "metadata": {},
   "source": [
    "### Run Serial"
   ]
  },
  {
   "cell_type": "code",
   "execution_count": null,
   "metadata": {
    "ExecuteTime": {
     "end_time": "2019-06-09T19:47:24.641116Z",
     "start_time": "2019-06-09T19:47:24.445513Z"
    }
   },
   "outputs": [],
   "source": [
    "analysisResult={}"
   ]
  },
  {
   "cell_type": "code",
   "execution_count": null,
   "metadata": {
    "ExecuteTime": {
     "end_time": "2019-06-10T16:07:56.911545Z",
     "start_time": "2019-06-10T16:06:50.564396Z"
    }
   },
   "outputs": [],
   "source": [
    "energies=[1500]\n",
    "cWs=[0,1e-10]\n",
    "for energy in energies:\n",
    "    for cW in cWs:\n",
    "        _file, _label = file_ee2ww2udev(energy,cW)\n",
    "        print(_file)\n",
    "        analysisResult[json.dumps(_label)] = analysis_WWjjlnu_inclusive(LHEfiles=[_file],label=_label,stop_at=10000)\n",
    "        del _file, _label"
   ]
  },
  {
   "cell_type": "markdown",
   "metadata": {},
   "source": [
    "- the serial execution takes 66 seconds for 10K events"
   ]
  },
  {
   "cell_type": "markdown",
   "metadata": {},
   "source": [
    "### Run Ray-Parallel (prototyping)"
   ]
  },
  {
   "cell_type": "markdown",
   "metadata": {
    "ExecuteTime": {
     "end_time": "2019-06-10T16:08:33.568114Z",
     "start_time": "2019-06-10T16:08:33.564354Z"
    }
   },
   "source": [
    "- the raw running takes 30 seconds when run in parallel"
   ]
  },
  {
   "cell_type": "code",
   "execution_count": null,
   "metadata": {
    "ExecuteTime": {
     "end_time": "2019-06-13T17:08:37.941795Z",
     "start_time": "2019-06-13T17:08:37.524951Z"
    }
   },
   "outputs": [],
   "source": [
    "analysis_WWjjlnu_inclusive(LHEfiles=['LHEfiles/run1_of_2__ebeam1_1500_ebeam2_1500_ptheavy_750.0_G3L_1e-10__2019-03-12--11-50_ee2ww2udev_run2_ebeam1_1500_ebeam2_1500_ptheavy_750.0_G3L_1e-10.lhe'],label='file_ee2ww2udev(1500,cW)[1]',stop_at=100)"
   ]
  },
  {
   "cell_type": "code",
   "execution_count": null,
   "metadata": {
    "ExecuteTime": {
     "end_time": "2019-06-13T17:08:55.468517Z",
     "start_time": "2019-06-13T17:08:55.456308Z"
    }
   },
   "outputs": [],
   "source": [
    "analysis_WWjjlnu_inclusiveRAYnested.remote(LHEfiles=['LHEfiles/run1_of_2__ebeam1_1500_ebeam2_1500_ptheavy_750.0_G3L_1e-10__2019-03-12--11-50_ee2ww2udev_run2_ebeam1_1500_ebeam2_1500_ptheavy_750.0_G3L_1e-10.lhe'],label='file_ee2ww2udev(1500,cW)[1]',stop_at=100)"
   ]
  },
  {
   "cell_type": "code",
   "execution_count": null,
   "metadata": {
    "ExecuteTime": {
     "end_time": "2019-06-10T16:09:10.790777Z",
     "start_time": "2019-06-10T16:08:37.817325Z"
    }
   },
   "outputs": [],
   "source": [
    "_A = analysis_WWjjlnu_inclusiveRAY.remote(LHEfiles=['LHEfiles/run2_of_2__ebeam1_1500_ebeam2_1500_ptheavy_750.0_G3L_0__2019-03-12--11-50_ee2ww2udev_run3_ebeam1_1500_ebeam2_1500_ptheavy_750.0_G3L_0.lhe'],label='file_ee2ww2udev(1500,cW)[1]',stop_at=10000)\n",
    "_B = analysis_WWjjlnu_inclusiveRAY.remote(LHEfiles=['LHEfiles/run1_of_2__ebeam1_1500_ebeam2_1500_ptheavy_750.0_G3L_1e-10__2019-03-12--11-50_ee2ww2udev_run2_ebeam1_1500_ebeam2_1500_ptheavy_750.0_G3L_1e-10.lhe'],label='file_ee2ww2udev(1500,cW)[1]',stop_at=10000)\n",
    "\n",
    "ray.get([_A,_B])"
   ]
  },
  {
   "cell_type": "markdown",
   "metadata": {},
   "source": [
    "![Screenshot%202019-06-10%2018.09.06.png](Screenshot%202019-06-10%2018.09.06.png)"
   ]
  },
  {
   "cell_type": "markdown",
   "metadata": {},
   "source": [
    "- can be put to run into a list to later `ray.get` the whole list at once (not each single element!)"
   ]
  },
  {
   "cell_type": "code",
   "execution_count": null,
   "metadata": {
    "ExecuteTime": {
     "end_time": "2019-06-10T16:05:02.409256Z",
     "start_time": "2019-06-10T16:04:59.257441Z"
    }
   },
   "outputs": [],
   "source": [
    "cWs=[0,1e-10]\n",
    "ray.get([ analysis_WWjjlnu_inclusiveRAY.remote(LHEfiles=[file_ee2ww2udev(1500,cW)[0]],label=file_ee2ww2udev(1500,cW)[1],stop_at=1000) for cW in cWs ])"
   ]
  },
  {
   "cell_type": "markdown",
   "metadata": {},
   "source": [
    "- can put things in a list of IDs to be later retrieved"
   ]
  },
  {
   "cell_type": "code",
   "execution_count": null,
   "metadata": {
    "ExecuteTime": {
     "end_time": "2019-06-11T12:56:46.791922Z",
     "start_time": "2019-06-11T12:56:10.919093Z"
    }
   },
   "outputs": [],
   "source": [
    "#energies=[1500]\n",
    "cWs=[0,1e-10]\n",
    "#for energy in energies:\n",
    "\n",
    "value_ids = [] # To store the ObjectID of each remote function call\n",
    "# https://stackoverflow.com/questions/51673310/remote-ray-call-not-detecting-function-arguments\n",
    "\n",
    "for cW in cWs:\n",
    "     value_ids.append(analysis_WWjjlnu_inclusiveRAY.remote(LHEfiles=[file_ee2ww2udev(1500,cW)[0]],label=file_ee2ww2udev(1500,cW)[1],stop_at=10000))\n",
    "ray.get(value_ids)"
   ]
  },
  {
   "cell_type": "markdown",
   "metadata": {
    "heading_collapsed": true
   },
   "source": [
    "#### It is possible to handle the labeling system"
   ]
  },
  {
   "cell_type": "markdown",
   "metadata": {
    "hidden": true
   },
   "source": [
    "Steps are \n",
    "1. Create the container\n",
    "2. Submit the calculations\n",
    "3. Get the results and store them in the container. Note that this part will blocl the kernel until the get operation can be fully completed"
   ]
  },
  {
   "cell_type": "code",
   "execution_count": null,
   "metadata": {
    "ExecuteTime": {
     "end_time": "2019-06-12T12:53:17.650048Z",
     "start_time": "2019-06-12T12:53:17.504424Z"
    },
    "hidden": true
   },
   "outputs": [],
   "source": [
    "# 1\n",
    "analysisResult={}"
   ]
  },
  {
   "cell_type": "code",
   "execution_count": null,
   "metadata": {
    "ExecuteTime": {
     "end_time": "2019-06-12T13:29:47.627079Z",
     "start_time": "2019-06-12T13:29:47.612437Z"
    },
    "hidden": true
   },
   "outputs": [],
   "source": [
    "#2\n",
    "cWs=[0,1e-10,-1e-10,'1e-9','-1e-9']\n",
    "\n",
    "value_ids = [] # To store the ObjectID of each remote function call\n",
    "\n",
    "for cW in cWs:\n",
    "    _file, _label = file_ee2ww2udev(1500,cW)\n",
    "    print(_file)\n",
    "    value_ids.append([json.dumps(_label), analysis_WWjjlnu_inclusiveRAY.remote(LHEfiles=[file_ee2ww2udev(1500,cW)[0]],label=file_ee2ww2udev(1500,cW)[1],stop_at=10000)] ) \n",
    "    del _file, _label\n"
   ]
  },
  {
   "cell_type": "code",
   "execution_count": null,
   "metadata": {
    "ExecuteTime": {
     "end_time": "2019-06-12T12:55:05.497901Z",
     "start_time": "2019-06-12T12:54:22.692211Z"
    },
    "hidden": true
   },
   "outputs": [],
   "source": [
    "#3 Blocking for the time the Kernel will be busy finishing the operations associated to these ObjectsID\n",
    "for run in value_ids:\n",
    "    analysisResult[run[0]]=ray.get(run[1])"
   ]
  },
  {
   "cell_type": "markdown",
   "metadata": {
    "heading_collapsed": true,
    "hidden": true
   },
   "source": [
    "##### attempt to make the retrival non-blocking by doing the get as a remote function"
   ]
  },
  {
   "cell_type": "code",
   "execution_count": null,
   "metadata": {
    "ExecuteTime": {
     "end_time": "2019-06-12T12:57:07.234574Z",
     "start_time": "2019-06-12T12:57:07.219055Z"
    },
    "hidden": true
   },
   "outputs": [],
   "source": [
    "@ray.remote\n",
    "def get_values_from_rayIDlist(value_ids,analysisResult):\n",
    "    for run in value_ids:\n",
    "        analysisResult[run[0]]=ray.get(run[1])\n",
    "        print(\"Finished ObjectID: \",run[1])\n",
    "    return analysisResult"
   ]
  },
  {
   "cell_type": "code",
   "execution_count": null,
   "metadata": {
    "ExecuteTime": {
     "end_time": "2019-06-12T12:50:41.443479Z",
     "start_time": "2019-06-12T12:50:41.441005Z"
    },
    "hidden": true
   },
   "outputs": [],
   "source": [
    "analysisResultRemote={}"
   ]
  },
  {
   "cell_type": "code",
   "execution_count": null,
   "metadata": {
    "ExecuteTime": {
     "end_time": "2019-06-12T12:57:12.275395Z",
     "start_time": "2019-06-12T12:57:12.271168Z"
    },
    "hidden": true
   },
   "outputs": [],
   "source": [
    "_getid=get_values_from_rayIDlist.remote(value_ids,analysisResultRemote)"
   ]
  },
  {
   "cell_type": "code",
   "execution_count": null,
   "metadata": {
    "ExecuteTime": {
     "end_time": "2019-06-12T12:58:15.041007Z",
     "start_time": "2019-06-12T12:58:13.979213Z"
    },
    "hidden": true
   },
   "outputs": [],
   "source": [
    "analysisResultRemote = ray.get(_getid)"
   ]
  },
  {
   "cell_type": "code",
   "execution_count": null,
   "metadata": {
    "ExecuteTime": {
     "end_time": "2019-06-12T12:58:15.707787Z",
     "start_time": "2019-06-12T12:58:15.695427Z"
    },
    "hidden": true
   },
   "outputs": [],
   "source": [
    "analysisResultRemote"
   ]
  },
  {
   "cell_type": "code",
   "execution_count": null,
   "metadata": {
    "ExecuteTime": {
     "end_time": "2019-06-12T13:02:27.325345Z",
     "start_time": "2019-06-12T13:02:27.319095Z"
    },
    "hidden": true
   },
   "outputs": [],
   "source": [
    "ray.global_state.cluster_resources()"
   ]
  },
  {
   "cell_type": "code",
   "execution_count": null,
   "metadata": {
    "ExecuteTime": {
     "end_time": "2019-06-12T13:02:28.510176Z",
     "start_time": "2019-06-12T13:02:28.456793Z"
    },
    "hidden": true
   },
   "outputs": [],
   "source": [
    "ray.global_state.available_resources()"
   ]
  },
  {
   "cell_type": "markdown",
   "metadata": {
    "heading_collapsed": true
   },
   "source": [
    "### Run Ray-Parallel (Submittng and retrieving from Dictionary, keeping labels, without blocking.)"
   ]
  },
  {
   "cell_type": "code",
   "execution_count": null,
   "metadata": {
    "ExecuteTime": {
     "end_time": "2019-06-12T13:41:30.237228Z",
     "start_time": "2019-06-12T13:41:30.234467Z"
    },
    "hidden": true
   },
   "outputs": [],
   "source": [
    "import ray"
   ]
  },
  {
   "cell_type": "code",
   "execution_count": null,
   "metadata": {
    "ExecuteTime": {
     "end_time": "2019-06-12T13:41:32.432914Z",
     "start_time": "2019-06-12T13:41:31.474982Z"
    },
    "hidden": true
   },
   "outputs": [],
   "source": [
    "ray.shutdown()\n",
    "ray.init()"
   ]
  },
  {
   "cell_type": "markdown",
   "metadata": {
    "hidden": true
   },
   "source": [
    "Steps are \n",
    "1. Create the container dictionary\n",
    "2. Submit the calculations\n",
    "3. Check the result with `ray.wait( , timeout=0)` and update the dictionary entry based on the status of completions of the run"
   ]
  },
  {
   "cell_type": "code",
   "execution_count": null,
   "metadata": {
    "ExecuteTime": {
     "end_time": "2019-06-12T13:44:16.303649Z",
     "start_time": "2019-06-12T13:44:16.300911Z"
    },
    "hidden": true
   },
   "outputs": [],
   "source": [
    "analysisResultID={}"
   ]
  },
  {
   "cell_type": "code",
   "execution_count": null,
   "metadata": {
    "ExecuteTime": {
     "end_time": "2019-06-12T13:57:42.459362Z",
     "start_time": "2019-06-12T13:57:42.427528Z"
    },
    "hidden": true
   },
   "outputs": [],
   "source": [
    "cWs=[0,1e-10,-1e-10,'1e-9']\n",
    "\n",
    "for cW in cWs:\n",
    "    _file, _label = file_ee2ww2udev(1500,cW)\n",
    "    print(_file)\n",
    "    # store ObjectsID in a dictionary\n",
    "    analysisResultID[json.dumps(_label)] = analysis_WWjjlnu_inclusiveRAY.remote(LHEfiles=[file_ee2ww2udev(1500,cW)[0]],label=file_ee2ww2udev(1500,cW)[1],stop_at=10000)\n",
    "    del _file, _label\n"
   ]
  },
  {
   "cell_type": "code",
   "execution_count": null,
   "metadata": {
    "ExecuteTime": {
     "end_time": "2019-06-12T13:57:46.097207Z",
     "start_time": "2019-06-12T13:57:45.846762Z"
    },
    "hidden": true
   },
   "outputs": [],
   "source": [
    "cWs=['-1e-9']\n",
    "\n",
    "for cW in cWs:\n",
    "    _file, _label = file_ee2ww2udev(1500,cW)\n",
    "    print(_file)\n",
    "    # store ObjectsID in a dictionary\n",
    "    analysisResultID[json.dumps(_label)] = analysis_WWjjlnu_inclusiveRAY.remote(LHEfiles=[file_ee2ww2udev(1500,cW)[0]],label=file_ee2ww2udev(1500,cW)[1],stop_at=10000)\n",
    "    del _file, _label\n"
   ]
  },
  {
   "cell_type": "markdown",
   "metadata": {
    "ExecuteTime": {
     "end_time": "2019-06-12T13:41:45.050429Z",
     "start_time": "2019-06-12T13:41:45.042131Z"
    },
    "hidden": true
   },
   "source": [
    "moved into utils\n",
    "```python\n",
    "def check_RayObjectsIdDict(analysisResult, DEBUG=False):\n",
    "    remaining_ids=0\n",
    "    for k in analysisResult:\n",
    "        if type(analysisResult[k]) is ray._raylet.ObjectID: # the item in the list is not yet ready or not yet retrived\n",
    "            if DEBUG: print(k,' is still ObjectId',analysisResult[k])\n",
    "            # check if this ID is ready\n",
    "            ready_ids, _remaining_ids = ray.wait([analysisResult[k]],timeout=0)\n",
    "            remaining_ids+=len(_remaining_ids)\n",
    "            if len(ready_ids)>0:\n",
    "                if DEBUG: print(k ,' is ready at ID', ready_ids)\n",
    "                analysisResult[k] = ray.get(analysisResult[k])\n",
    "                \n",
    "    print(remaining_ids, ' ID still remaining')\n",
    "    #return analysisResult\n",
    " ``` "
   ]
  },
  {
   "cell_type": "code",
   "execution_count": null,
   "metadata": {
    "ExecuteTime": {
     "end_time": "2019-06-12T13:57:49.411949Z",
     "start_time": "2019-06-12T13:57:49.404981Z"
    },
    "hidden": true
   },
   "outputs": [],
   "source": [
    "utils.check_RayObjectsIdDict(analysisResultID, DEBUG=True)"
   ]
  },
  {
   "cell_type": "code",
   "execution_count": null,
   "metadata": {
    "ExecuteTime": {
     "end_time": "2019-06-12T13:57:51.695695Z",
     "start_time": "2019-06-12T13:57:51.690400Z"
    },
    "hidden": true
   },
   "outputs": [],
   "source": [
    "analysisResultID"
   ]
  },
  {
   "cell_type": "code",
   "execution_count": null,
   "metadata": {
    "ExecuteTime": {
     "end_time": "2019-06-12T13:58:06.369615Z",
     "start_time": "2019-06-12T13:58:06.361844Z"
    },
    "hidden": true
   },
   "outputs": [],
   "source": [
    "utils.check_RayObjectsIdDict(analysisResultID, DEBUG=True)"
   ]
  },
  {
   "cell_type": "code",
   "execution_count": null,
   "metadata": {
    "ExecuteTime": {
     "end_time": "2019-06-12T13:58:08.940801Z",
     "start_time": "2019-06-12T13:58:08.935824Z"
    },
    "hidden": true
   },
   "outputs": [],
   "source": [
    "analysisResultID"
   ]
  },
  {
   "cell_type": "code",
   "execution_count": null,
   "metadata": {
    "ExecuteTime": {
     "end_time": "2019-06-12T14:00:54.614185Z",
     "start_time": "2019-06-12T14:00:53.327265Z"
    },
    "hidden": true
   },
   "outputs": [],
   "source": [
    "utils.check_RayObjectsIdDict(analysisResultID, DEBUG=True)"
   ]
  },
  {
   "cell_type": "code",
   "execution_count": null,
   "metadata": {
    "ExecuteTime": {
     "end_time": "2019-06-12T14:00:57.203009Z",
     "start_time": "2019-06-12T14:00:57.198843Z"
    },
    "hidden": true
   },
   "outputs": [],
   "source": [
    "analysisResultID"
   ]
  },
  {
   "cell_type": "markdown",
   "metadata": {
    "heading_collapsed": true
   },
   "source": [
    "### Run Ray-Parallel (Submittng and retrieving from __List__, keeping labels, without blocking.)"
   ]
  },
  {
   "cell_type": "markdown",
   "metadata": {
    "hidden": true
   },
   "source": [
    "- can put things in a list of IDs to be later retrieved"
   ]
  },
  {
   "cell_type": "code",
   "execution_count": null,
   "metadata": {
    "ExecuteTime": {
     "end_time": "2019-06-13T13:59:18.710467Z",
     "start_time": "2019-06-13T13:59:18.705365Z"
    },
    "hidden": true
   },
   "outputs": [],
   "source": [
    "#energies=[1500]\n",
    "cWs=[0,1e-10]\n",
    "#for energy in energies:\n",
    "\n",
    "value_ids = [] # To store the ObjectID of each remote function call\n",
    "# https://stackoverflow.com/questions/51673310/remote-ray-call-not-detecting-function-arguments\n",
    "\n",
    "for cW in cWs:\n",
    "     value_ids.append(analysis_WWjjlnu_inclusiveRAY.remote(LHEfiles=[file_ee2ww2udev(1500,cW)[0]],label=file_ee2ww2udev(1500,cW)[1],stop_at=10000))"
   ]
  },
  {
   "cell_type": "code",
   "execution_count": null,
   "metadata": {
    "ExecuteTime": {
     "end_time": "2019-06-13T13:59:50.380851Z",
     "start_time": "2019-06-13T13:59:19.817188Z"
    },
    "hidden": true
   },
   "outputs": [],
   "source": [
    "utils.wait_for_ray_iterable(value_ids,method=utils.check_RayObjectsIdList,DEBUG=True)"
   ]
  },
  {
   "cell_type": "code",
   "execution_count": null,
   "metadata": {
    "ExecuteTime": {
     "end_time": "2019-06-13T14:01:18.430230Z",
     "start_time": "2019-06-13T14:01:18.426496Z"
    },
    "hidden": true
   },
   "outputs": [],
   "source": [
    "utils.check_RayObjectsIdList(value_ids, DEBUG=False)"
   ]
  },
  {
   "cell_type": "code",
   "execution_count": null,
   "metadata": {
    "ExecuteTime": {
     "end_time": "2019-06-13T14:01:19.501064Z",
     "start_time": "2019-06-13T14:01:19.497083Z"
    },
    "hidden": true
   },
   "outputs": [],
   "source": [
    "value_ids"
   ]
  },
  {
   "cell_type": "code",
   "execution_count": null,
   "metadata": {
    "ExecuteTime": {
     "end_time": "2019-06-13T09:11:17.766578Z",
     "start_time": "2019-06-13T09:11:17.763402Z"
    },
    "hidden": true
   },
   "outputs": [],
   "source": [
    "check_RayObjectsIdList(value_ids, DEBUG=True)"
   ]
  },
  {
   "cell_type": "code",
   "execution_count": null,
   "metadata": {
    "ExecuteTime": {
     "end_time": "2019-06-13T09:11:18.640786Z",
     "start_time": "2019-06-13T09:11:18.636487Z"
    },
    "hidden": true
   },
   "outputs": [],
   "source": [
    "value_ids"
   ]
  },
  {
   "cell_type": "markdown",
   "metadata": {},
   "source": [
    "### Wrapper Run Ray-Parallel (Submittng and retrieving from __List__, keeping labels, without blocking.)"
   ]
  },
  {
   "cell_type": "markdown",
   "metadata": {},
   "source": [
    "- can put things in a list of IDs to be later retrieved"
   ]
  },
  {
   "cell_type": "code",
   "execution_count": 546,
   "metadata": {
    "ExecuteTime": {
     "end_time": "2020-05-03T08:21:01.592017Z",
     "start_time": "2020-05-03T08:21:01.584357Z"
    },
    "init_cell": true
   },
   "outputs": [],
   "source": [
    "@ray.remote\n",
    "def analysis_WWjjlnu_inclusiveJITRAY(kwArgs):\n",
    "    return analysis_WWjjlnu_inclusive(**kwArgs)"
   ]
  },
  {
   "cell_type": "code",
   "execution_count": 32,
   "metadata": {
    "ExecuteTime": {
     "end_time": "2019-06-14T12:55:43.619593Z",
     "start_time": "2019-06-14T12:55:43.608693Z"
    }
   },
   "outputs": [],
   "source": [
    "#energies=[1500]\n",
    "cWs=[0,1e-10]\n",
    "#for energy in energies:\n",
    "\n",
    "value_ids = [] # To store the ObjectID of each remote function call\n",
    "# https://stackoverflow.com/questions/51673310/remote-ray-call-not-detecting-function-arguments\n",
    "\n",
    "for cW in cWs:\n",
    "     value_ids.append(analysis_WWjjlnu_inclusiveJITRAY.remote({'LHEfiles':[file_ee2ww2udev(1500,cW)[0]],'label':file_ee2ww2udev(1500,cW)[1],'stop_at':10000}))"
   ]
  },
  {
   "cell_type": "code",
   "execution_count": 33,
   "metadata": {
    "ExecuteTime": {
     "end_time": "2019-06-14T12:56:20.707070Z",
     "start_time": "2019-06-14T12:55:44.956826Z"
    }
   },
   "outputs": [
    {
     "name": "stdout",
     "output_type": "stream",
     "text": [
      "35.746342182159424 seconds\n"
     ]
    }
   ],
   "source": [
    "utils.wait_for_ray_iterable(value_ids,method=utils.check_RayObjectsIdList, DEBUG=True)"
   ]
  },
  {
   "cell_type": "code",
   "execution_count": null,
   "metadata": {
    "ExecuteTime": {
     "end_time": "2019-06-13T17:44:15.883731Z",
     "start_time": "2019-06-13T17:44:15.878162Z"
    }
   },
   "outputs": [],
   "source": [
    "utils.check_RayObjectsIdList(value_ids, DEBUG=True)"
   ]
  },
  {
   "cell_type": "code",
   "execution_count": null,
   "metadata": {
    "ExecuteTime": {
     "end_time": "2019-06-13T17:44:17.462191Z",
     "start_time": "2019-06-13T17:44:17.458005Z"
    }
   },
   "outputs": [],
   "source": [
    "value_ids"
   ]
  },
  {
   "cell_type": "markdown",
   "metadata": {
    "heading_collapsed": true
   },
   "source": [
    "# Histograms Analysis"
   ]
  },
  {
   "cell_type": "markdown",
   "metadata": {
    "hidden": true
   },
   "source": [
    "## Spectrum Maker"
   ]
  },
  {
   "cell_type": "code",
   "execution_count": null,
   "metadata": {
    "ExecuteTime": {
     "end_time": "2019-05-30T09:50:18.379742Z",
     "start_time": "2019-05-30T09:50:18.366192Z"
    },
    "hidden": true
   },
   "outputs": [],
   "source": [
    "def spectrum(_var='pTW',xla=None,cWs=[0,1e-12],_ebeam=15000,file=file_ee2ww,cuts='exclusive',bins=None,yscale='linear'):\n",
    "    sqrtSstr=str(int(2*_ebeam/1000))\n",
    "    if bins is None:\n",
    "        bins=utils.arange(0,1*_ebeam,_ebeam/10)\n",
    "    mplHistoMulplipleTuple = plt.hist([ v( getattr(analysisResult[json.dumps( file(_ebeam,_cw)[1] )].histograms.list_of_histograms[_var],cuts) ) for _cw in cWs ],\\\n",
    "                                bins=bins,density=False,log=False,histtype='step',label=map(lambda x: '$c_{HW} \\cdot $TeV$^2=$'+str(x), cWs))\n",
    "    histos = nc.Numpy1DHistogramsData(tup = mplHistoMulplipleTuple)\n",
    "    plt.title(\"$\\\\sqrt{s}=\"+sqrtSstr+\"$ TeV $e^+e^- \\\\to\\;  WW$\"+' '+cuts)\n",
    "    #xla=\"$p_{T,W}$\"\n",
    "    plt.xlabel(xla)\n",
    "    plt.ylabel(\"$dσ/d$\"+xla)\n",
    "    #plt.legend(loc=3)\n",
    "    plt.legend(bbox_to_anchor=[1,1])\n",
    "    plt.yscale(yscale)\n",
    "    plt.savefig(_var+'_'+cuts+'_'+sqrtSstr+'_TeV'+'.pdf',bbox_inches='tight')\n",
    "    plt.show()\n",
    "    return histos"
   ]
  },
  {
   "cell_type": "markdown",
   "metadata": {},
   "source": [
    "# Panda Analysis"
   ]
  },
  {
   "cell_type": "markdown",
   "metadata": {},
   "source": [
    "## CreateDataframe(energies=None, cWs=None,box=None,filenames=None)"
   ]
  },
  {
   "cell_type": "code",
   "execution_count": null,
   "metadata": {
    "ExecuteTime": {
     "end_time": "2019-06-09T19:55:41.190177Z",
     "start_time": "2019-06-09T19:55:41.185497Z"
    }
   },
   "outputs": [],
   "source": [
    "_p_final=pd.DataFrame()"
   ]
  },
  {
   "cell_type": "code",
   "execution_count": null,
   "metadata": {
    "ExecuteTime": {
     "end_time": "2019-06-09T19:55:43.240963Z",
     "start_time": "2019-06-09T19:55:43.234707Z"
    }
   },
   "outputs": [],
   "source": [
    "def CreateDataframe(energies=None, cWs=None,box=None,filenames=None,observables=None):\n",
    "    \n",
    "    if (filenames is not None) and (box is not None) and (observables is not None):\n",
    "        _p_final=pd.DataFrame()\n",
    "        for _energy in energies:\n",
    "            for _cW in cWs:\n",
    "                #_ebeam=1500\n",
    "                #_cW=0\n",
    "                #newDF = newDF.append(oldDF, ignore_index = True) # ignoring index is optional\n",
    "                _file, _label = filenames(_energy,_cW)\n",
    "                label = json.dumps( _label )\n",
    "                _p_Temp = analyses.analysis_result_to_pandas(analysis_result=analysisResult[label], names=observables)\n",
    "                _p_Temp['ebeam']=_energy\n",
    "                _p_Temp['cW']=_cW\n",
    "                _p_Temp['label']=label\n",
    "                _p_final = _p_final.append(_p_Temp)\n",
    "\n",
    "\n",
    "        _p_final['AbsCosStarHad']=np.sqrt(np.abs(1-_p_final['SinStarHad']**2) )\n",
    "        _p_final['AbsCosStarLep']=np.sqrt(np.abs(1-_p_final['SinStarLep']**2) )\n",
    "        _p_final['c^2+s^2'] = _p_final['AbsCosStarHad']**2+_p_final['SinStarHad']**2\n",
    "\n",
    "        _p_final['ratio1ratio2']=(1-_p_final['AbsCosStarHad']**2)/(1+_p_final['AbsCosStarHad']**2)*(1-_p_final['AbsCosStarLep']**2)/(1+_p_final['AbsCosStarLep']**2)\n",
    "        return _p_final\n"
   ]
  },
  {
   "cell_type": "code",
   "execution_count": null,
   "metadata": {
    "ExecuteTime": {
     "end_time": "2019-06-09T19:56:05.051495Z",
     "start_time": "2019-06-09T19:56:03.194736Z"
    }
   },
   "outputs": [],
   "source": [
    "_p_final=CreateDataframe(energies=[1500], cWs=[0], filenames=file_ee2ww2udev, box=analysisResult,observables=['pTjj','SinStarHad','SinStarLep','PhiE-InW-','PhiNuInW-','PhiDownQuarkInW-','PhiUpQuarkInW-'])"
   ]
  },
  {
   "cell_type": "code",
   "execution_count": null,
   "metadata": {
    "ExecuteTime": {
     "end_time": "2019-06-09T19:56:05.107193Z",
     "start_time": "2019-06-09T19:56:05.053523Z"
    }
   },
   "outputs": [],
   "source": [
    "_p_final.info()"
   ]
  },
  {
   "cell_type": "code",
   "execution_count": null,
   "metadata": {
    "ExecuteTime": {
     "end_time": "2019-06-09T19:37:10.929307Z",
     "start_time": "2019-06-09T19:37:10.887837Z"
    }
   },
   "outputs": [],
   "source": [
    "_p_final[(_p_final['cW']==0) & (_p_final['ebeam']==1500)].info()"
   ]
  },
  {
   "cell_type": "markdown",
   "metadata": {},
   "source": [
    "## Histrogram from Pandas"
   ]
  },
  {
   "cell_type": "code",
   "execution_count": null,
   "metadata": {
    "ExecuteTime": {
     "end_time": "2019-06-09T19:43:38.047488Z",
     "start_time": "2019-06-09T19:43:38.040517Z"
    }
   },
   "outputs": [],
   "source": [
    "def histoPlotfromPandas(data,x='0',y=None,title='title',xlabel='xlabel',ylabel='ylabel',query='query',ax=None,weights=None,DEBUG=False,cbar_label=None,**optArgs):\n",
    "    hist2D=False\n",
    "    if weights is not None:\n",
    "        weights=data[weights]\n",
    "    if not ax:\n",
    "        ax = plt.gca()\n",
    "    if DEBUG: print(len(data[x]))\n",
    "    if DEBUG: print(len(data[y]))\n",
    "    if DEBUG: print(len(weights))\n",
    "        \n",
    "    if y is None:\n",
    "        _histo = plt.hist( data[x], weights=weights, **optArgs)\n",
    "    else:\n",
    "        if type(y) is str:\n",
    "            hist2D=True\n",
    "            _histo = plt.hist2d( data[x],data[y], weights=weights, **optArgs)\n",
    "                             #bins = bins,normed=normed,cmap='Blues', range=[[0,1],[0,1]])\n",
    "    plt.title(title)\n",
    "    plt.xlabel(xlabel)\n",
    "    plt.ylabel(ylabel)\n",
    "    if hist2D:\n",
    "        plt.colorbar(label=cbar_label)\n",
    "    #plt.show()\n",
    "\n",
    "    npc_histo = nc.NumpyHistogramData(tup=_histo)\n",
    "    npc_histo.label=query\n",
    "    \n",
    "    if hist2D:\n",
    "        npc_histo.snake = utils.snake_flatten_matrix(histo2Dbsm.counts)\n",
    "        npc_histo.snakebins,histo2Dbsm.snakelabels = utils.snake_bins(histo2Dbsm,op=lambda x,y: '('+'{:.2g}'.format(x)+','+\"{:.2g}\".format(y)+')')\n",
    "    \n",
    "    return npc_histo\n"
   ]
  },
  {
   "cell_type": "markdown",
   "metadata": {},
   "source": [
    "## 1D Plot data from Pandas"
   ]
  },
  {
   "cell_type": "code",
   "execution_count": null,
   "metadata": {
    "ExecuteTime": {
     "end_time": "2019-06-09T19:59:40.464951Z",
     "start_time": "2019-06-09T19:59:40.038101Z"
    }
   },
   "outputs": [],
   "source": [
    "_ebeam=1500\n",
    "_cw=0\n",
    "_data=_p_final.query('ebeam=='+str(_ebeam)).query('cW=='+str(_cw))\n",
    "ax=histoPlotfromPandas(_data,x='PhiNuInW-',histtype='step',label=r'$\\bar{\\nu}$')\n",
    "histoPlotfromPandas(_data,x='PhiE-InW-',ax=ax,histtype='step',label='$e^-$')\n",
    "histoPlotfromPandas(_data,x='PhiUpQuarkInW-',ax=ax,histtype='step',label='$u$')\n",
    "histoPlotfromPandas(_data,x='PhiDownQuarkInW-',ax=ax,histtype='step',label=r'$\\bar{d}$',xlabel=r'$\\phi$ w.r.t $W^-$',ylabel='Counts',title=r'rotated frame with $\\hat{z}$ along $W^-$')\n",
    "plt.legend(bbox_to_anchor=[1,1])"
   ]
  },
  {
   "cell_type": "code",
   "execution_count": null,
   "metadata": {
    "ExecuteTime": {
     "end_time": "2019-06-08T18:55:49.597762Z",
     "start_time": "2019-06-08T18:55:49.592014Z"
    }
   },
   "outputs": [],
   "source": [
    "_data['PhiE-InW-'].max()"
   ]
  },
  {
   "cell_type": "code",
   "execution_count": null,
   "metadata": {
    "ExecuteTime": {
     "end_time": "2019-06-08T18:55:54.949095Z",
     "start_time": "2019-06-08T18:55:54.943386Z"
    }
   },
   "outputs": [],
   "source": [
    "_data['PhiE-InW-'].min()"
   ]
  },
  {
   "cell_type": "markdown",
   "metadata": {},
   "source": [
    "## 2D Plot data from Pandas"
   ]
  },
  {
   "cell_type": "markdown",
   "metadata": {},
   "source": [
    "####  histoPlot2D(data,x='0',y='1',title='title',xlabel='xlabel',ylabel='ylabel',query='query',weights=None,DEBUG=False,cbar_label=None,**optArgs)"
   ]
  },
  {
   "cell_type": "markdown",
   "metadata": {},
   "source": [
    "#### Run analysis with extra cuts (e.g. in pTjj)"
   ]
  },
  {
   "cell_type": "code",
   "execution_count": null,
   "metadata": {
    "ExecuteTime": {
     "end_time": "2019-06-03T22:10:00.457379Z",
     "start_time": "2019-06-03T22:10:00.420467Z"
    },
    "scrolled": true
   },
   "outputs": [],
   "source": [
    "_p_final"
   ]
  },
  {
   "cell_type": "code",
   "execution_count": null,
   "metadata": {
    "ExecuteTime": {
     "end_time": "2019-06-03T22:14:42.016631Z",
     "start_time": "2019-06-03T22:14:41.974875Z"
    }
   },
   "outputs": [],
   "source": [
    "mydata.info()"
   ]
  },
  {
   "cell_type": "code",
   "execution_count": null,
   "metadata": {
    "ExecuteTime": {
     "end_time": "2019-06-05T11:42:15.680115Z",
     "start_time": "2019-06-05T11:42:15.598958Z"
    }
   },
   "outputs": [],
   "source": [
    "len(mydata['label'].unique())"
   ]
  },
  {
   "cell_type": "code",
   "execution_count": null,
   "metadata": {
    "ExecuteTime": {
     "end_time": "2019-06-05T12:11:18.027610Z",
     "start_time": "2019-06-05T12:11:18.010797Z"
    }
   },
   "outputs": [],
   "source": [
    "def make_npc_histograms(data=None,x=None, y=None, weights=None,cWs=None,ebeam=None,pTjj_ratio=0.5,\\\n",
    "                        histofunction=histoPlot2D,bins=[utils.linspace(0,1,0.25),utils.linspace(0,1,0.25)],query_list=None, DEBUG=False):\n",
    "    '''\n",
    "    - query_list is a list of queries that will internally be converted in a single string \n",
    "        e.g. ['ebeam==15000','cW==0','pTjj>7500'] \n",
    "        the default is None, which will make a ebeam, cW pTjj query from the optional inputs\n",
    "    '''\n",
    "\n",
    "    _ebeam=ebeam\n",
    "    _pTjj=pTjj_ratio*_ebeam\n",
    "    \n",
    "    list_of_histograms2d=[]\n",
    "    npc_histos=nc.NumpyVectorHistogramData()\n",
    "    histo2D={}    \n",
    "    \n",
    "    for _cw in cWs:\n",
    "        if DEBUG: print('C_W:',cW)\n",
    "        #if query_list is None:\n",
    "        query_list=['ebeam=='+str(_ebeam),'cW=='+str(_cw),'pTjj>'+str(_pTjj)]\n",
    "        query='&'.join(query_list)\n",
    "        print('query: ',query)\n",
    "        #mydata=_p_final.query('ebeam=='+str(_ebeam)).query('cW=='+str(_cw)).query('pTjj>'+str(_pTjj))\n",
    "        mydata=_p_final.query(query)\n",
    "        \n",
    "        base_data_selection=mydata['label'].unique()\n",
    "        if len(base_data_selection) ==1:\n",
    "            print('base data selection: ', base_data_selection)\n",
    "            # using the strategy of translativing a string of operations into a dictionary check_value={'relation':utils.ge,'threshold':0,'which':all}\n",
    "            # it should be possible to deal with the selection and the base_selection in a uniform way\n",
    "            # allowing to *extend the base selection* to include new cuts\n",
    "            #         if check_value is not None: # it is a cut\n",
    "            #             bool_result = check_value['which']([ utils.test( {**_r,**check_value} ) for _r in _result ])\n",
    "            \n",
    "        histo2D[_cw]=histofunction(mydata,x=x,y=y,weights=weights,bins=bins, density=False, cmap='Blues',\\\n",
    "                  xlabel=\"$cos\\\\theta_{\\\\ell\\\\nu}^*$\",\\\n",
    "                  ylabel=\"$cos\\\\theta_{qq'}^*$\",\\\n",
    "                  cbar_label='Cross-section in ab',\\\n",
    "                  title=\"$e^+e^- \\\\to WW \\quad\\\\sqrt{s}=$\"+str(int(2*_ebeam/1000))+\" TeV $\\\\quad C_W \\\\cdot$TeV$^2=$\"+str(_cw),\\\n",
    "                                   query=query,\\\n",
    "                                   DEBUG=False)\n",
    "        \n",
    "\n",
    "        \n",
    "        list_of_histograms2d=list_of_histograms2d+[histo2D[_cw]]\n",
    "    #\n",
    "    npc_histos.histograms=list_of_histograms2d\n",
    "    return npc_histos"
   ]
  },
  {
   "cell_type": "code",
   "execution_count": null,
   "metadata": {
    "ExecuteTime": {
     "end_time": "2019-06-05T12:11:23.852403Z",
     "start_time": "2019-06-05T12:11:18.799606Z"
    }
   },
   "outputs": [],
   "source": [
    "print(cWs)\n",
    "npc_histos=make_npc_histograms(data=_p_final,x='AbsCosStarHad',y='AbsCosStarLep',weights='weight',cWs=cWs,ebeam=15000,pTjj_ratio=0.5)"
   ]
  },
  {
   "cell_type": "markdown",
   "metadata": {},
   "source": [
    "#### Fits bin-by-bin (prepare data)"
   ]
  },
  {
   "cell_type": "code",
   "execution_count": null,
   "metadata": {
    "ExecuteTime": {
     "end_time": "2019-06-04T00:14:08.733287Z",
     "start_time": "2019-06-04T00:14:08.724941Z"
    }
   },
   "outputs": [],
   "source": [
    "npc_histos.histograms[0].snake"
   ]
  },
  {
   "cell_type": "code",
   "execution_count": null,
   "metadata": {
    "ExecuteTime": {
     "end_time": "2019-06-05T11:39:19.907210Z",
     "start_time": "2019-06-05T11:39:19.900512Z"
    }
   },
   "outputs": [],
   "source": [
    "npc_histos.histograms[0].label"
   ]
  },
  {
   "cell_type": "code",
   "execution_count": null,
   "metadata": {
    "ExecuteTime": {
     "end_time": "2019-06-05T12:09:25.703590Z",
     "start_time": "2019-06-05T12:09:25.691974Z"
    }
   },
   "outputs": [],
   "source": [
    "def histograms_to_pandas(npc_histos, DEBUG=False):\n",
    "    _p=pd.DataFrame()\n",
    "    for npc_histo in npc_histos.histograms:\n",
    "        # The label of the histogram is a new object, that extends the label of the file it has been analyzed.\n",
    "        # Best approach would be to extend the label from the file. \n",
    "        _query=list(map( lambda x: re.split(\"[>=]+\",x)  , ((npc_histo.label).split('&')) ) )\n",
    "        #print(_query)\n",
    "\n",
    "        d_query={}\n",
    "        for el in _query:\n",
    "            if DEBUG: print(el)\n",
    "            d_query[el[0]]=pd.to_numeric(el[1])\n",
    "\n",
    "        for el,val in enumerate(npc_histo.snake):\n",
    "            _name='Bin '+str(el)+' in ab'\n",
    "            d_query[_name]=val\n",
    "            d_query['Delta '+_name]=val/np.sqrt(10**5)\n",
    "        #print(d_query)\n",
    "\n",
    "        _p=_p.append(pd.DataFrame.from_dict([d_query]),ignore_index=True)\n",
    "        _p['G3L times TeV^2']=_p['cW']*10**6\n",
    "        if DEBUG: print(_p)\n",
    "    return _p    "
   ]
  },
  {
   "cell_type": "code",
   "execution_count": null,
   "metadata": {
    "ExecuteTime": {
     "end_time": "2019-06-05T12:12:04.627936Z",
     "start_time": "2019-06-05T12:12:04.596493Z"
    }
   },
   "outputs": [],
   "source": [
    "p_bins=histograms_to_pandas(npc_histos, DEBUG=False)"
   ]
  },
  {
   "cell_type": "code",
   "execution_count": null,
   "metadata": {
    "ExecuteTime": {
     "end_time": "2019-06-05T12:03:24.900129Z",
     "start_time": "2019-06-05T12:03:24.893508Z"
    },
    "scrolled": true
   },
   "outputs": [],
   "source": [
    "p_bins['cW'][0]"
   ]
  },
  {
   "cell_type": "code",
   "execution_count": null,
   "metadata": {
    "ExecuteTime": {
     "end_time": "2019-06-05T12:03:29.912943Z",
     "start_time": "2019-06-05T12:03:29.906485Z"
    }
   },
   "outputs": [],
   "source": [
    "p_bins['Bin 4 in ab'][0]"
   ]
  },
  {
   "cell_type": "code",
   "execution_count": null,
   "metadata": {
    "ExecuteTime": {
     "end_time": "2019-06-05T12:12:08.352320Z",
     "start_time": "2019-06-05T12:12:08.338050Z"
    }
   },
   "outputs": [],
   "source": [
    "p_bins.info()"
   ]
  },
  {
   "cell_type": "code",
   "execution_count": null,
   "metadata": {
    "ExecuteTime": {
     "end_time": "2019-06-05T12:12:10.879579Z",
     "start_time": "2019-06-05T12:12:10.852019Z"
    },
    "scrolled": true
   },
   "outputs": [],
   "source": [
    "p_bins"
   ]
  },
  {
   "cell_type": "markdown",
   "metadata": {},
   "source": [
    "#### Fits bin-by-bin"
   ]
  },
  {
   "cell_type": "code",
   "execution_count": null,
   "metadata": {
    "ExecuteTime": {
     "end_time": "2019-06-03T23:15:57.189506Z",
     "start_time": "2019-06-03T23:15:57.180305Z"
    }
   },
   "outputs": [],
   "source": [
    "def luminosity(eb): # the process generated is w+ > u d~, w- > e- ve~  *3 leptons *2 quarks *2 charges\n",
    "    if eb==1500:\n",
    "        return 2*(3*2*2)*0.5 # 0.5 beam strahlubng\n",
    "    if eb==15000:\n",
    "        return 10*(eb/5000)**2*(3*2*2)\n",
    "    if eb==7000:\n",
    "        return 10*(eb/5000)**2*(3*2*2)\n",
    "    if eb==3000: \n",
    "        return 10*(eb/5000)**2*(3*2*2)"
   ]
  },
  {
   "cell_type": "code",
   "execution_count": null,
   "metadata": {
    "ExecuteTime": {
     "end_time": "2019-06-05T12:06:45.066915Z",
     "start_time": "2019-06-05T12:06:45.049583Z"
    }
   },
   "outputs": [],
   "source": [
    "def SigmaBinVsG3L(sqrtS=30000,bin_number=0,ptheavy=0.5,data=None,DEBUG=False):\n",
    "\n",
    "    _bin=bin_number\n",
    "    eb=sqrtS/2\n",
    "    ptheavy=eb*ptheavy\n",
    "\n",
    "    _y='Bin '+str(_bin)+' in ab'\n",
    "    _xcol='G3L times TeV^2'\n",
    "\n",
    "    def _fit(x,const,lin,quad):\n",
    "        return const+x*lin+quad*(x**2)\n",
    "    def _fit(x,const,lin):\n",
    "        return const+x*lin#+quad*(x**2)\n",
    "\n",
    "    _data=data #mush become a function that calls the section abvoe!\n",
    "\n",
    "    if DEBUG: print(_data)\n",
    "    \n",
    "    fit_res = utils.fit_pandas_data(_fit,_data,x=_xcol,y=_y,significant_digits=1,weights='Delta '+_y)\n",
    "    print(fit_res.raw_parameters)\n",
    "    print(fit_res.refined_parameters)\n",
    "    print(fit_res.covariance)\n",
    "\n",
    "    #lab=(\"$  %s  +  %s \\\\cdot x + %s \\\\cdot x^2 $\" % tuple( fit_res.refined_parameters  )).replace('\\\\times','\\\\cdot')\n",
    "\n",
    "    lab=(str(bin_number)+\": $  %s  +  %s \\\\cdot x  $\" % tuple( fit_res.refined_parameters  )).replace('\\\\times','\\\\cdot')\n",
    "    print(lab)\n",
    "\n",
    "    _xdata=_xcol\n",
    "    _ydata=_y\n",
    "    _x=2*np.linspace(min(_data[_xdata]),max(_data[_xdata]) )\n",
    "    plt.plot(_data[_xdata], _data[_ydata],'d')\n",
    "    #plt.plot(_x, _fit( _x , fit_res.parameters[0],fit_res.parameters[1], fit_res.parameters[2] ),'c-', label=lab )\n",
    "    plt.plot(_x, _fit( _x , *fit_res.parameters ), label=lab ) #c-\n",
    "\n",
    "    plt.legend(bbox_to_anchor=[1,1])\n",
    "    plt.xlabel('$G3L\\cdot TeV^2$')\n",
    "    plt.ylabel(_ydata)\n",
    "    #plt.axvline(x=4.7, color='gray', linestyle=':',label='$y_{b,SM}$')\n",
    "    plt.xscale('linear')\n",
    "    plt.title('$\\\\ell^+\\\\ell^- \\\\to W^+W^-\\\\to u \\\\bar{d} e^- \\\\bar{\\\\nu} \\\\quad \\\\sqrt{s}=$'+str(int(sqrtS/1000))+' TeV $p_{T,jj}>$'+str(ptheavy/1000)+' TeV')\n",
    "    plt.savefig('SigmaVsYb_sqrtS_'+str(int(sqrtS/1000))+'.pdf',bbox_inches='tight')\n",
    "    #del sqrtS\n",
    "    return fit_res"
   ]
  },
  {
   "cell_type": "code",
   "execution_count": null,
   "metadata": {
    "ExecuteTime": {
     "end_time": "2019-06-05T12:12:29.480996Z",
     "start_time": "2019-06-05T12:12:28.933888Z"
    }
   },
   "outputs": [],
   "source": [
    "SigmaBinVsG3L(sqrtS=30000,bin_number=0,ptheavy=0.5,data=p_bins,DEBUG=False)"
   ]
  },
  {
   "cell_type": "markdown",
   "metadata": {},
   "source": [
    "#### Single bin limit"
   ]
  },
  {
   "cell_type": "code",
   "execution_count": null,
   "metadata": {
    "ExecuteTime": {
     "end_time": "2019-06-05T12:24:35.378049Z",
     "start_time": "2019-06-05T12:24:35.372857Z"
    }
   },
   "outputs": [],
   "source": [
    "mybin=0"
   ]
  },
  {
   "cell_type": "code",
   "execution_count": null,
   "metadata": {
    "ExecuteTime": {
     "end_time": "2019-06-05T12:24:56.066087Z",
     "start_time": "2019-06-05T12:24:55.519430Z"
    }
   },
   "outputs": [],
   "source": [
    "fit_bin=SigmaBinVsG3L(sqrtS=30000,bin_number=mybin,ptheavy=0.5,data=p_bins)"
   ]
  },
  {
   "cell_type": "code",
   "execution_count": null,
   "metadata": {
    "ExecuteTime": {
     "end_time": "2019-06-05T12:25:07.178776Z",
     "start_time": "2019-06-05T12:25:07.141812Z"
    }
   },
   "outputs": [],
   "source": [
    "fit_res=fit_bin\n",
    "_lumi=luminosity(eb)\n",
    "del c95\n",
    "c95 = sp.symbols('c95',real=False,positive=False)\n",
    "SMcontribution=_lumi*fit_res.bestfit(0)\n",
    "print('Expected events in the SM',SMcontribution )\n",
    "fluctuation=2*np.sqrt( _lumi*fit_res.bestfit(0)) \n",
    "deviation=  sp.Abs( _lumi*(fit_res.bestfit(c95) - fit_res.bestfit(0)) )\n",
    "expression=fluctuation - deviation\n",
    "\n",
    "sols = sp.solveset( sp.Eq(deviation,fluctuation) ,c95,domain=sp.S.Reals)\n",
    "print('solutions:',sols)\n",
    "phys_sols=sorted(sols, key=lambda x: np.abs(x) )[0:2]\n",
    "\n",
    "deviation.collect(c95)\n",
    "print('deviation(s): ', list(map(lambda s: deviation.subs(c95,s), phys_sols)) )\n",
    "g95inverseroot=list(map(lambda x: sp.sign(x)/sp.sqrt(sp.Abs(x)), phys_sols ) )\n",
    "\n",
    "print('$G3L^{-1/2}$'+'@95%CL=', g95inverseroot )\n",
    "utils.typeset('G_{3L}^{-1/2} = '+str(g95inverseroot)+\"$ TeV$ \")\n",
    "\n",
    "BSMcontributions=np.array([ _lumi*(fit_res.bestfit(cc)-fit_res.bestfit(0)) for cc in phys_sols ])\n",
    "print('Expected events  BSM - SM', BSMcontributions)\n",
    "BSMcontributions/SMcontribution"
   ]
  },
  {
   "cell_type": "code",
   "execution_count": null,
   "metadata": {
    "ExecuteTime": {
     "end_time": "2019-06-05T12:26:09.818974Z",
     "start_time": "2019-06-05T12:26:09.456294Z"
    }
   },
   "outputs": [],
   "source": [
    "cmin=min(phys_sols)*(1-0.2*np.sign(min(phys_sols)))\n",
    "cmax=max(phys_sols)*(1+0.2*np.sign(max(phys_sols)))\n",
    "utils.Plot(deviation,c95,cmin,cmax,fmt='-',PlotPoints=50)\n",
    "utils.Plot(fluctuation,None,cmin,cmax,fmt='-',lower_xtick_density=2,x_tick_rotation=90,xscilimits=(-1,1))\n",
    "#plt.ticklabel_format(style='sci', axis='x', scilimits=(0,0))\n",
    "plt.xlabel('\\n$G_{3L} \\cdot \\\\rm TeV^2$')\n",
    "plt.ylabel('$\\\\mathcal{L}\\\\cdot \\\\left|  \\\\sigma_{BSM}-\\\\sigma_{SM} \\\\right| $')"
   ]
  },
  {
   "cell_type": "markdown",
   "metadata": {},
   "source": [
    "#### All bins combined"
   ]
  },
  {
   "cell_type": "code",
   "execution_count": null,
   "metadata": {
    "ExecuteTime": {
     "end_time": "2019-06-05T12:22:38.343687Z",
     "start_time": "2019-06-05T12:22:34.612670Z"
    }
   },
   "outputs": [],
   "source": [
    "c95 = sp.symbols('c95',real=True)#,positive=False)\n",
    "chiSquare= sp.symbols('chiSquare',real=True)\n",
    "chiSquare=0\n",
    "for bn in range(9):\n",
    "    fit_bin=SigmaBinVsG3L(sqrtS=30000,bin_number=bn,ptheavy=0.5,data=p_bins)\n",
    "    fit_res=fit_bin\n",
    "    _lumi=luminosity(eb)\n",
    "    chiSquare+= (sp.Abs( _lumi*(fit_res.bestfit(c95) - fit_res.bestfit(0)) )**2)/(4*_lumi*fit_res.bestfit(0))"
   ]
  },
  {
   "cell_type": "code",
   "execution_count": null,
   "metadata": {
    "ExecuteTime": {
     "end_time": "2019-06-05T12:23:16.607825Z",
     "start_time": "2019-06-05T12:23:16.581867Z"
    }
   },
   "outputs": [],
   "source": [
    "chiSquare.subs(c95,0)\n",
    "sols = sp.solveset( sp.Eq(chiSquare -  chiSquare.subs(c95,0) , 1) ,c95,domain=sp.S.Reals)\n",
    "print('solutions:',sols)\n",
    "phys_sols=sorted(sols, key=lambda x: np.abs(x) )[0:2]\n",
    "g95inverseroot=list(map(lambda x: sp.sign(x)/sp.sqrt(sp.Abs(x)), phys_sols ) )\n",
    "print('$G3L^{-1/2}$'+'@95%CL=', g95inverseroot ,' TeV using all the bins')\n",
    "utils.typeset('G_{3L}^{-1/2}$'+'@95%CL='+ str( g95inverseroot) +' TeV using all the bins')"
   ]
  },
  {
   "cell_type": "markdown",
   "metadata": {
    "heading_collapsed": true
   },
   "source": [
    "#### Snake-ratio"
   ]
  },
  {
   "cell_type": "code",
   "execution_count": null,
   "metadata": {
    "ExecuteTime": {
     "end_time": "2019-06-03T19:18:08.570097Z",
     "start_time": "2019-06-03T19:18:08.563856Z"
    },
    "hidden": true
   },
   "outputs": [],
   "source": [
    "snake_ratios=nc.ratioList(npc_histos,wrt=0,counts='snake',bins='snakebins',uncertainties='Gauss')"
   ]
  },
  {
   "cell_type": "code",
   "execution_count": null,
   "metadata": {
    "ExecuteTime": {
     "end_time": "2019-06-03T19:19:43.350946Z",
     "start_time": "2019-06-03T19:19:43.031278Z"
    },
    "hidden": true
   },
   "outputs": [],
   "source": [
    "nc.histoPlots(snake_ratios,bins='snakebins',counts='snake',subset=[1,4])"
   ]
  },
  {
   "cell_type": "code",
   "execution_count": null,
   "metadata": {
    "ExecuteTime": {
     "end_time": "2019-06-03T19:20:03.572391Z",
     "start_time": "2019-06-03T19:20:03.237318Z"
    },
    "hidden": true
   },
   "outputs": [],
   "source": [
    "nc.histoPlots(snake_ratios,bins='snakebins',counts='snake',subset=[2,3])"
   ]
  },
  {
   "cell_type": "markdown",
   "metadata": {
    "heading_collapsed": true
   },
   "source": [
    "#### 2D ratio"
   ]
  },
  {
   "cell_type": "code",
   "execution_count": null,
   "metadata": {
    "ExecuteTime": {
     "end_time": "2019-06-03T19:22:31.362713Z",
     "start_time": "2019-06-03T19:22:31.356187Z"
    },
    "hidden": true
   },
   "outputs": [],
   "source": [
    "twoD_ratios=nc.ratioList(npc_histos,wrt=0,uncertainties='Gauss')"
   ]
  },
  {
   "cell_type": "code",
   "execution_count": null,
   "metadata": {
    "ExecuteTime": {
     "end_time": "2019-06-03T19:43:46.879488Z",
     "start_time": "2019-06-03T19:43:46.872905Z"
    },
    "hidden": true
   },
   "outputs": [],
   "source": [
    "twoD_ratios.histograms[1].label"
   ]
  },
  {
   "cell_type": "code",
   "execution_count": null,
   "metadata": {
    "ExecuteTime": {
     "end_time": "2019-06-03T19:44:10.274941Z",
     "start_time": "2019-06-03T19:44:09.982774Z"
    },
    "hidden": true
   },
   "outputs": [],
   "source": [
    "utils.histo2D(twoD_ratios.histograms[1],cmap='bwr')\n",
    "plt.title(twoD_ratios.histograms[1].label)"
   ]
  },
  {
   "cell_type": "code",
   "execution_count": null,
   "metadata": {
    "ExecuteTime": {
     "end_time": "2019-06-02T22:56:42.671722Z",
     "start_time": "2019-06-02T22:56:42.666524Z"
    },
    "hidden": true
   },
   "outputs": [],
   "source": [
    "_ratio = nc.ratioH1overH2( histo2D[0],histo2D[-1e-12])"
   ]
  },
  {
   "cell_type": "code",
   "execution_count": null,
   "metadata": {
    "ExecuteTime": {
     "end_time": "2019-06-02T23:10:47.501204Z",
     "start_time": "2019-06-02T23:10:47.493974Z"
    },
    "hidden": true
   },
   "outputs": [],
   "source": [
    "histo2D[0].snake/histo2D[-1e-12].snake"
   ]
  },
  {
   "cell_type": "code",
   "execution_count": null,
   "metadata": {
    "ExecuteTime": {
     "end_time": "2019-06-02T23:11:02.831546Z",
     "start_time": "2019-06-02T23:11:02.826257Z"
    },
    "hidden": true
   },
   "outputs": [],
   "source": [
    "_ratio = nc.ratioH1overH2( histo2D[0],histo2D[-1e-12])"
   ]
  },
  {
   "cell_type": "code",
   "execution_count": null,
   "metadata": {
    "ExecuteTime": {
     "end_time": "2019-06-02T23:11:03.763588Z",
     "start_time": "2019-06-02T23:11:03.495285Z"
    },
    "hidden": true
   },
   "outputs": [],
   "source": [
    "utils.histo2D(_ratio.counts,_ratio.bins[0],_ratio.bins[1],cmap='bwr')"
   ]
  },
  {
   "cell_type": "markdown",
   "metadata": {
    "heading_collapsed": true
   },
   "source": [
    "#### Old"
   ]
  },
  {
   "cell_type": "code",
   "execution_count": null,
   "metadata": {
    "ExecuteTime": {
     "end_time": "2019-05-30T13:50:04.078025Z",
     "start_time": "2019-05-30T13:50:03.744263Z"
    },
    "hidden": true
   },
   "outputs": [],
   "source": [
    "_cw=0\n",
    "_ebeam=1500\n",
    "mydata=_p_final.query('ebeam=='+str(_ebeam)).query('cW=='+str(_cw))\n",
    "histo2Dsm=histoPlot2D(mydata,x='AbsCosStarHad',y='AbsCosStarLep',bins = [3,3], normed=True, cmap='Blues',xlabel=\"$cos\\\\theta_{\\\\ell\\\\nu}^*$\",\\\n",
    "              ylabel=\"$cos\\\\theta_{qq'}^*$\",title=\"$e^+e^- \\\\to WW \\quad\\\\sqrt{s}=$\"+str(int(2*_ebeam/1000))\\\n",
    "              +\" TeV $\\\\quad C_W \\\\cdot$TeV$^2=$\"+str(_cw))"
   ]
  },
  {
   "cell_type": "code",
   "execution_count": null,
   "metadata": {
    "ExecuteTime": {
     "end_time": "2019-05-30T13:50:05.720226Z",
     "start_time": "2019-05-30T13:50:05.712547Z"
    },
    "hidden": true
   },
   "outputs": [],
   "source": [
    "(histo2Dbsm.counts/histo2Dsm.counts)[::-1]"
   ]
  },
  {
   "cell_type": "code",
   "execution_count": null,
   "metadata": {
    "ExecuteTime": {
     "end_time": "2019-05-30T13:50:08.480305Z",
     "start_time": "2019-05-30T13:50:08.471550Z"
    },
    "hidden": true
   },
   "outputs": [],
   "source": [
    "np.sqrt(np.sum(np.power((histo2Dbsm.counts/histo2Dsm.counts)[::-1]-1,2)))"
   ]
  },
  {
   "cell_type": "code",
   "execution_count": null,
   "metadata": {
    "ExecuteTime": {
     "end_time": "2019-05-30T13:48:18.348825Z",
     "start_time": "2019-05-30T13:48:18.068245Z"
    },
    "hidden": true
   },
   "outputs": [],
   "source": [
    "_cw=1e-10\n",
    "_ebeam=1500\n",
    "mydata=_p_final.query('ebeam=='+str(_ebeam)).query('cW=='+str(_cw)).query('pTjj>1450')\n",
    "histo2Dbsm=histoPlot2D(mydata,x='AbsCosStarHad',y='AbsCosStarLep',bins = [3,3], normed=True, cmap='Blues',xlabel=\"$cos\\\\theta_{\\\\ell\\\\nu}^*$\",\\\n",
    "              ylabel=\"$cos\\\\theta_{qq'}^*$\",title=\"$e^+e^- \\\\to WW \\quad\\\\sqrt{s}=$\"+str(int(2*_ebeam/1000))\\\n",
    "              +\" TeV $\\\\quad C_W \\\\cdot$TeV$^2=$\"+str(_cw))"
   ]
  },
  {
   "cell_type": "code",
   "execution_count": null,
   "metadata": {
    "ExecuteTime": {
     "end_time": "2019-05-30T13:48:30.476871Z",
     "start_time": "2019-05-30T13:48:30.196321Z"
    },
    "hidden": true
   },
   "outputs": [],
   "source": [
    "_cw=0\n",
    "_ebeam=1500\n",
    "mydata=_p_final.query('ebeam=='+str(_ebeam)).query('cW=='+str(_cw)).query('pTjj>1450')\n",
    "histo2Dsm=histoPlot2D(mydata,x='AbsCosStarHad',y='AbsCosStarLep',bins = [3,3], normed=True, cmap='Blues',xlabel=\"$cos\\\\theta_{\\\\ell\\\\nu}^*$\",\\\n",
    "              ylabel=\"$cos\\\\theta_{qq'}^*$\",title=\"$e^+e^- \\\\to WW \\quad\\\\sqrt{s}=$\"+str(int(2*_ebeam/1000))\\\n",
    "              +\" TeV $\\\\quad C_W \\\\cdot$TeV$^2=$\"+str(_cw))"
   ]
  },
  {
   "cell_type": "code",
   "execution_count": null,
   "metadata": {
    "ExecuteTime": {
     "end_time": "2019-05-30T13:49:42.993108Z",
     "start_time": "2019-05-30T13:49:42.984229Z"
    },
    "hidden": true
   },
   "outputs": [],
   "source": [
    "np.sqrt(np.sum(np.power((histo2Dbsm.counts/histo2Dsm.counts)[::-1]-1,2)))"
   ]
  },
  {
   "cell_type": "code",
   "execution_count": null,
   "metadata": {
    "ExecuteTime": {
     "end_time": "2019-05-30T12:58:01.501813Z",
     "start_time": "2019-05-30T12:58:01.182175Z"
    },
    "hidden": true
   },
   "outputs": [],
   "source": [
    "_cw=0\n",
    "_ebeam=1500\n",
    "_histo2Dsm = plt.hist2d( _p_final.query('ebeam=='+str(_ebeam)).query('cW=='+str(_cw))['AbsCosStarHad'],_p_final.query('ebeam=='+str(_ebeam)).query('cW=='+str(_cw))['AbsCosStarLep'], \\\n",
    "           bins = [5,5],normed=True,cmap='Blues', range=[[0,1],[0,1]])\n",
    "plt.title(\"$e^+e^- \\\\to WW \\quad\\\\sqrt{s}=$\"+str(2*_ebeam/1000)+\"$TeV\\\\quad C_W \\\\cdot TeV^2=$\"+str(_cw))\n",
    "plt.xlabel(\"$cos\\\\theta_{\\\\ell\\\\nu}^*$\")\n",
    "plt.ylabel(\"$cos\\\\theta_{qq'}^*$\")\n",
    "plt.colorbar()\n",
    "plt.show()\n",
    "histo2Dsm = nc.Numpy2DHistogramData(_histo2Dsm)\n",
    "del _cw, _ebeam"
   ]
  },
  {
   "cell_type": "markdown",
   "metadata": {
    "ExecuteTime": {
     "end_time": "2019-03-12T18:24:28.206625Z",
     "start_time": "2019-03-12T18:24:28.193711Z"
    },
    "heading_collapsed": true
   },
   "source": [
    "#### Fits"
   ]
  },
  {
   "cell_type": "code",
   "execution_count": null,
   "metadata": {
    "hidden": true
   },
   "outputs": [],
   "source": []
  },
  {
   "cell_type": "code",
   "execution_count": null,
   "metadata": {
    "ExecuteTime": {
     "end_time": "2019-03-12T18:37:21.579040Z",
     "start_time": "2019-03-12T18:37:21.571700Z"
    },
    "hidden": true
   },
   "outputs": [],
   "source": [
    "(bins[:-1]+bins[1:])/2"
   ]
  },
  {
   "cell_type": "code",
   "execution_count": null,
   "metadata": {
    "ExecuteTime": {
     "end_time": "2019-03-12T18:37:52.291237Z",
     "start_time": "2019-03-12T18:37:52.282264Z"
    },
    "hidden": true
   },
   "outputs": [],
   "source": [
    "def _func(x, L, T):\n",
    "        return L*(1-x**2) + T * ( 1 + x**2 )\n",
    "def midpoints(bins):\n",
    "    return (bins[:-1]+bins[1:])/2\n",
    "popt, pcov = curve_fit(_func, midpoints(bins), n,p0=[0.5,0.5])"
   ]
  },
  {
   "cell_type": "code",
   "execution_count": null,
   "metadata": {
    "ExecuteTime": {
     "end_time": "2019-03-12T18:54:48.373766Z",
     "start_time": "2019-03-12T18:54:48.207530Z"
    },
    "hidden": true
   },
   "outputs": [],
   "source": [
    "plt.plot(midpoints(bins),_func(midpoints(bins),popt[0],popt[1]))\n",
    "plt.plot(midpoints(bins),n)\n",
    "plt.show()"
   ]
  }
 ],
 "metadata": {
  "celltoolbar": "Initialization Cell",
  "kernelspec": {
   "display_name": "Python 3 (ipykernel)",
   "language": "python",
   "name": "python3"
  },
  "language_info": {
   "codemirror_mode": {
    "name": "ipython",
    "version": 3
   },
   "file_extension": ".py",
   "mimetype": "text/x-python",
   "name": "python",
   "nbconvert_exporter": "python",
   "pygments_lexer": "ipython3",
   "version": "3.11.3"
  },
  "latex_envs": {
   "LaTeX_envs_menu_present": true,
   "autoclose": false,
   "autocomplete": true,
   "bibliofile": "biblio.bib",
   "cite_by": "apalike",
   "current_citInitial": 1,
   "eqLabelWithNumbers": true,
   "eqNumInitial": 1,
   "hotkeys": {
    "equation": "Ctrl-E",
    "itemize": "Ctrl-I"
   },
   "labels_anchors": false,
   "latex_user_defs": false,
   "report_style_numbering": false,
   "user_envs_cfg": false
  },
  "toc": {
   "nav_menu": {
    "height": "414px",
    "width": "341px"
   },
   "number_sections": true,
   "sideBar": false,
   "skip_h1_title": false,
   "toc_cell": true,
   "toc_position": {
    "height": "1141px",
    "left": "1941px",
    "top": "135px",
    "width": "165px"
   },
   "toc_section_display": true,
   "toc_window_display": false
  }
 },
 "nbformat": 4,
 "nbformat_minor": 4
}
