{
 "cells": [
  {
   "cell_type": "code",
   "execution_count": 1,
   "metadata": {
    "ExecuteTime": {
     "end_time": "2019-05-29T09:45:28.734979Z",
     "start_time": "2019-05-29T09:45:27.170982Z"
    }
   },
   "outputs": [],
   "source": [
    "import lorentz\n",
    "import importlib\n",
    "import pylhe\n",
    "import numpy as np\n",
    "import utils as u\n",
    "import NumpyClasses as npc"
   ]
  },
  {
   "cell_type": "code",
   "execution_count": 2,
   "metadata": {
    "ExecuteTime": {
     "end_time": "2019-05-29T09:45:28.743180Z",
     "start_time": "2019-05-29T09:45:28.736901Z"
    }
   },
   "outputs": [
    {
     "data": {
      "text/plain": [
       "<module 'utils' from '/Users/roberto/scriptbelt/utils.py'>"
      ]
     },
     "execution_count": 2,
     "metadata": {},
     "output_type": "execute_result"
    }
   ],
   "source": [
    "importlib.reload(u)"
   ]
  },
  {
   "cell_type": "code",
   "execution_count": 13,
   "metadata": {
    "ExecuteTime": {
     "end_time": "2019-06-07T19:18:39.283426Z",
     "start_time": "2019-06-07T19:18:39.222062Z"
    }
   },
   "outputs": [
    {
     "data": {
      "text/plain": [
       "<module 'lorentz' from '/Users/roberto/humanroot/utils/PyLHEanalysis/lorentz.py'>"
      ]
     },
     "execution_count": 13,
     "metadata": {},
     "output_type": "execute_result"
    }
   ],
   "source": [
    "importlib.reload(lorentz)"
   ]
  },
  {
   "cell_type": "code",
   "execution_count": 4,
   "metadata": {
    "ExecuteTime": {
     "end_time": "2019-05-29T09:45:28.758039Z",
     "start_time": "2019-05-29T09:45:28.752060Z"
    }
   },
   "outputs": [
    {
     "data": {
      "text/plain": [
       "array([ 0.40824829, -0.81649658,  0.40824829])"
      ]
     },
     "execution_count": 4,
     "metadata": {},
     "output_type": "execute_result"
    }
   ],
   "source": [
    "_fv=lorentz.LorentzVector(px=3,py=2,pz=1,e=14)\n",
    "_pl=lorentz.LorentzVector(px=0.1,py=0.2,pz=0.3,e=1.6)\n",
    "\n",
    "np.dot(_fv.NewTriadFromLorentzVector(second3vector=_pl.three_components() )['prime2x'],np.array([1,0,0]) )"
   ]
  },
  {
   "cell_type": "code",
   "execution_count": 5,
   "metadata": {
    "ExecuteTime": {
     "end_time": "2019-05-29T09:45:28.764143Z",
     "start_time": "2019-05-29T09:45:28.759682Z"
    }
   },
   "outputs": [
    {
     "data": {
      "text/plain": [
       "array([[ 0.40824829, -0.81649658,  0.40824829],\n",
       "       [ 0.43643578, -0.21821789, -0.87287156],\n",
       "       [ 0.80178373,  0.53452248,  0.26726124]])"
      ]
     },
     "execution_count": 5,
     "metadata": {},
     "output_type": "execute_result"
    }
   ],
   "source": [
    "newBasis=_fv.NewTriadFromLorentzVector(second3vector=_pl.three_components() )\n",
    "newBasis['x2prime']"
   ]
  },
  {
   "cell_type": "code",
   "execution_count": 6,
   "metadata": {
    "ExecuteTime": {
     "end_time": "2019-05-29T09:45:28.768791Z",
     "start_time": "2019-05-29T09:45:28.765996Z"
    }
   },
   "outputs": [
    {
     "name": "stdout",
     "output_type": "stream",
     "text": [
      "(1.3877787807814457e-17, -0.26186146828319085, 0.26726124191242434, 1.6)\n"
     ]
    }
   ],
   "source": [
    "newpl=_pl.Change3DBasis(newBasis['vectors'])\n",
    "print(newpl.components()) # same as in Mathematica"
   ]
  },
  {
   "cell_type": "code",
   "execution_count": 7,
   "metadata": {
    "ExecuteTime": {
     "end_time": "2019-05-29T09:45:28.774386Z",
     "start_time": "2019-05-29T09:45:28.770672Z"
    }
   },
   "outputs": [
    {
     "data": {
      "text/plain": [
       "0.2672612419124244"
      ]
     },
     "execution_count": 7,
     "metadata": {},
     "output_type": "execute_result"
    }
   ],
   "source": [
    "_fv.beta_scalar() # Same as in Mathematica"
   ]
  },
  {
   "cell_type": "code",
   "execution_count": 8,
   "metadata": {
    "ExecuteTime": {
     "end_time": "2019-05-29T09:45:28.778615Z",
     "start_time": "2019-05-29T09:45:28.775858Z"
    }
   },
   "outputs": [
    {
     "name": "stdout",
     "output_type": "stream",
     "text": [
      "(1.3877787807814457e-17, -0.26186146828319085, 0.7211102550927979, 1.734523400986977)\n"
     ]
    }
   ],
   "source": [
    "_lGen4VPrimeBoosted=newpl.BoostBetaAlongZ( _fv.beta_scalar() )\n",
    "print(_lGen4VPrimeBoosted.components()) # Same as in Mathematica"
   ]
  },
  {
   "cell_type": "code",
   "execution_count": 9,
   "metadata": {
    "ExecuteTime": {
     "end_time": "2019-05-29T09:45:28.783406Z",
     "start_time": "2019-05-29T09:45:28.780518Z"
    }
   },
   "outputs": [
    {
     "name": "stdout",
     "output_type": "stream",
     "text": [
      "(0.46388875270994456, 0.44259250180662973, 0.4212962509033148, 1.734523400986977)\n"
     ]
    }
   ],
   "source": [
    "_lGen4VPrimeBoostedUnprimed=_lGen4VPrimeBoosted.Change3DBasisRotation( newBasis['prime2x'] )\n",
    "print(_lGen4VPrimeBoostedUnprimed.components()) # Same as in Mathematica"
   ]
  },
  {
   "cell_type": "markdown",
   "metadata": {},
   "source": [
    "#### Test of the function to get the Lepton $\\phi$ in the Frame aligned along its mother W boson"
   ]
  },
  {
   "cell_type": "code",
   "execution_count": 16,
   "metadata": {
    "ExecuteTime": {
     "end_time": "2019-06-07T19:20:15.670260Z",
     "start_time": "2019-06-07T19:20:15.667098Z"
    }
   },
   "outputs": [],
   "source": [
    "_fv=lorentz.LorentzVector(px=3,py=-2,pz=1,e=14)\n",
    "_pl=lorentz.LorentzVector(px=0.1,py=0.2,pz=0.3,e=1.6)"
   ]
  },
  {
   "cell_type": "code",
   "execution_count": 17,
   "metadata": {
    "ExecuteTime": {
     "end_time": "2019-06-07T19:20:16.288595Z",
     "start_time": "2019-06-07T19:20:16.284419Z"
    }
   },
   "outputs": [
    {
     "data": {
      "text/plain": [
       "0.9283639280080875"
      ]
     },
     "execution_count": 17,
     "metadata": {},
     "output_type": "execute_result"
    }
   ],
   "source": [
    "_pl.phi_wrt_reference(_fv)"
   ]
  },
  {
   "cell_type": "markdown",
   "metadata": {},
   "source": [
    "#### Test of the function to get the Lepton 4V in the Frame of rest of its mother W boson"
   ]
  },
  {
   "cell_type": "code",
   "execution_count": 10,
   "metadata": {
    "ExecuteTime": {
     "end_time": "2019-05-29T09:45:28.790896Z",
     "start_time": "2019-05-29T09:45:28.784982Z"
    }
   },
   "outputs": [
    {
     "name": "stdout",
     "output_type": "stream",
     "text": [
      "[ 0.40824829 -0.81649658  0.40824829]\n",
      "[[ 0.40824829 -0.81649658  0.40824829]\n",
      " [ 0.43643578 -0.21821789 -0.87287156]\n",
      " [ 0.80178373  0.53452248  0.26726124]]\n",
      "(1.3877787807814457e-17, -0.26186146828319085, 0.26726124191242434, 1.6)\n",
      "0.2672612419124244\n",
      "(1.3877787807814457e-17, -0.26186146828319085, -0.16641005886756888, 1.5862735376547568)\n",
      "(-0.2477105912847126, -0.03180706085647507, 0.18409646957176246, 1.5862735376547568)\n"
     ]
    },
    {
     "data": {
      "text/plain": [
       "<lorentz.LorentzVector at 0x111fe7ba8>"
      ]
     },
     "execution_count": 10,
     "metadata": {},
     "output_type": "execute_result"
    }
   ],
   "source": [
    "Mother=lorentz.LorentzVector(px=3,py=2,pz=1,e=14)\n",
    "Daughter=lorentz.LorentzVector(px=0.1,py=0.2,pz=0.3,e=1.6)\n",
    "\n",
    "Daughter.ToMothersFrameWithZalongMotherParticleMomentum(Mother,DEBUG=True)\n",
    "\n"
   ]
  },
  {
   "cell_type": "code",
   "execution_count": 11,
   "metadata": {
    "ExecuteTime": {
     "end_time": "2019-05-29T09:45:28.797278Z",
     "start_time": "2019-05-29T09:45:28.792518Z"
    }
   },
   "outputs": [
    {
     "name": "stdout",
     "output_type": "stream",
     "text": [
      "(-0.2477105912847126, -0.03180706085647507, 0.18409646957176246, 1.5862735376547568)\n"
     ]
    },
    {
     "data": {
      "text/plain": [
       "<lorentz.LorentzVector at 0x111fe7dd8>"
      ]
     },
     "execution_count": 11,
     "metadata": {},
     "output_type": "execute_result"
    }
   ],
   "source": [
    "Mother=lorentz.LorentzVector(px=3,py=2,pz=1,e=14)\n",
    "Daughter=lorentz.LorentzVector(px=0.1,py=0.2,pz=0.3,e=1.6)\n",
    "\n",
    "Daughter.ToMothersFrameWithZalongMotherParticleMomentum(Mother)#,DEBUG=True)\n",
    "\n"
   ]
  },
  {
   "cell_type": "code",
   "execution_count": null,
   "metadata": {},
   "outputs": [],
   "source": []
  }
 ],
 "metadata": {
  "kernelspec": {
   "display_name": "Python 3",
   "language": "python",
   "name": "python3"
  },
  "language_info": {
   "codemirror_mode": {
    "name": "ipython",
    "version": 3
   },
   "file_extension": ".py",
   "mimetype": "text/x-python",
   "name": "python",
   "nbconvert_exporter": "python",
   "pygments_lexer": "ipython3",
   "version": "3.7.0"
  },
  "latex_envs": {
   "LaTeX_envs_menu_present": true,
   "autocomplete": true,
   "bibliofile": "biblio.bib",
   "cite_by": "apalike",
   "current_citInitial": 1,
   "eqLabelWithNumbers": true,
   "eqNumInitial": 1,
   "hotkeys": {
    "equation": "Ctrl-E",
    "itemize": "Ctrl-I"
   },
   "labels_anchors": false,
   "latex_user_defs": false,
   "report_style_numbering": false,
   "user_envs_cfg": false
  }
 },
 "nbformat": 4,
 "nbformat_minor": 2
}
